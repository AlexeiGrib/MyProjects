{
 "cells": [
  {
   "cell_type": "markdown",
   "metadata": {},
   "source": [
    "# Описание проекта \"\"Определение оптимального тарифа\".\n",
    "\n",
    "В нашем распоряжении имеются данные компании «Мегалайн» о 500 пользователях и их активности за 2018 год.\n",
    "\n",
    "В рамках проекта мы имеем следующие **данные**:\n",
    "\n",
    "- информация о пользователях;\n",
    "\n",
    "\n",
    "- информация о звонках;\n",
    "\n",
    "\n",
    "- информация о сообщениях;\n",
    "\n",
    "\n",
    "- информация об интернет-сессиях;\n",
    "\n",
    "\n",
    "- информация о тарифах.\n",
    "\n",
    "Также в рамках проекта с помощью исходных данных требуется рассчитать следующие дополнительные **параметры**:\n",
    "\n",
    "- количество сделанных звонков и израсходованных минут разговора по месяцам;\n",
    "\n",
    "\n",
    "- количество отправленных сообщений по месяцам;\n",
    "\n",
    "\n",
    "- объем израсходованного интернет-трафика по месяцам;\n",
    "\n",
    "\n",
    "- помесячную выручку с каждого пользователя.\n",
    "\n",
    "\n",
    "**Целью проекта** является определение наиболее рентабельного тарифа из предлагаемых компанией - «Смарт» или «Ультра», а также наиболее значимого с точки зрения формирования дохода региона - Москва или другие регионы.\n",
    "\n",
    "**Решение**, выработанное в рамках проекта, позволит коммерческому департаменту «Мегалайн» приниять верное управленческое решение о приоритизации эффективного тарифного плана и скорректировать кампании продаж в целях **максимизации прибыли**.\n",
    "\n",
    "Для этого необходимо:\n",
    "\n",
    "1. Ответить на следующие **вопросы:**\n",
    "\n",
    "\n",
    "- Сколько минут разговора требуется пользователям каждого тарифа в месяц?\n",
    "\n",
    "\n",
    "- Сколько сообщений требуется пользователям каждого тарифа в месяц?\n",
    "\n",
    "\n",
    "- Какой объём интернет-трафика требуется пользователям каждого тарифа в месяц?\n",
    "\n",
    "\n",
    "Также необходимо посчитать среднее значение, дисперсию и стандартное отклонение для каждого ответа, а также построить гистограммы и описать распределения.\n",
    "\n",
    "\n",
    "2. Подтвердить или опровергнуть следующие **гипотезы**:\n",
    "\n",
    "\n",
    "- средние платежи абонентов тарифов «Ультра» и «Смарт» различаются;\n",
    "\n",
    "\n",
    "- средние платежи абонентов из Москвы отличаются от средних платежей абонентов из других регионов.\n",
    "\n",
    "\n",
    "Работу над проектом предлагаю проводить в следующем **порядке**:\n",
    "\n",
    "\n",
    "1. Чтение данных, их изучение, поиск аномальных и пропущенных значений в данных.\n",
    "\n",
    "\n",
    "2. Преобразование типов данных, обработка пропущенных и аномальных значений.\n",
    "\n",
    "\n",
    "3. Расчёт дополнительных параметров.\n",
    "\n",
    "\n",
    "4. Анализ данных.\n",
    "\n",
    "\n",
    "5. Построение гипотез и их проверка."
   ]
  },
  {
   "cell_type": "markdown",
   "metadata": {},
   "source": [
    "# Этап 1. Чтение данных, их изучение, поиск аномальных и пропущенных значений в данных."
   ]
  },
  {
   "cell_type": "markdown",
   "metadata": {},
   "source": [
    "## Этап 1.1. Ипорт библиотек, чтение файлов."
   ]
  },
  {
   "cell_type": "code",
   "execution_count": 1,
   "metadata": {},
   "outputs": [],
   "source": [
    "import pandas as pd\n",
    "import warnings\n",
    "warnings.filterwarnings('ignore')\n",
    "import matplotlib.pyplot as plt\n",
    "import numpy as np\n",
    "import math\n",
    "from scipy import stats as st"
   ]
  },
  {
   "cell_type": "code",
   "execution_count": 2,
   "metadata": {},
   "outputs": [],
   "source": [
    "calls = pd.read_csv('/datasets/calls.csv')\n",
    "internet = pd.read_csv('/datasets/internet.csv', index_col = 0)\n",
    "messages = pd.read_csv('/datasets/messages.csv')\n",
    "tariffs = pd.read_csv('/datasets/tariffs.csv')\n",
    "users = pd.read_csv('/datasets/users.csv')"
   ]
  },
  {
   "cell_type": "markdown",
   "metadata": {},
   "source": [
    "Так как мы Ваш покорный слуга запланировал множество направлений изучения наших наборов данных, целесообразо написать функцию, которая будет принимать на вход исследуемый df, а на выход поставлять различную информацию о нём: первые 10 строк, общая информация, размер, количество пропущенных значений, а также количество уникальных значений.\n",
    "\n",
    "Отмечу, что большое количество print() здесь лишь для того, чтобы сделать результат работы функции более читаемым, отделяя результаты работы методов друг от друга."
   ]
  },
  {
   "cell_type": "code",
   "execution_count": 3,
   "metadata": {},
   "outputs": [],
   "source": [
    "def df_info(df):\n",
    "    print('Первые 10 строк DF')\n",
    "    display(df.head(10))\n",
    "    print('Общая информация о DF')\n",
    "    print(((df.info())))\n",
    "    print('Размер df:', df.shape)\n",
    "    print()\n",
    "    print('Пропуски в df')\n",
    "    display(df.isna().sum())\n",
    "    for col in df.columns:\n",
    "        print('*** Поле', col + ': уникальные значения ***')\n",
    "        display(df[col].value_counts())"
   ]
  },
  {
   "cell_type": "markdown",
   "metadata": {},
   "source": [
    "## Этап 1.2. Исследование df calls."
   ]
  },
  {
   "cell_type": "markdown",
   "metadata": {},
   "source": [
    "Исследуем df calls, содержащий информацию о звонках абонентов.\n",
    "\n",
    "Описание полей calls:\n",
    "\n",
    "- id — уникальный номер звонка;\n",
    "\n",
    "- call_date — дата звонка;\n",
    "\n",
    "- duration — длительность звонка в минутах;\n",
    "\n",
    "- user_id — идентификатор пользователя, сделавшего звонок."
   ]
  },
  {
   "cell_type": "code",
   "execution_count": 4,
   "metadata": {
    "scrolled": true
   },
   "outputs": [
    {
     "name": "stdout",
     "output_type": "stream",
     "text": [
      "Первые 10 строк DF\n"
     ]
    },
    {
     "data": {
      "text/html": [
       "<div>\n",
       "<style scoped>\n",
       "    .dataframe tbody tr th:only-of-type {\n",
       "        vertical-align: middle;\n",
       "    }\n",
       "\n",
       "    .dataframe tbody tr th {\n",
       "        vertical-align: top;\n",
       "    }\n",
       "\n",
       "    .dataframe thead th {\n",
       "        text-align: right;\n",
       "    }\n",
       "</style>\n",
       "<table border=\"1\" class=\"dataframe\">\n",
       "  <thead>\n",
       "    <tr style=\"text-align: right;\">\n",
       "      <th></th>\n",
       "      <th>id</th>\n",
       "      <th>call_date</th>\n",
       "      <th>duration</th>\n",
       "      <th>user_id</th>\n",
       "    </tr>\n",
       "  </thead>\n",
       "  <tbody>\n",
       "    <tr>\n",
       "      <td>0</td>\n",
       "      <td>1000_0</td>\n",
       "      <td>2018-07-25</td>\n",
       "      <td>0.00</td>\n",
       "      <td>1000</td>\n",
       "    </tr>\n",
       "    <tr>\n",
       "      <td>1</td>\n",
       "      <td>1000_1</td>\n",
       "      <td>2018-08-17</td>\n",
       "      <td>0.00</td>\n",
       "      <td>1000</td>\n",
       "    </tr>\n",
       "    <tr>\n",
       "      <td>2</td>\n",
       "      <td>1000_2</td>\n",
       "      <td>2018-06-11</td>\n",
       "      <td>2.85</td>\n",
       "      <td>1000</td>\n",
       "    </tr>\n",
       "    <tr>\n",
       "      <td>3</td>\n",
       "      <td>1000_3</td>\n",
       "      <td>2018-09-21</td>\n",
       "      <td>13.80</td>\n",
       "      <td>1000</td>\n",
       "    </tr>\n",
       "    <tr>\n",
       "      <td>4</td>\n",
       "      <td>1000_4</td>\n",
       "      <td>2018-12-15</td>\n",
       "      <td>5.18</td>\n",
       "      <td>1000</td>\n",
       "    </tr>\n",
       "    <tr>\n",
       "      <td>5</td>\n",
       "      <td>1000_5</td>\n",
       "      <td>2018-11-02</td>\n",
       "      <td>0.00</td>\n",
       "      <td>1000</td>\n",
       "    </tr>\n",
       "    <tr>\n",
       "      <td>6</td>\n",
       "      <td>1000_6</td>\n",
       "      <td>2018-10-18</td>\n",
       "      <td>0.00</td>\n",
       "      <td>1000</td>\n",
       "    </tr>\n",
       "    <tr>\n",
       "      <td>7</td>\n",
       "      <td>1000_7</td>\n",
       "      <td>2018-08-22</td>\n",
       "      <td>18.31</td>\n",
       "      <td>1000</td>\n",
       "    </tr>\n",
       "    <tr>\n",
       "      <td>8</td>\n",
       "      <td>1000_8</td>\n",
       "      <td>2018-09-15</td>\n",
       "      <td>18.44</td>\n",
       "      <td>1000</td>\n",
       "    </tr>\n",
       "    <tr>\n",
       "      <td>9</td>\n",
       "      <td>1000_9</td>\n",
       "      <td>2018-08-15</td>\n",
       "      <td>0.00</td>\n",
       "      <td>1000</td>\n",
       "    </tr>\n",
       "  </tbody>\n",
       "</table>\n",
       "</div>"
      ],
      "text/plain": [
       "       id   call_date  duration  user_id\n",
       "0  1000_0  2018-07-25      0.00     1000\n",
       "1  1000_1  2018-08-17      0.00     1000\n",
       "2  1000_2  2018-06-11      2.85     1000\n",
       "3  1000_3  2018-09-21     13.80     1000\n",
       "4  1000_4  2018-12-15      5.18     1000\n",
       "5  1000_5  2018-11-02      0.00     1000\n",
       "6  1000_6  2018-10-18      0.00     1000\n",
       "7  1000_7  2018-08-22     18.31     1000\n",
       "8  1000_8  2018-09-15     18.44     1000\n",
       "9  1000_9  2018-08-15      0.00     1000"
      ]
     },
     "metadata": {},
     "output_type": "display_data"
    },
    {
     "name": "stdout",
     "output_type": "stream",
     "text": [
      "Общая информация о DF\n",
      "<class 'pandas.core.frame.DataFrame'>\n",
      "RangeIndex: 202607 entries, 0 to 202606\n",
      "Data columns (total 4 columns):\n",
      "id           202607 non-null object\n",
      "call_date    202607 non-null object\n",
      "duration     202607 non-null float64\n",
      "user_id      202607 non-null int64\n",
      "dtypes: float64(1), int64(1), object(2)\n",
      "memory usage: 6.2+ MB\n",
      "None\n",
      "Размер df: (202607, 4)\n",
      "\n",
      "Пропуски в df\n"
     ]
    },
    {
     "data": {
      "text/plain": [
       "id           0\n",
       "call_date    0\n",
       "duration     0\n",
       "user_id      0\n",
       "dtype: int64"
      ]
     },
     "metadata": {},
     "output_type": "display_data"
    },
    {
     "name": "stdout",
     "output_type": "stream",
     "text": [
      "*** Поле id: уникальные значения ***\n"
     ]
    },
    {
     "data": {
      "text/plain": [
       "1455_556    1\n",
       "1352_450    1\n",
       "1186_85     1\n",
       "1240_446    1\n",
       "1045_216    1\n",
       "           ..\n",
       "1341_182    1\n",
       "1176_294    1\n",
       "1324_513    1\n",
       "1449_48     1\n",
       "1388_53     1\n",
       "Name: id, Length: 202607, dtype: int64"
      ]
     },
     "metadata": {},
     "output_type": "display_data"
    },
    {
     "name": "stdout",
     "output_type": "stream",
     "text": [
      "*** Поле call_date: уникальные значения ***\n"
     ]
    },
    {
     "data": {
      "text/plain": [
       "2018-12-31    1435\n",
       "2018-12-29    1202\n",
       "2018-12-30    1192\n",
       "2018-12-22    1158\n",
       "2018-12-26    1149\n",
       "              ... \n",
       "2018-01-05      20\n",
       "2018-01-07      18\n",
       "2018-01-02       9\n",
       "2018-01-03       7\n",
       "2018-01-01       5\n",
       "Name: call_date, Length: 365, dtype: int64"
      ]
     },
     "metadata": {},
     "output_type": "display_data"
    },
    {
     "name": "stdout",
     "output_type": "stream",
     "text": [
      "*** Поле duration: уникальные значения ***\n"
     ]
    },
    {
     "data": {
      "text/plain": [
       "0.00     39613\n",
       "4.49       142\n",
       "5.50       142\n",
       "6.15       141\n",
       "6.38       141\n",
       "         ...  \n",
       "27.02        1\n",
       "26.19        1\n",
       "25.34        1\n",
       "27.13        1\n",
       "24.28        1\n",
       "Name: duration, Length: 2871, dtype: int64"
      ]
     },
     "metadata": {},
     "output_type": "display_data"
    },
    {
     "name": "stdout",
     "output_type": "stream",
     "text": [
      "*** Поле user_id: уникальные значения ***\n"
     ]
    },
    {
     "data": {
      "text/plain": [
       "1377    1760\n",
       "1168    1692\n",
       "1375    1560\n",
       "1453    1440\n",
       "1196    1240\n",
       "        ... \n",
       "1397      33\n",
       "1442      28\n",
       "1373      24\n",
       "1016      20\n",
       "1257      14\n",
       "Name: user_id, Length: 492, dtype: int64"
      ]
     },
     "metadata": {},
     "output_type": "display_data"
    }
   ],
   "source": [
    "df_info(calls)"
   ]
  },
  {
   "cell_type": "markdown",
   "metadata": {},
   "source": [
    "Видим, что в df содержится 202 607 записей. DF имеет следующие типы данных:\n",
    "\n",
    "- категориальный (2 поля);\n",
    "\n",
    "- дробное значение (1 поле);\n",
    "\n",
    "- целочисленное значение (1 поле).\n",
    "\n",
    "Пропущенные значения в df отсутствуют.\n",
    "\n",
    "В поле id видим, что каждое значение id звонкак упоминается в df только 1 раз, что хорошо вписывается в картину мира, где каждому звонку присвается отдельный уникальный ID. Аномалий не обнаружено.\n",
    "\n",
    "В поле call_date видим, что данные лежат аккурат в промежутке между 2018-01-01 и 2018-12-31, что соответствует условию задачи. Аномалий не обнаружено.\n",
    "\n",
    "В поле duration видим, что в df присутствуют звонки, длительность которых составляет 0 минут, и их доля достаточно велика - 19,55%. Удалять такое количество данных из df будет опрометчиво, поэтому попытаемся что-нибудь сделать с этим полем в ходе предварительной обработки данных.\n",
    "\n",
    "Поле user_id также ничем примечательным себя не выдаёт, поэтому можно сказать, что и в нём нет аномалий."
   ]
  },
  {
   "cell_type": "markdown",
   "metadata": {},
   "source": [
    "## Этап 1.3. Исследование df internet."
   ]
  },
  {
   "cell_type": "markdown",
   "metadata": {},
   "source": [
    "Исследуем df internet, содержащий информацию об интернет-сессиях.\n",
    "\n",
    "Описание полей internet:\n",
    "\n",
    "- id — уникальный номер сессии;\n",
    "\n",
    "- mb_used — объём потраченного за сессию интернет-трафика (в мегабайтах);\n",
    "\n",
    "- session_date — дата интернет-сессии;\n",
    "\n",
    "- user_id — идентификатор пользователя."
   ]
  },
  {
   "cell_type": "code",
   "execution_count": 5,
   "metadata": {},
   "outputs": [
    {
     "name": "stdout",
     "output_type": "stream",
     "text": [
      "Первые 10 строк DF\n"
     ]
    },
    {
     "data": {
      "text/html": [
       "<div>\n",
       "<style scoped>\n",
       "    .dataframe tbody tr th:only-of-type {\n",
       "        vertical-align: middle;\n",
       "    }\n",
       "\n",
       "    .dataframe tbody tr th {\n",
       "        vertical-align: top;\n",
       "    }\n",
       "\n",
       "    .dataframe thead th {\n",
       "        text-align: right;\n",
       "    }\n",
       "</style>\n",
       "<table border=\"1\" class=\"dataframe\">\n",
       "  <thead>\n",
       "    <tr style=\"text-align: right;\">\n",
       "      <th></th>\n",
       "      <th>id</th>\n",
       "      <th>mb_used</th>\n",
       "      <th>session_date</th>\n",
       "      <th>user_id</th>\n",
       "    </tr>\n",
       "  </thead>\n",
       "  <tbody>\n",
       "    <tr>\n",
       "      <td>0</td>\n",
       "      <td>1000_0</td>\n",
       "      <td>112.95</td>\n",
       "      <td>2018-11-25</td>\n",
       "      <td>1000</td>\n",
       "    </tr>\n",
       "    <tr>\n",
       "      <td>1</td>\n",
       "      <td>1000_1</td>\n",
       "      <td>1052.81</td>\n",
       "      <td>2018-09-07</td>\n",
       "      <td>1000</td>\n",
       "    </tr>\n",
       "    <tr>\n",
       "      <td>2</td>\n",
       "      <td>1000_2</td>\n",
       "      <td>1197.26</td>\n",
       "      <td>2018-06-25</td>\n",
       "      <td>1000</td>\n",
       "    </tr>\n",
       "    <tr>\n",
       "      <td>3</td>\n",
       "      <td>1000_3</td>\n",
       "      <td>550.27</td>\n",
       "      <td>2018-08-22</td>\n",
       "      <td>1000</td>\n",
       "    </tr>\n",
       "    <tr>\n",
       "      <td>4</td>\n",
       "      <td>1000_4</td>\n",
       "      <td>302.56</td>\n",
       "      <td>2018-09-24</td>\n",
       "      <td>1000</td>\n",
       "    </tr>\n",
       "    <tr>\n",
       "      <td>5</td>\n",
       "      <td>1000_5</td>\n",
       "      <td>399.97</td>\n",
       "      <td>2018-10-02</td>\n",
       "      <td>1000</td>\n",
       "    </tr>\n",
       "    <tr>\n",
       "      <td>6</td>\n",
       "      <td>1000_6</td>\n",
       "      <td>540.08</td>\n",
       "      <td>2018-09-07</td>\n",
       "      <td>1000</td>\n",
       "    </tr>\n",
       "    <tr>\n",
       "      <td>7</td>\n",
       "      <td>1000_7</td>\n",
       "      <td>415.70</td>\n",
       "      <td>2018-07-11</td>\n",
       "      <td>1000</td>\n",
       "    </tr>\n",
       "    <tr>\n",
       "      <td>8</td>\n",
       "      <td>1000_8</td>\n",
       "      <td>505.40</td>\n",
       "      <td>2018-10-08</td>\n",
       "      <td>1000</td>\n",
       "    </tr>\n",
       "    <tr>\n",
       "      <td>9</td>\n",
       "      <td>1000_9</td>\n",
       "      <td>345.54</td>\n",
       "      <td>2018-09-03</td>\n",
       "      <td>1000</td>\n",
       "    </tr>\n",
       "  </tbody>\n",
       "</table>\n",
       "</div>"
      ],
      "text/plain": [
       "       id  mb_used session_date  user_id\n",
       "0  1000_0   112.95   2018-11-25     1000\n",
       "1  1000_1  1052.81   2018-09-07     1000\n",
       "2  1000_2  1197.26   2018-06-25     1000\n",
       "3  1000_3   550.27   2018-08-22     1000\n",
       "4  1000_4   302.56   2018-09-24     1000\n",
       "5  1000_5   399.97   2018-10-02     1000\n",
       "6  1000_6   540.08   2018-09-07     1000\n",
       "7  1000_7   415.70   2018-07-11     1000\n",
       "8  1000_8   505.40   2018-10-08     1000\n",
       "9  1000_9   345.54   2018-09-03     1000"
      ]
     },
     "metadata": {},
     "output_type": "display_data"
    },
    {
     "name": "stdout",
     "output_type": "stream",
     "text": [
      "Общая информация о DF\n",
      "<class 'pandas.core.frame.DataFrame'>\n",
      "Int64Index: 149396 entries, 0 to 149395\n",
      "Data columns (total 4 columns):\n",
      "id              149396 non-null object\n",
      "mb_used         149396 non-null float64\n",
      "session_date    149396 non-null object\n",
      "user_id         149396 non-null int64\n",
      "dtypes: float64(1), int64(1), object(2)\n",
      "memory usage: 5.7+ MB\n",
      "None\n",
      "Размер df: (149396, 4)\n",
      "\n",
      "Пропуски в df\n"
     ]
    },
    {
     "data": {
      "text/plain": [
       "id              0\n",
       "mb_used         0\n",
       "session_date    0\n",
       "user_id         0\n",
       "dtype: int64"
      ]
     },
     "metadata": {},
     "output_type": "display_data"
    },
    {
     "name": "stdout",
     "output_type": "stream",
     "text": [
      "*** Поле id: уникальные значения ***\n"
     ]
    },
    {
     "data": {
      "text/plain": [
       "1381_42     1\n",
       "1011_133    1\n",
       "1184_57     1\n",
       "1021_330    1\n",
       "1312_254    1\n",
       "           ..\n",
       "1296_274    1\n",
       "1024_39     1\n",
       "1134_377    1\n",
       "1489_217    1\n",
       "1385_502    1\n",
       "Name: id, Length: 149396, dtype: int64"
      ]
     },
     "metadata": {},
     "output_type": "display_data"
    },
    {
     "name": "stdout",
     "output_type": "stream",
     "text": [
      "*** Поле mb_used: уникальные значения ***\n"
     ]
    },
    {
     "data": {
      "text/plain": [
       "0.00      19598\n",
       "197.56        9\n",
       "447.30        9\n",
       "335.91        9\n",
       "108.95        8\n",
       "          ...  \n",
       "72.49         1\n",
       "846.22        1\n",
       "429.17        1\n",
       "899.03        1\n",
       "483.87        1\n",
       "Name: mb_used, Length: 70003, dtype: int64"
      ]
     },
     "metadata": {},
     "output_type": "display_data"
    },
    {
     "name": "stdout",
     "output_type": "stream",
     "text": [
      "*** Поле session_date: уникальные значения ***\n"
     ]
    },
    {
     "data": {
      "text/plain": [
       "2018-12-31    1057\n",
       "2018-12-30     903\n",
       "2018-12-25     859\n",
       "2018-12-26     844\n",
       "2018-12-22     834\n",
       "              ... \n",
       "2018-01-05      14\n",
       "2018-01-04       9\n",
       "2018-01-03       6\n",
       "2018-01-01       3\n",
       "2018-01-02       3\n",
       "Name: session_date, Length: 365, dtype: int64"
      ]
     },
     "metadata": {},
     "output_type": "display_data"
    },
    {
     "name": "stdout",
     "output_type": "stream",
     "text": [
      "*** Поле user_id: уникальные значения ***\n"
     ]
    },
    {
     "data": {
      "text/plain": [
       "1496    834\n",
       "1227    812\n",
       "1204    789\n",
       "1240    764\n",
       "1251    759\n",
       "       ... \n",
       "1151     35\n",
       "1467     27\n",
       "1343     26\n",
       "1192     22\n",
       "1399      8\n",
       "Name: user_id, Length: 497, dtype: int64"
      ]
     },
     "metadata": {},
     "output_type": "display_data"
    }
   ],
   "source": [
    "df_info(internet)"
   ]
  },
  {
   "cell_type": "markdown",
   "metadata": {},
   "source": [
    "Видим, что в df содержится 149396 записей. Отмечу, что записей меньше, чем в df calls, однако это может быть связано с тем, что некоторые абоненты могут пользоваться только звонками и не использовать интернет, поэтому с точки зрения суровой реальности телефонии это может не быть предупредительным сигналом к тому, что в df есть проблемы.\n",
    "\n",
    "DF имеет следующие типы данных:\n",
    "\n",
    "- категориальный (2 поля);\n",
    "\n",
    "- дробное значение (1 поле);\n",
    "\n",
    "- целочисленное значение (2 поля).\n",
    "\n",
    "Пропущенные значения в df отсутствуют.\n",
    "\n",
    "Отмечу, в что в df содержится поле unnamed, которое содержит цифру, соответствующую индексу записи в df. О необходимости поля подумаем на этапе предобработки данных, но в блокнотик себе его запишем.\n",
    "\n",
    "Как и в случае с id звонков в df calls, df internet также имеет поле с id сессии, поэтому также кажется логичным тот факт, что каждое значение id в этом поле встречается лишь один раз - не может быть двух сессий с разными id. Аномалий не обнаружено.\n",
    "\n",
    "Поле mb_used описывает количество МБ, которые израсходовал абонент в рамках сессии. Аномальными кажутся сессии, в которых абонент израсходовал 0 МБ трафика. Таких сессий у нас 19598 (или порядка 13%), что также довольно критично по отношению к df, поэтому удалять эти аномальные значения из df мы не будем, а попытаемся использовать какую-либо логику при проведении предварительной обработке данных.\n",
    "\n",
    "Поле user_id, как и в df calls, также ничем примечательным себя не выдаёт, поэтому можно сказать, что в нём нет аномалий.\n",
    "\n",
    "В поле session_date видим, что данные также лежат в промежутке между 2018-01-01 и 2018-12-31, что соответствует условию задачи. Аномалий не обнаружено."
   ]
  },
  {
   "cell_type": "markdown",
   "metadata": {},
   "source": [
    "## Этап 1.4. Исследование df messages."
   ]
  },
  {
   "cell_type": "markdown",
   "metadata": {},
   "source": [
    "Исследуем df messages, содержащий информацию о сообщениях.\n",
    "\n",
    "Описание полей messages:\n",
    "\n",
    "- id — уникальный номер сообщения;\n",
    "\n",
    "- message_date — дата сообщения;\n",
    "\n",
    "- user_id — идентификатор пользователя, отправившего сообщение."
   ]
  },
  {
   "cell_type": "code",
   "execution_count": 6,
   "metadata": {
    "scrolled": true
   },
   "outputs": [
    {
     "name": "stdout",
     "output_type": "stream",
     "text": [
      "Первые 10 строк DF\n"
     ]
    },
    {
     "data": {
      "text/html": [
       "<div>\n",
       "<style scoped>\n",
       "    .dataframe tbody tr th:only-of-type {\n",
       "        vertical-align: middle;\n",
       "    }\n",
       "\n",
       "    .dataframe tbody tr th {\n",
       "        vertical-align: top;\n",
       "    }\n",
       "\n",
       "    .dataframe thead th {\n",
       "        text-align: right;\n",
       "    }\n",
       "</style>\n",
       "<table border=\"1\" class=\"dataframe\">\n",
       "  <thead>\n",
       "    <tr style=\"text-align: right;\">\n",
       "      <th></th>\n",
       "      <th>id</th>\n",
       "      <th>message_date</th>\n",
       "      <th>user_id</th>\n",
       "    </tr>\n",
       "  </thead>\n",
       "  <tbody>\n",
       "    <tr>\n",
       "      <td>0</td>\n",
       "      <td>1000_0</td>\n",
       "      <td>2018-06-27</td>\n",
       "      <td>1000</td>\n",
       "    </tr>\n",
       "    <tr>\n",
       "      <td>1</td>\n",
       "      <td>1000_1</td>\n",
       "      <td>2018-10-08</td>\n",
       "      <td>1000</td>\n",
       "    </tr>\n",
       "    <tr>\n",
       "      <td>2</td>\n",
       "      <td>1000_2</td>\n",
       "      <td>2018-08-04</td>\n",
       "      <td>1000</td>\n",
       "    </tr>\n",
       "    <tr>\n",
       "      <td>3</td>\n",
       "      <td>1000_3</td>\n",
       "      <td>2018-06-16</td>\n",
       "      <td>1000</td>\n",
       "    </tr>\n",
       "    <tr>\n",
       "      <td>4</td>\n",
       "      <td>1000_4</td>\n",
       "      <td>2018-12-05</td>\n",
       "      <td>1000</td>\n",
       "    </tr>\n",
       "    <tr>\n",
       "      <td>5</td>\n",
       "      <td>1000_5</td>\n",
       "      <td>2018-06-20</td>\n",
       "      <td>1000</td>\n",
       "    </tr>\n",
       "    <tr>\n",
       "      <td>6</td>\n",
       "      <td>1000_6</td>\n",
       "      <td>2018-11-19</td>\n",
       "      <td>1000</td>\n",
       "    </tr>\n",
       "    <tr>\n",
       "      <td>7</td>\n",
       "      <td>1000_7</td>\n",
       "      <td>2018-10-29</td>\n",
       "      <td>1000</td>\n",
       "    </tr>\n",
       "    <tr>\n",
       "      <td>8</td>\n",
       "      <td>1000_8</td>\n",
       "      <td>2018-06-25</td>\n",
       "      <td>1000</td>\n",
       "    </tr>\n",
       "    <tr>\n",
       "      <td>9</td>\n",
       "      <td>1000_9</td>\n",
       "      <td>2018-12-18</td>\n",
       "      <td>1000</td>\n",
       "    </tr>\n",
       "  </tbody>\n",
       "</table>\n",
       "</div>"
      ],
      "text/plain": [
       "       id message_date  user_id\n",
       "0  1000_0   2018-06-27     1000\n",
       "1  1000_1   2018-10-08     1000\n",
       "2  1000_2   2018-08-04     1000\n",
       "3  1000_3   2018-06-16     1000\n",
       "4  1000_4   2018-12-05     1000\n",
       "5  1000_5   2018-06-20     1000\n",
       "6  1000_6   2018-11-19     1000\n",
       "7  1000_7   2018-10-29     1000\n",
       "8  1000_8   2018-06-25     1000\n",
       "9  1000_9   2018-12-18     1000"
      ]
     },
     "metadata": {},
     "output_type": "display_data"
    },
    {
     "name": "stdout",
     "output_type": "stream",
     "text": [
      "Общая информация о DF\n",
      "<class 'pandas.core.frame.DataFrame'>\n",
      "RangeIndex: 123036 entries, 0 to 123035\n",
      "Data columns (total 3 columns):\n",
      "id              123036 non-null object\n",
      "message_date    123036 non-null object\n",
      "user_id         123036 non-null int64\n",
      "dtypes: int64(1), object(2)\n",
      "memory usage: 2.8+ MB\n",
      "None\n",
      "Размер df: (123036, 3)\n",
      "\n",
      "Пропуски в df\n"
     ]
    },
    {
     "data": {
      "text/plain": [
       "id              0\n",
       "message_date    0\n",
       "user_id         0\n",
       "dtype: int64"
      ]
     },
     "metadata": {},
     "output_type": "display_data"
    },
    {
     "name": "stdout",
     "output_type": "stream",
     "text": [
      "*** Поле id: уникальные значения ***\n"
     ]
    },
    {
     "data": {
      "text/plain": [
       "1381_42     1\n",
       "1134_230    1\n",
       "1373_50     1\n",
       "1087_36     1\n",
       "1277_819    1\n",
       "           ..\n",
       "1412_197    1\n",
       "1425_775    1\n",
       "1214_115    1\n",
       "1059_12     1\n",
       "1369_334    1\n",
       "Name: id, Length: 123036, dtype: int64"
      ]
     },
     "metadata": {},
     "output_type": "display_data"
    },
    {
     "name": "stdout",
     "output_type": "stream",
     "text": [
      "*** Поле message_date: уникальные значения ***\n"
     ]
    },
    {
     "data": {
      "text/plain": [
       "2018-12-31    859\n",
       "2018-12-30    765\n",
       "2018-12-21    712\n",
       "2018-12-29    702\n",
       "2018-12-26    699\n",
       "             ... \n",
       "2018-01-07     12\n",
       "2018-01-02     10\n",
       "2018-01-05     10\n",
       "2018-01-04     10\n",
       "2018-01-03      4\n",
       "Name: message_date, Length: 364, dtype: int64"
      ]
     },
     "metadata": {},
     "output_type": "display_data"
    },
    {
     "name": "stdout",
     "output_type": "stream",
     "text": [
      "*** Поле user_id: уникальные значения ***\n"
     ]
    },
    {
     "data": {
      "text/plain": [
       "1277    1463\n",
       "1089    1408\n",
       "1231    1384\n",
       "1385    1380\n",
       "1356    1224\n",
       "        ... \n",
       "1389       6\n",
       "1279       5\n",
       "1074       3\n",
       "1159       2\n",
       "1141       1\n",
       "Name: user_id, Length: 426, dtype: int64"
      ]
     },
     "metadata": {},
     "output_type": "display_data"
    }
   ],
   "source": [
    "df_info(messages)"
   ]
  },
  {
   "cell_type": "markdown",
   "metadata": {},
   "source": [
    "Видим, что в df содержится 123036 записей. Отмечу, что этом df, так же, как и в df internet, записей меньше, чем в df calls, однако это может быть связано с тем, что некоторые абоненты могут не отправлять сообщения, используя только звонки и интернет.\n",
    "\n",
    "DF имеет следующие типы данных:\n",
    "\n",
    "- категориальный (2 поля);\n",
    "\n",
    "- целочисленное значение (2 поля).\n",
    "\n",
    "Пропущенные значения в df отсутствуют.\n",
    "\n",
    "Поле id всё так же принимает уникальное значение для каждого уникального сообщения, поле без аномалий.\n",
    "\n",
    "Поле message_date всё так же лежит в 2018 году, поэтому поле также без аномалий.\n",
    "\n",
    "Поле user_id по-прежнему ничем не выделяется, поле без аномалий."
   ]
  },
  {
   "cell_type": "markdown",
   "metadata": {},
   "source": [
    "## Этап 1.5. Исследование df tariffs."
   ]
  },
  {
   "cell_type": "markdown",
   "metadata": {},
   "source": [
    "Исследуем df tariffs, содержащий информацию о тарифах.\n",
    "\n",
    "Описание полей tariffs:\n",
    "\n",
    "\n",
    "- tariff_name — название тарифа;\n",
    "\n",
    "- rub_monthly_fee — ежемесячная абонентская плата в рублях;\n",
    "\n",
    "- minutes_included — количество минут разговора в месяц, включённых в абонентскую плату;\n",
    "\n",
    "- messages_included — количество сообщений в месяц, включённых в абонентскую плату;\n",
    "\n",
    "- mb_per_month_included — объём интернет-трафика, включённого в абонентскую плату (в мегабайтах);\n",
    "\n",
    "- rub_per_minute — стоимость минуты разговора сверх тарифного пакета (например, если в тарифе 100 минут разговора в месяц, то со 101 минуты будет взиматься плата);\n",
    "\n",
    "- rub_per_message — стоимость отправки сообщения сверх тарифного пакета;\n",
    "\n",
    "- rub_per_gb — стоимость дополнительного гигабайта интернет-трафика сверх тарифного пакета (1 гигабайт = 1024 мегабайта)."
   ]
  },
  {
   "cell_type": "code",
   "execution_count": 7,
   "metadata": {},
   "outputs": [
    {
     "name": "stdout",
     "output_type": "stream",
     "text": [
      "Первые 10 строк DF\n"
     ]
    },
    {
     "data": {
      "text/html": [
       "<div>\n",
       "<style scoped>\n",
       "    .dataframe tbody tr th:only-of-type {\n",
       "        vertical-align: middle;\n",
       "    }\n",
       "\n",
       "    .dataframe tbody tr th {\n",
       "        vertical-align: top;\n",
       "    }\n",
       "\n",
       "    .dataframe thead th {\n",
       "        text-align: right;\n",
       "    }\n",
       "</style>\n",
       "<table border=\"1\" class=\"dataframe\">\n",
       "  <thead>\n",
       "    <tr style=\"text-align: right;\">\n",
       "      <th></th>\n",
       "      <th>messages_included</th>\n",
       "      <th>mb_per_month_included</th>\n",
       "      <th>minutes_included</th>\n",
       "      <th>rub_monthly_fee</th>\n",
       "      <th>rub_per_gb</th>\n",
       "      <th>rub_per_message</th>\n",
       "      <th>rub_per_minute</th>\n",
       "      <th>tariff_name</th>\n",
       "    </tr>\n",
       "  </thead>\n",
       "  <tbody>\n",
       "    <tr>\n",
       "      <td>0</td>\n",
       "      <td>50</td>\n",
       "      <td>15360</td>\n",
       "      <td>500</td>\n",
       "      <td>550</td>\n",
       "      <td>200</td>\n",
       "      <td>3</td>\n",
       "      <td>3</td>\n",
       "      <td>smart</td>\n",
       "    </tr>\n",
       "    <tr>\n",
       "      <td>1</td>\n",
       "      <td>1000</td>\n",
       "      <td>30720</td>\n",
       "      <td>3000</td>\n",
       "      <td>1950</td>\n",
       "      <td>150</td>\n",
       "      <td>1</td>\n",
       "      <td>1</td>\n",
       "      <td>ultra</td>\n",
       "    </tr>\n",
       "  </tbody>\n",
       "</table>\n",
       "</div>"
      ],
      "text/plain": [
       "   messages_included  mb_per_month_included  minutes_included  \\\n",
       "0                 50                  15360               500   \n",
       "1               1000                  30720              3000   \n",
       "\n",
       "   rub_monthly_fee  rub_per_gb  rub_per_message  rub_per_minute tariff_name  \n",
       "0              550         200                3               3       smart  \n",
       "1             1950         150                1               1       ultra  "
      ]
     },
     "metadata": {},
     "output_type": "display_data"
    },
    {
     "name": "stdout",
     "output_type": "stream",
     "text": [
      "Общая информация о DF\n",
      "<class 'pandas.core.frame.DataFrame'>\n",
      "RangeIndex: 2 entries, 0 to 1\n",
      "Data columns (total 8 columns):\n",
      "messages_included        2 non-null int64\n",
      "mb_per_month_included    2 non-null int64\n",
      "minutes_included         2 non-null int64\n",
      "rub_monthly_fee          2 non-null int64\n",
      "rub_per_gb               2 non-null int64\n",
      "rub_per_message          2 non-null int64\n",
      "rub_per_minute           2 non-null int64\n",
      "tariff_name              2 non-null object\n",
      "dtypes: int64(7), object(1)\n",
      "memory usage: 256.0+ bytes\n",
      "None\n",
      "Размер df: (2, 8)\n",
      "\n",
      "Пропуски в df\n"
     ]
    },
    {
     "data": {
      "text/plain": [
       "messages_included        0\n",
       "mb_per_month_included    0\n",
       "minutes_included         0\n",
       "rub_monthly_fee          0\n",
       "rub_per_gb               0\n",
       "rub_per_message          0\n",
       "rub_per_minute           0\n",
       "tariff_name              0\n",
       "dtype: int64"
      ]
     },
     "metadata": {},
     "output_type": "display_data"
    },
    {
     "name": "stdout",
     "output_type": "stream",
     "text": [
      "*** Поле messages_included: уникальные значения ***\n"
     ]
    },
    {
     "data": {
      "text/plain": [
       "50      1\n",
       "1000    1\n",
       "Name: messages_included, dtype: int64"
      ]
     },
     "metadata": {},
     "output_type": "display_data"
    },
    {
     "name": "stdout",
     "output_type": "stream",
     "text": [
      "*** Поле mb_per_month_included: уникальные значения ***\n"
     ]
    },
    {
     "data": {
      "text/plain": [
       "30720    1\n",
       "15360    1\n",
       "Name: mb_per_month_included, dtype: int64"
      ]
     },
     "metadata": {},
     "output_type": "display_data"
    },
    {
     "name": "stdout",
     "output_type": "stream",
     "text": [
      "*** Поле minutes_included: уникальные значения ***\n"
     ]
    },
    {
     "data": {
      "text/plain": [
       "3000    1\n",
       "500     1\n",
       "Name: minutes_included, dtype: int64"
      ]
     },
     "metadata": {},
     "output_type": "display_data"
    },
    {
     "name": "stdout",
     "output_type": "stream",
     "text": [
      "*** Поле rub_monthly_fee: уникальные значения ***\n"
     ]
    },
    {
     "data": {
      "text/plain": [
       "550     1\n",
       "1950    1\n",
       "Name: rub_monthly_fee, dtype: int64"
      ]
     },
     "metadata": {},
     "output_type": "display_data"
    },
    {
     "name": "stdout",
     "output_type": "stream",
     "text": [
      "*** Поле rub_per_gb: уникальные значения ***\n"
     ]
    },
    {
     "data": {
      "text/plain": [
       "150    1\n",
       "200    1\n",
       "Name: rub_per_gb, dtype: int64"
      ]
     },
     "metadata": {},
     "output_type": "display_data"
    },
    {
     "name": "stdout",
     "output_type": "stream",
     "text": [
      "*** Поле rub_per_message: уникальные значения ***\n"
     ]
    },
    {
     "data": {
      "text/plain": [
       "3    1\n",
       "1    1\n",
       "Name: rub_per_message, dtype: int64"
      ]
     },
     "metadata": {},
     "output_type": "display_data"
    },
    {
     "name": "stdout",
     "output_type": "stream",
     "text": [
      "*** Поле rub_per_minute: уникальные значения ***\n"
     ]
    },
    {
     "data": {
      "text/plain": [
       "3    1\n",
       "1    1\n",
       "Name: rub_per_minute, dtype: int64"
      ]
     },
     "metadata": {},
     "output_type": "display_data"
    },
    {
     "name": "stdout",
     "output_type": "stream",
     "text": [
      "*** Поле tariff_name: уникальные значения ***\n"
     ]
    },
    {
     "data": {
      "text/plain": [
       "ultra    1\n",
       "smart    1\n",
       "Name: tariff_name, dtype: int64"
      ]
     },
     "metadata": {},
     "output_type": "display_data"
    }
   ],
   "source": [
    "df_info(tariffs)"
   ]
  },
  {
   "cell_type": "markdown",
   "metadata": {},
   "source": [
    "Видим, что в df содержится всего 2 записи, что является абсолютно справедливым, так как у компании только 2 тарифа. \n",
    "\n",
    "DF имеет следующие типы данных:\n",
    "\n",
    "- категориальный (1 поле);\n",
    "\n",
    "- целочисленное значение (7 полей).\n",
    "\n",
    "Пропущенных значений в df нет.\n",
    "\n",
    "Учитывая, что каждое поле содержит только 2 записи, соответствующее 2 тарифным планам, а также отсутствие в df пропусков, можно заключить, что аномальные поля в df также отсутствуют."
   ]
  },
  {
   "cell_type": "markdown",
   "metadata": {},
   "source": [
    "## Этап 1.6. Исследование df users."
   ]
  },
  {
   "cell_type": "markdown",
   "metadata": {},
   "source": [
    "Исследуем df users, содержащий информацию о пользователях.\n",
    "\n",
    "Описание полей users:\n",
    "\n",
    "\n",
    "- user_id — уникальный идентификатор пользователя;\n",
    "\n",
    "- first_name — имя пользователя;\n",
    "\n",
    "- last_name — фамилия пользователя;\n",
    "\n",
    "- age — возраст пользователя (годы);\n",
    "\n",
    "- reg_date — дата подключения тарифа (день, месяц, год);\n",
    "\n",
    "- churn_date — дата прекращения пользования тарифом;\n",
    "\n",
    "- city — город проживания пользователя;\n",
    "\n",
    "- tariff — название тарифного плана."
   ]
  },
  {
   "cell_type": "code",
   "execution_count": 8,
   "metadata": {},
   "outputs": [
    {
     "name": "stdout",
     "output_type": "stream",
     "text": [
      "Первые 10 строк DF\n"
     ]
    },
    {
     "data": {
      "text/html": [
       "<div>\n",
       "<style scoped>\n",
       "    .dataframe tbody tr th:only-of-type {\n",
       "        vertical-align: middle;\n",
       "    }\n",
       "\n",
       "    .dataframe tbody tr th {\n",
       "        vertical-align: top;\n",
       "    }\n",
       "\n",
       "    .dataframe thead th {\n",
       "        text-align: right;\n",
       "    }\n",
       "</style>\n",
       "<table border=\"1\" class=\"dataframe\">\n",
       "  <thead>\n",
       "    <tr style=\"text-align: right;\">\n",
       "      <th></th>\n",
       "      <th>user_id</th>\n",
       "      <th>age</th>\n",
       "      <th>churn_date</th>\n",
       "      <th>city</th>\n",
       "      <th>first_name</th>\n",
       "      <th>last_name</th>\n",
       "      <th>reg_date</th>\n",
       "      <th>tariff</th>\n",
       "    </tr>\n",
       "  </thead>\n",
       "  <tbody>\n",
       "    <tr>\n",
       "      <td>0</td>\n",
       "      <td>1000</td>\n",
       "      <td>52</td>\n",
       "      <td>NaN</td>\n",
       "      <td>Краснодар</td>\n",
       "      <td>Рафаил</td>\n",
       "      <td>Верещагин</td>\n",
       "      <td>2018-05-25</td>\n",
       "      <td>ultra</td>\n",
       "    </tr>\n",
       "    <tr>\n",
       "      <td>1</td>\n",
       "      <td>1001</td>\n",
       "      <td>41</td>\n",
       "      <td>NaN</td>\n",
       "      <td>Москва</td>\n",
       "      <td>Иван</td>\n",
       "      <td>Ежов</td>\n",
       "      <td>2018-11-01</td>\n",
       "      <td>smart</td>\n",
       "    </tr>\n",
       "    <tr>\n",
       "      <td>2</td>\n",
       "      <td>1002</td>\n",
       "      <td>59</td>\n",
       "      <td>NaN</td>\n",
       "      <td>Стерлитамак</td>\n",
       "      <td>Евгений</td>\n",
       "      <td>Абрамович</td>\n",
       "      <td>2018-06-17</td>\n",
       "      <td>smart</td>\n",
       "    </tr>\n",
       "    <tr>\n",
       "      <td>3</td>\n",
       "      <td>1003</td>\n",
       "      <td>23</td>\n",
       "      <td>NaN</td>\n",
       "      <td>Москва</td>\n",
       "      <td>Белла</td>\n",
       "      <td>Белякова</td>\n",
       "      <td>2018-08-17</td>\n",
       "      <td>ultra</td>\n",
       "    </tr>\n",
       "    <tr>\n",
       "      <td>4</td>\n",
       "      <td>1004</td>\n",
       "      <td>68</td>\n",
       "      <td>NaN</td>\n",
       "      <td>Новокузнецк</td>\n",
       "      <td>Татьяна</td>\n",
       "      <td>Авдеенко</td>\n",
       "      <td>2018-05-14</td>\n",
       "      <td>ultra</td>\n",
       "    </tr>\n",
       "    <tr>\n",
       "      <td>5</td>\n",
       "      <td>1005</td>\n",
       "      <td>67</td>\n",
       "      <td>NaN</td>\n",
       "      <td>Набережные Челны</td>\n",
       "      <td>Афанасий</td>\n",
       "      <td>Горлов</td>\n",
       "      <td>2018-01-25</td>\n",
       "      <td>smart</td>\n",
       "    </tr>\n",
       "    <tr>\n",
       "      <td>6</td>\n",
       "      <td>1006</td>\n",
       "      <td>21</td>\n",
       "      <td>NaN</td>\n",
       "      <td>Ульяновск</td>\n",
       "      <td>Леонид</td>\n",
       "      <td>Ермолаев</td>\n",
       "      <td>2018-02-26</td>\n",
       "      <td>smart</td>\n",
       "    </tr>\n",
       "    <tr>\n",
       "      <td>7</td>\n",
       "      <td>1007</td>\n",
       "      <td>65</td>\n",
       "      <td>NaN</td>\n",
       "      <td>Москва</td>\n",
       "      <td>Юна</td>\n",
       "      <td>Березина</td>\n",
       "      <td>2018-04-19</td>\n",
       "      <td>smart</td>\n",
       "    </tr>\n",
       "    <tr>\n",
       "      <td>8</td>\n",
       "      <td>1008</td>\n",
       "      <td>63</td>\n",
       "      <td>NaN</td>\n",
       "      <td>Челябинск</td>\n",
       "      <td>Рустэм</td>\n",
       "      <td>Пономарёв</td>\n",
       "      <td>2018-12-19</td>\n",
       "      <td>smart</td>\n",
       "    </tr>\n",
       "    <tr>\n",
       "      <td>9</td>\n",
       "      <td>1009</td>\n",
       "      <td>24</td>\n",
       "      <td>NaN</td>\n",
       "      <td>Пермь</td>\n",
       "      <td>Василиса</td>\n",
       "      <td>Блинова</td>\n",
       "      <td>2018-03-22</td>\n",
       "      <td>smart</td>\n",
       "    </tr>\n",
       "  </tbody>\n",
       "</table>\n",
       "</div>"
      ],
      "text/plain": [
       "   user_id  age churn_date              city first_name  last_name  \\\n",
       "0     1000   52        NaN         Краснодар     Рафаил  Верещагин   \n",
       "1     1001   41        NaN            Москва       Иван       Ежов   \n",
       "2     1002   59        NaN       Стерлитамак    Евгений  Абрамович   \n",
       "3     1003   23        NaN            Москва      Белла   Белякова   \n",
       "4     1004   68        NaN       Новокузнецк    Татьяна   Авдеенко   \n",
       "5     1005   67        NaN  Набережные Челны   Афанасий     Горлов   \n",
       "6     1006   21        NaN         Ульяновск     Леонид   Ермолаев   \n",
       "7     1007   65        NaN            Москва        Юна   Березина   \n",
       "8     1008   63        NaN         Челябинск     Рустэм  Пономарёв   \n",
       "9     1009   24        NaN             Пермь   Василиса    Блинова   \n",
       "\n",
       "     reg_date tariff  \n",
       "0  2018-05-25  ultra  \n",
       "1  2018-11-01  smart  \n",
       "2  2018-06-17  smart  \n",
       "3  2018-08-17  ultra  \n",
       "4  2018-05-14  ultra  \n",
       "5  2018-01-25  smart  \n",
       "6  2018-02-26  smart  \n",
       "7  2018-04-19  smart  \n",
       "8  2018-12-19  smart  \n",
       "9  2018-03-22  smart  "
      ]
     },
     "metadata": {},
     "output_type": "display_data"
    },
    {
     "name": "stdout",
     "output_type": "stream",
     "text": [
      "Общая информация о DF\n",
      "<class 'pandas.core.frame.DataFrame'>\n",
      "RangeIndex: 500 entries, 0 to 499\n",
      "Data columns (total 8 columns):\n",
      "user_id       500 non-null int64\n",
      "age           500 non-null int64\n",
      "churn_date    38 non-null object\n",
      "city          500 non-null object\n",
      "first_name    500 non-null object\n",
      "last_name     500 non-null object\n",
      "reg_date      500 non-null object\n",
      "tariff        500 non-null object\n",
      "dtypes: int64(2), object(6)\n",
      "memory usage: 31.4+ KB\n",
      "None\n",
      "Размер df: (500, 8)\n",
      "\n",
      "Пропуски в df\n"
     ]
    },
    {
     "data": {
      "text/plain": [
       "user_id         0\n",
       "age             0\n",
       "churn_date    462\n",
       "city            0\n",
       "first_name      0\n",
       "last_name       0\n",
       "reg_date        0\n",
       "tariff          0\n",
       "dtype: int64"
      ]
     },
     "metadata": {},
     "output_type": "display_data"
    },
    {
     "name": "stdout",
     "output_type": "stream",
     "text": [
      "*** Поле user_id: уникальные значения ***\n"
     ]
    },
    {
     "data": {
      "text/plain": [
       "1023    1\n",
       "1194    1\n",
       "1181    1\n",
       "1182    1\n",
       "1183    1\n",
       "       ..\n",
       "1362    1\n",
       "1363    1\n",
       "1364    1\n",
       "1365    1\n",
       "1024    1\n",
       "Name: user_id, Length: 500, dtype: int64"
      ]
     },
     "metadata": {},
     "output_type": "display_data"
    },
    {
     "name": "stdout",
     "output_type": "stream",
     "text": [
      "*** Поле age: уникальные значения ***\n"
     ]
    },
    {
     "data": {
      "text/plain": [
       "53    14\n",
       "42    14\n",
       "63    13\n",
       "71    13\n",
       "64    13\n",
       "73    12\n",
       "21    12\n",
       "40    12\n",
       "39    11\n",
       "47    11\n",
       "29    11\n",
       "26    11\n",
       "37    11\n",
       "41    10\n",
       "36    10\n",
       "58    10\n",
       "45    10\n",
       "70    10\n",
       "52    10\n",
       "51     9\n",
       "27     9\n",
       "48     9\n",
       "50     9\n",
       "28     9\n",
       "30     9\n",
       "24     9\n",
       "20     9\n",
       "19     9\n",
       "56     9\n",
       "23     9\n",
       "68     9\n",
       "66     9\n",
       "65     9\n",
       "69     8\n",
       "62     8\n",
       "60     8\n",
       "44     8\n",
       "55     8\n",
       "25     7\n",
       "43     7\n",
       "67     7\n",
       "35     7\n",
       "74     7\n",
       "32     7\n",
       "31     7\n",
       "46     7\n",
       "75     6\n",
       "54     6\n",
       "59     6\n",
       "18     6\n",
       "33     5\n",
       "34     5\n",
       "38     5\n",
       "22     5\n",
       "72     5\n",
       "49     4\n",
       "57     4\n",
       "61     3\n",
       "Name: age, dtype: int64"
      ]
     },
     "metadata": {},
     "output_type": "display_data"
    },
    {
     "name": "stdout",
     "output_type": "stream",
     "text": [
      "*** Поле churn_date: уникальные значения ***\n"
     ]
    },
    {
     "data": {
      "text/plain": [
       "2018-12-21    2\n",
       "2018-12-09    2\n",
       "2018-12-03    2\n",
       "2018-10-03    2\n",
       "2018-10-14    2\n",
       "2018-12-16    1\n",
       "2018-12-20    1\n",
       "2018-12-25    1\n",
       "2018-11-07    1\n",
       "2018-12-26    1\n",
       "2018-12-14    1\n",
       "2018-10-25    1\n",
       "2018-09-26    1\n",
       "2018-10-05    1\n",
       "2018-11-22    1\n",
       "2018-12-24    1\n",
       "2018-11-27    1\n",
       "2018-12-30    1\n",
       "2018-10-27    1\n",
       "2018-09-02    1\n",
       "2018-11-21    1\n",
       "2018-09-27    1\n",
       "2018-11-26    1\n",
       "2018-08-17    1\n",
       "2018-12-23    1\n",
       "2018-10-28    1\n",
       "2018-08-31    1\n",
       "2018-12-18    1\n",
       "2018-11-16    1\n",
       "2018-11-30    1\n",
       "2018-10-04    1\n",
       "2018-12-11    1\n",
       "2018-11-13    1\n",
       "Name: churn_date, dtype: int64"
      ]
     },
     "metadata": {},
     "output_type": "display_data"
    },
    {
     "name": "stdout",
     "output_type": "stream",
     "text": [
      "*** Поле city: уникальные значения ***\n"
     ]
    },
    {
     "data": {
      "text/plain": [
       "Москва             99\n",
       "Санкт-Петербург    39\n",
       "Новосибирск        16\n",
       "Омск               14\n",
       "Казань             14\n",
       "                   ..\n",
       "Химки               1\n",
       "Нижневартовск       1\n",
       "Иваново             1\n",
       "Архангельск         1\n",
       "Подольск            1\n",
       "Name: city, Length: 76, dtype: int64"
      ]
     },
     "metadata": {},
     "output_type": "display_data"
    },
    {
     "name": "stdout",
     "output_type": "stream",
     "text": [
      "*** Поле first_name: уникальные значения ***\n"
     ]
    },
    {
     "data": {
      "text/plain": [
       "Радим       6\n",
       "Леонид      5\n",
       "Пётр        5\n",
       "Клавдия     4\n",
       "Адам        4\n",
       "           ..\n",
       "Рафаэль     1\n",
       "Трифон      1\n",
       "Георгина    1\n",
       "Эльза       1\n",
       "Лариса      1\n",
       "Name: first_name, Length: 246, dtype: int64"
      ]
     },
     "metadata": {},
     "output_type": "display_data"
    },
    {
     "name": "stdout",
     "output_type": "stream",
     "text": [
      "*** Поле last_name: уникальные значения ***\n"
     ]
    },
    {
     "data": {
      "text/plain": [
       "Андреенко     5\n",
       "Озерова       3\n",
       "Соловьев      3\n",
       "Абашкина      3\n",
       "Березина      3\n",
       "             ..\n",
       "Костин        1\n",
       "Акимычева     1\n",
       "Аракина       1\n",
       "Прокофьева    1\n",
       "Демидов       1\n",
       "Name: last_name, Length: 419, dtype: int64"
      ]
     },
     "metadata": {},
     "output_type": "display_data"
    },
    {
     "name": "stdout",
     "output_type": "stream",
     "text": [
      "*** Поле reg_date: уникальные значения ***\n"
     ]
    },
    {
     "data": {
      "text/plain": [
       "2018-05-28    8\n",
       "2018-11-16    5\n",
       "2018-04-03    5\n",
       "2018-10-05    5\n",
       "2018-01-04    5\n",
       "             ..\n",
       "2018-07-25    1\n",
       "2018-09-05    1\n",
       "2018-05-22    1\n",
       "2018-11-27    1\n",
       "2018-12-30    1\n",
       "Name: reg_date, Length: 270, dtype: int64"
      ]
     },
     "metadata": {},
     "output_type": "display_data"
    },
    {
     "name": "stdout",
     "output_type": "stream",
     "text": [
      "*** Поле tariff: уникальные значения ***\n"
     ]
    },
    {
     "data": {
      "text/plain": [
       "smart    351\n",
       "ultra    149\n",
       "Name: tariff, dtype: int64"
      ]
     },
     "metadata": {},
     "output_type": "display_data"
    }
   ],
   "source": [
    "df_info(users)"
   ]
  },
  {
   "cell_type": "markdown",
   "metadata": {},
   "source": [
    "Видим, что в df, за исключением поля reg_date, содержится 500 записей, что также соответствует условию проекта в части размера абонентской базы в 500 клиентов.\n",
    "\n",
    "DF имеет следующие типы данных:\n",
    "\n",
    "- категориальный (6 поле);\n",
    "\n",
    "- целочисленное значение (1 поле).\n",
    "\n",
    "Пропущенные значения имеются только в поле churn_date, которое описывает дату подключения тарифа. Очевидно, что если значение в этом поле пропущено, то тариф ещё действовал на момент выгрузки данных. Следовательно, у абонентов, для которых поле churn_date не заполнено, на момент формирования выборки есть действующий тариф, а абоненты, у которых данное поле заполнено, прекратили пользоваться тарифным планом и больше не являются клиентами компании.\n",
    "\n",
    "В остальном для данных этого df характерны особенности предыдущих df в части полей churn_date, user_id, reg_date. Поля, описывающие сущность абонента - имя, отчество, город - также не содержат каких-либо видимых аномалий."
   ]
  },
  {
   "cell_type": "markdown",
   "metadata": {},
   "source": [
    "## Выводы по этапу 1.\n",
    "\n",
    "В рамках данного этапа были прочитаны предложенные наборы данных, а также произведено их первичное исследование: изучены первые 10 записей в каждом df, получена общая информация о df и информация о его размерах, посчитано количество пропущенных значений в каждом поле df, а также изучены уникальные записи в каждом поле исследуемого df.\n",
    "\n",
    "Для автоматизации исследовательского процесса была написана соответствующая функция.\n",
    "\n",
    "В качестве наиболее важных результатов исследования можно отметить:\n",
    "\n",
    "1. Аномальные значения поля duration в df calls: поле описывает длительность звонка в минутах, и для 39613 звонков их длительность составляет 0 минут. \n",
    "\n",
    "\n",
    "2. Аномальные значения поля mb_used в df internet: поле описывает количество МБ, израсходованных за одну интернет-сессию, и для 19598 интернет-сессий количество израсходованных МБ равняется 0. \n",
    "\n",
    "\n",
    "3. Пропущенные значения в поле churn_date в df users: поле описывает дату отключения абонента от тарифа, и для 462 абонентов это поле не заполнено. Исходя из семантического смысла поля, можно заключить, что пропуски в этом поле не являются проблемным значением, так как такие абоненты не отключали свои тарифы на момент формирования наборов данных.\n",
    "\n",
    "\n",
    "4. Данные в полях duration и mb_used в df calls и internet соответственно дают количественную характеристику интенсивности использования абонентами своих тарифов в части звонков и сообщений, при этом даннные в этих полях представлены в виде десятичной дроби (тип данных float). Однако на практике удобнее говорить о таких вещах, когда они сведены к целому значению. Например, абонент за месяц израсходовал 350 минут и 500 МБ интернета, а не 349.78 минут и 499.57 МБ соответственно. Поэтому логичным кажется преобразование этих полей в целочисленное значение с типом данных int.\n",
    "\n",
    "\n",
    "5. Данные поля call_date в df calls, поля session_date в df internet, поля message_date в df messages, полей churn_date и reg_date в df users приведены в типе str, хотя семантически отражают дату того или иного события. Поэтому их нужно преобразовать в формат datetime."
   ]
  },
  {
   "cell_type": "markdown",
   "metadata": {},
   "source": [
    "# Этап 2. Преобразование типов данных, обработка пропущенных и аномальных значений, обогащание данных."
   ]
  },
  {
   "cell_type": "markdown",
   "metadata": {},
   "source": [
    "В рамках данного Этапа будут проведены следующие мероприятия:\n",
    "\n",
    "1. Преобразование типов данных.\n",
    "\n",
    "2. Обработка пропущенных значений (поле churn_date в df users).\n",
    "\n",
    "3. Обработка аномальных значений (поле duration в df calls и поле mb_used в df internet).\n",
    "\n",
    "4. Работа с непонятным полем Unnamed: 0 в df internet."
   ]
  },
  {
   "cell_type": "markdown",
   "metadata": {},
   "source": [
    "## Этап 2.1. Преобразование типов данных.\n",
    "\n",
    "В рамках данного этапа будут преобразованы следующие поля:\n",
    "\n",
    "1. Поле duration в df calls.\n",
    "\n",
    "\n",
    "2. Поле mb_used в df internet.\n",
    "\n",
    "\n",
    "3. Поле call_date в df calls.\n",
    "\n",
    "\n",
    "4. Поле session_date в df internet.\n",
    "\n",
    "\n",
    "5. Поле message_date в df messages.\n",
    "\n",
    "\n",
    "6. Поля churn_date и reg_date в df users.\n",
    "\n",
    "Данные в полях duration и mb_used в df calls и internet соответственно дают количественную характеристику интенсивности использования абонентами своих тарифов в части звонков и сообщений, при этом даннные в этих полях представлены в виде десятичной дроби (тип данных float). Однако на практике удобнее говорить о таких вещах, когда они сведены к целому значению. Например, абонент за месяц израсходовал 350 минут и 500 МБ интернета, а не 349.78 минут и 499.57 МБ соответственно.\n",
    "\n",
    "Поэтому логичным кажется преобразование этих полей в целочисленное значение с типом данных int.\n",
    "\n",
    "Для округления в большую сторону используем метод ceil из библиотеки math.\n",
    "\n",
    "Напишем функцию. На вход функция принимает значение из поля преобразовываемого df, на выходе функция возвращает в это поле округлённое вверх значение."
   ]
  },
  {
   "cell_type": "code",
   "execution_count": 9,
   "metadata": {},
   "outputs": [],
   "source": [
    "calls['duration'] = calls['duration'].apply(math.ceil)\n",
    "internet['mb_used'] = internet['mb_used'].apply(math.ceil)"
   ]
  },
  {
   "cell_type": "markdown",
   "metadata": {},
   "source": [
    "Проверим, корректно ли осуществлено преобразование."
   ]
  },
  {
   "cell_type": "code",
   "execution_count": 10,
   "metadata": {},
   "outputs": [
    {
     "data": {
      "text/html": [
       "<div>\n",
       "<style scoped>\n",
       "    .dataframe tbody tr th:only-of-type {\n",
       "        vertical-align: middle;\n",
       "    }\n",
       "\n",
       "    .dataframe tbody tr th {\n",
       "        vertical-align: top;\n",
       "    }\n",
       "\n",
       "    .dataframe thead th {\n",
       "        text-align: right;\n",
       "    }\n",
       "</style>\n",
       "<table border=\"1\" class=\"dataframe\">\n",
       "  <thead>\n",
       "    <tr style=\"text-align: right;\">\n",
       "      <th></th>\n",
       "      <th>id</th>\n",
       "      <th>call_date</th>\n",
       "      <th>duration</th>\n",
       "      <th>user_id</th>\n",
       "    </tr>\n",
       "  </thead>\n",
       "  <tbody>\n",
       "    <tr>\n",
       "      <td>0</td>\n",
       "      <td>1000_0</td>\n",
       "      <td>2018-07-25</td>\n",
       "      <td>0</td>\n",
       "      <td>1000</td>\n",
       "    </tr>\n",
       "    <tr>\n",
       "      <td>1</td>\n",
       "      <td>1000_1</td>\n",
       "      <td>2018-08-17</td>\n",
       "      <td>0</td>\n",
       "      <td>1000</td>\n",
       "    </tr>\n",
       "    <tr>\n",
       "      <td>2</td>\n",
       "      <td>1000_2</td>\n",
       "      <td>2018-06-11</td>\n",
       "      <td>3</td>\n",
       "      <td>1000</td>\n",
       "    </tr>\n",
       "    <tr>\n",
       "      <td>3</td>\n",
       "      <td>1000_3</td>\n",
       "      <td>2018-09-21</td>\n",
       "      <td>14</td>\n",
       "      <td>1000</td>\n",
       "    </tr>\n",
       "    <tr>\n",
       "      <td>4</td>\n",
       "      <td>1000_4</td>\n",
       "      <td>2018-12-15</td>\n",
       "      <td>6</td>\n",
       "      <td>1000</td>\n",
       "    </tr>\n",
       "    <tr>\n",
       "      <td>5</td>\n",
       "      <td>1000_5</td>\n",
       "      <td>2018-11-02</td>\n",
       "      <td>0</td>\n",
       "      <td>1000</td>\n",
       "    </tr>\n",
       "    <tr>\n",
       "      <td>6</td>\n",
       "      <td>1000_6</td>\n",
       "      <td>2018-10-18</td>\n",
       "      <td>0</td>\n",
       "      <td>1000</td>\n",
       "    </tr>\n",
       "    <tr>\n",
       "      <td>7</td>\n",
       "      <td>1000_7</td>\n",
       "      <td>2018-08-22</td>\n",
       "      <td>19</td>\n",
       "      <td>1000</td>\n",
       "    </tr>\n",
       "    <tr>\n",
       "      <td>8</td>\n",
       "      <td>1000_8</td>\n",
       "      <td>2018-09-15</td>\n",
       "      <td>19</td>\n",
       "      <td>1000</td>\n",
       "    </tr>\n",
       "    <tr>\n",
       "      <td>9</td>\n",
       "      <td>1000_9</td>\n",
       "      <td>2018-08-15</td>\n",
       "      <td>0</td>\n",
       "      <td>1000</td>\n",
       "    </tr>\n",
       "  </tbody>\n",
       "</table>\n",
       "</div>"
      ],
      "text/plain": [
       "       id   call_date  duration  user_id\n",
       "0  1000_0  2018-07-25         0     1000\n",
       "1  1000_1  2018-08-17         0     1000\n",
       "2  1000_2  2018-06-11         3     1000\n",
       "3  1000_3  2018-09-21        14     1000\n",
       "4  1000_4  2018-12-15         6     1000\n",
       "5  1000_5  2018-11-02         0     1000\n",
       "6  1000_6  2018-10-18         0     1000\n",
       "7  1000_7  2018-08-22        19     1000\n",
       "8  1000_8  2018-09-15        19     1000\n",
       "9  1000_9  2018-08-15         0     1000"
      ]
     },
     "execution_count": 10,
     "metadata": {},
     "output_type": "execute_result"
    }
   ],
   "source": [
    "calls.head(10)"
   ]
  },
  {
   "cell_type": "code",
   "execution_count": 11,
   "metadata": {},
   "outputs": [
    {
     "data": {
      "text/html": [
       "<div>\n",
       "<style scoped>\n",
       "    .dataframe tbody tr th:only-of-type {\n",
       "        vertical-align: middle;\n",
       "    }\n",
       "\n",
       "    .dataframe tbody tr th {\n",
       "        vertical-align: top;\n",
       "    }\n",
       "\n",
       "    .dataframe thead th {\n",
       "        text-align: right;\n",
       "    }\n",
       "</style>\n",
       "<table border=\"1\" class=\"dataframe\">\n",
       "  <thead>\n",
       "    <tr style=\"text-align: right;\">\n",
       "      <th></th>\n",
       "      <th>id</th>\n",
       "      <th>mb_used</th>\n",
       "      <th>session_date</th>\n",
       "      <th>user_id</th>\n",
       "    </tr>\n",
       "  </thead>\n",
       "  <tbody>\n",
       "    <tr>\n",
       "      <td>0</td>\n",
       "      <td>1000_0</td>\n",
       "      <td>113</td>\n",
       "      <td>2018-11-25</td>\n",
       "      <td>1000</td>\n",
       "    </tr>\n",
       "    <tr>\n",
       "      <td>1</td>\n",
       "      <td>1000_1</td>\n",
       "      <td>1053</td>\n",
       "      <td>2018-09-07</td>\n",
       "      <td>1000</td>\n",
       "    </tr>\n",
       "    <tr>\n",
       "      <td>2</td>\n",
       "      <td>1000_2</td>\n",
       "      <td>1198</td>\n",
       "      <td>2018-06-25</td>\n",
       "      <td>1000</td>\n",
       "    </tr>\n",
       "    <tr>\n",
       "      <td>3</td>\n",
       "      <td>1000_3</td>\n",
       "      <td>551</td>\n",
       "      <td>2018-08-22</td>\n",
       "      <td>1000</td>\n",
       "    </tr>\n",
       "    <tr>\n",
       "      <td>4</td>\n",
       "      <td>1000_4</td>\n",
       "      <td>303</td>\n",
       "      <td>2018-09-24</td>\n",
       "      <td>1000</td>\n",
       "    </tr>\n",
       "    <tr>\n",
       "      <td>5</td>\n",
       "      <td>1000_5</td>\n",
       "      <td>400</td>\n",
       "      <td>2018-10-02</td>\n",
       "      <td>1000</td>\n",
       "    </tr>\n",
       "    <tr>\n",
       "      <td>6</td>\n",
       "      <td>1000_6</td>\n",
       "      <td>541</td>\n",
       "      <td>2018-09-07</td>\n",
       "      <td>1000</td>\n",
       "    </tr>\n",
       "    <tr>\n",
       "      <td>7</td>\n",
       "      <td>1000_7</td>\n",
       "      <td>416</td>\n",
       "      <td>2018-07-11</td>\n",
       "      <td>1000</td>\n",
       "    </tr>\n",
       "    <tr>\n",
       "      <td>8</td>\n",
       "      <td>1000_8</td>\n",
       "      <td>506</td>\n",
       "      <td>2018-10-08</td>\n",
       "      <td>1000</td>\n",
       "    </tr>\n",
       "    <tr>\n",
       "      <td>9</td>\n",
       "      <td>1000_9</td>\n",
       "      <td>346</td>\n",
       "      <td>2018-09-03</td>\n",
       "      <td>1000</td>\n",
       "    </tr>\n",
       "  </tbody>\n",
       "</table>\n",
       "</div>"
      ],
      "text/plain": [
       "       id  mb_used session_date  user_id\n",
       "0  1000_0      113   2018-11-25     1000\n",
       "1  1000_1     1053   2018-09-07     1000\n",
       "2  1000_2     1198   2018-06-25     1000\n",
       "3  1000_3      551   2018-08-22     1000\n",
       "4  1000_4      303   2018-09-24     1000\n",
       "5  1000_5      400   2018-10-02     1000\n",
       "6  1000_6      541   2018-09-07     1000\n",
       "7  1000_7      416   2018-07-11     1000\n",
       "8  1000_8      506   2018-10-08     1000\n",
       "9  1000_9      346   2018-09-03     1000"
      ]
     },
     "execution_count": 11,
     "metadata": {},
     "output_type": "execute_result"
    }
   ],
   "source": [
    "internet.head(10)"
   ]
  },
  {
   "cell_type": "markdown",
   "metadata": {},
   "source": [
    "Видим, что замена осуществлена корректно."
   ]
  },
  {
   "cell_type": "markdown",
   "metadata": {},
   "source": [
    "Данные поля call_date в df calls, поля session_date в df internet, поля message_date в df messages, полей churn_date и reg_date в df users приведены в типе str, хотя семантически отражают дату того или иного события. Поэтому их нужно преобразовать в формат datetime.\n",
    "\n",
    "Для этого напишем функцию, которая принимает на вход df и поле, которое нужно преобразовать, и осуществляет преобразование данных в этом поле в тип datetime."
   ]
  },
  {
   "cell_type": "code",
   "execution_count": 12,
   "metadata": {},
   "outputs": [],
   "source": [
    "def to_datetime(df, column):\n",
    "    df[column] = pd.to_datetime(df[column], format = '%Y.%m.%d')"
   ]
  },
  {
   "cell_type": "markdown",
   "metadata": {},
   "source": [
    "Применим функцию к нашим наборам данных."
   ]
  },
  {
   "cell_type": "code",
   "execution_count": 13,
   "metadata": {},
   "outputs": [],
   "source": [
    "to_datetime(calls, 'call_date')\n",
    "to_datetime(internet, 'session_date')\n",
    "to_datetime(messages, 'message_date')\n",
    "to_datetime(users, 'churn_date')\n",
    "to_datetime(users, 'reg_date')"
   ]
  },
  {
   "cell_type": "markdown",
   "metadata": {},
   "source": [
    "Проверим, корректно ли совершена замена. Если функция работает корректно, то тип данных в преобразованном поле должен стать datetime."
   ]
  },
  {
   "cell_type": "code",
   "execution_count": 14,
   "metadata": {},
   "outputs": [
    {
     "name": "stdout",
     "output_type": "stream",
     "text": [
      "<class 'pandas.core.frame.DataFrame'>\n",
      "RangeIndex: 202607 entries, 0 to 202606\n",
      "Data columns (total 4 columns):\n",
      "id           202607 non-null object\n",
      "call_date    202607 non-null datetime64[ns]\n",
      "duration     202607 non-null int64\n",
      "user_id      202607 non-null int64\n",
      "dtypes: datetime64[ns](1), int64(2), object(1)\n",
      "memory usage: 6.2+ MB\n"
     ]
    }
   ],
   "source": [
    "calls.info()"
   ]
  },
  {
   "cell_type": "code",
   "execution_count": 15,
   "metadata": {},
   "outputs": [
    {
     "name": "stdout",
     "output_type": "stream",
     "text": [
      "<class 'pandas.core.frame.DataFrame'>\n",
      "Int64Index: 149396 entries, 0 to 149395\n",
      "Data columns (total 4 columns):\n",
      "id              149396 non-null object\n",
      "mb_used         149396 non-null int64\n",
      "session_date    149396 non-null datetime64[ns]\n",
      "user_id         149396 non-null int64\n",
      "dtypes: datetime64[ns](1), int64(2), object(1)\n",
      "memory usage: 5.7+ MB\n"
     ]
    }
   ],
   "source": [
    "internet.info()"
   ]
  },
  {
   "cell_type": "code",
   "execution_count": 16,
   "metadata": {},
   "outputs": [
    {
     "name": "stdout",
     "output_type": "stream",
     "text": [
      "<class 'pandas.core.frame.DataFrame'>\n",
      "RangeIndex: 123036 entries, 0 to 123035\n",
      "Data columns (total 3 columns):\n",
      "id              123036 non-null object\n",
      "message_date    123036 non-null datetime64[ns]\n",
      "user_id         123036 non-null int64\n",
      "dtypes: datetime64[ns](1), int64(1), object(1)\n",
      "memory usage: 2.8+ MB\n"
     ]
    }
   ],
   "source": [
    "messages.info()"
   ]
  },
  {
   "cell_type": "code",
   "execution_count": 17,
   "metadata": {},
   "outputs": [
    {
     "name": "stdout",
     "output_type": "stream",
     "text": [
      "<class 'pandas.core.frame.DataFrame'>\n",
      "RangeIndex: 500 entries, 0 to 499\n",
      "Data columns (total 8 columns):\n",
      "user_id       500 non-null int64\n",
      "age           500 non-null int64\n",
      "churn_date    38 non-null datetime64[ns]\n",
      "city          500 non-null object\n",
      "first_name    500 non-null object\n",
      "last_name     500 non-null object\n",
      "reg_date      500 non-null datetime64[ns]\n",
      "tariff        500 non-null object\n",
      "dtypes: datetime64[ns](2), int64(2), object(4)\n",
      "memory usage: 31.4+ KB\n"
     ]
    }
   ],
   "source": [
    "users.info()"
   ]
  },
  {
   "cell_type": "markdown",
   "metadata": {},
   "source": [
    "Видим, что все поля с датами были преобразованы в тип datetime."
   ]
  },
  {
   "cell_type": "markdown",
   "metadata": {},
   "source": [
    "## Этап 2.2. Обработка пропущенных значений (поле churn_date в df users).\n",
    "\n",
    "На данном этапе проведём обработку пропущенных значений поля churn_date в df users. \n",
    "\n",
    "Напомним, что данное поле описывает дату, когда абонент отключил свой тариф. Следовательно, пропущенные значения в этом поле говорят о том, что абонент на момент формирования выборки не закрыл твой тарифный план, а если значение не пропущено - абонент закрыл свой тарфиный план на момент формирования выборки.\n",
    "\n",
    "Так как имеющиеся данные представлены в формате date, к тому же диапазон дат лежит в пределах целого 2018 года, строить распределение переменной в зависимости от даты закрытия тарифа будет проблематично.\n",
    "\n",
    "Однако можно посмотреть на количество абонентов, которые закрыли свои тарифы, в течение каждого дня 2018 года. Для этого построим сводную таблицу, сгруппировав её по дате закрытия тарифа, в качестве значения выберем user_id, в качестве агрегирующей функции - count. Результат визуализируем."
   ]
  },
  {
   "cell_type": "code",
   "execution_count": 18,
   "metadata": {},
   "outputs": [
    {
     "data": {
      "text/plain": [
       "33"
      ]
     },
     "execution_count": 18,
     "metadata": {},
     "output_type": "execute_result"
    }
   ],
   "source": [
    "users['churn_date'].nunique()"
   ]
  },
  {
   "cell_type": "code",
   "execution_count": 19,
   "metadata": {},
   "outputs": [
    {
     "data": {
      "text/plain": [
       "<matplotlib.axes._subplots.AxesSubplot at 0x7f0f9b5fe950>"
      ]
     },
     "execution_count": 19,
     "metadata": {},
     "output_type": "execute_result"
    },
    {
     "data": {
      "image/png": "[encoded data removed]",
      "text/plain": [
       "<Figure size 1440x360 with 1 Axes>"
      ]
     },
     "metadata": {
      "needs_background": "light"
     },
     "output_type": "display_data"
    }
   ],
   "source": [
    "users.pivot_table(index = 'churn_date', values = 'user_id', aggfunc = 'count').plot(y = 'user_id', kind = 'bar',\n",
    "                                                                                   figsize = (20, 5))"
   ]
  },
  {
   "cell_type": "markdown",
   "metadata": {},
   "source": [
    "Видим, что абоненты в df users, отключившие свои тарифы на момент формирования набора данных, распределены между 33 датами, при этом отмечу, что уходить абоненты начали с 17 августа 2018 года. Посыл для коммерческого департамента - проанализировать, какие были нововведения в тарифной политике перед этой датой, которые могли бы спровоцировать отток абонентов.\n",
    "\n",
    "Также видим, что в основном (за исключением 5 дат) компания теряет по одному абоненту в день, в пяти датах видим отток двух клиентов в день.\n",
    "\n",
    "В целом отток 38 абонентов из абонентской базы в 500 человек не кажется такой уж катастрофической потерей, однако лучше сохранять и преумножать количество своих абонентов, если такая возможность есть.\n",
    "\n",
    "Вместе с тем отмечу, что для 462 клиентов запись в исследуемом поле отсутствует, поэтому представленное выше распределение не позволит оценить масштаб оттока. \n",
    "\n",
    "Чтобы такая возможность появилась, сформируем новый признак user_status, который будет соодержать информацию о том, является ли человек абонентом компании на момент формирования набора данных.\n",
    "\n",
    "Для этого напишем соответствующую функцию.\n",
    "\n",
    "Отмечу, что функция не будет работать, если в поле, которое будет принимать фнукция, будут пропущенные значения. Поэтому заменим пропущенные значения в этом поле на 0."
   ]
  },
  {
   "cell_type": "code",
   "execution_count": 20,
   "metadata": {},
   "outputs": [],
   "source": [
    "users['churn_date'] = users['churn_date'].fillna(int(0))"
   ]
  },
  {
   "cell_type": "markdown",
   "metadata": {},
   "source": [
    "Когда пропущенные значения обработаны, напишем функцию, которая будет реализовывать следующую логику:\n",
    "    \n",
    "- если в поле записано значение 0, абонент считается действующим и маркируется значением 0;\n",
    "\n",
    "- в остальных случаях абонент считается ушедшим и маркируется значением 1."
   ]
  },
  {
   "cell_type": "code",
   "execution_count": 21,
   "metadata": {},
   "outputs": [],
   "source": [
    "def ok_not_ok(churn_date):\n",
    "    if churn_date == 0:\n",
    "        return int(0)\n",
    "    else:\n",
    "        return int(1)"
   ]
  },
  {
   "cell_type": "markdown",
   "metadata": {},
   "source": [
    "Проверим работу функции."
   ]
  },
  {
   "cell_type": "code",
   "execution_count": 22,
   "metadata": {},
   "outputs": [
    {
     "name": "stdout",
     "output_type": "stream",
     "text": [
      "0\n",
      "1\n",
      "1\n",
      "0\n"
     ]
    }
   ],
   "source": [
    "print(ok_not_ok(0))\n",
    "print(ok_not_ok('2018-12-31'))\n",
    "print(ok_not_ok('Абонент не закрыл тариф'))\n",
    "print(ok_not_ok(0))"
   ]
  },
  {
   "cell_type": "markdown",
   "metadata": {},
   "source": [
    "Видим, что функция работает корректно на тестовых данных. Применим функцию к набору данных, результат работы функции будем помещать в поле user_status."
   ]
  },
  {
   "cell_type": "code",
   "execution_count": 23,
   "metadata": {},
   "outputs": [],
   "source": [
    "users['user_status'] = users['churn_date'].apply(ok_not_ok)"
   ]
  },
  {
   "cell_type": "markdown",
   "metadata": {},
   "source": [
    "Проверим, корректно ли осуществлена замена."
   ]
  },
  {
   "cell_type": "code",
   "execution_count": 24,
   "metadata": {},
   "outputs": [
    {
     "data": {
      "text/html": [
       "<div>\n",
       "<style scoped>\n",
       "    .dataframe tbody tr th:only-of-type {\n",
       "        vertical-align: middle;\n",
       "    }\n",
       "\n",
       "    .dataframe tbody tr th {\n",
       "        vertical-align: top;\n",
       "    }\n",
       "\n",
       "    .dataframe thead th {\n",
       "        text-align: right;\n",
       "    }\n",
       "</style>\n",
       "<table border=\"1\" class=\"dataframe\">\n",
       "  <thead>\n",
       "    <tr style=\"text-align: right;\">\n",
       "      <th></th>\n",
       "      <th>churn_date</th>\n",
       "      <th>user_status</th>\n",
       "    </tr>\n",
       "  </thead>\n",
       "  <tbody>\n",
       "    <tr>\n",
       "      <td>0</td>\n",
       "      <td>0</td>\n",
       "      <td>0</td>\n",
       "    </tr>\n",
       "    <tr>\n",
       "      <td>1</td>\n",
       "      <td>0</td>\n",
       "      <td>0</td>\n",
       "    </tr>\n",
       "    <tr>\n",
       "      <td>2</td>\n",
       "      <td>0</td>\n",
       "      <td>0</td>\n",
       "    </tr>\n",
       "    <tr>\n",
       "      <td>3</td>\n",
       "      <td>0</td>\n",
       "      <td>0</td>\n",
       "    </tr>\n",
       "    <tr>\n",
       "      <td>4</td>\n",
       "      <td>0</td>\n",
       "      <td>0</td>\n",
       "    </tr>\n",
       "    <tr>\n",
       "      <td>...</td>\n",
       "      <td>...</td>\n",
       "      <td>...</td>\n",
       "    </tr>\n",
       "    <tr>\n",
       "      <td>495</td>\n",
       "      <td>0</td>\n",
       "      <td>0</td>\n",
       "    </tr>\n",
       "    <tr>\n",
       "      <td>496</td>\n",
       "      <td>0</td>\n",
       "      <td>0</td>\n",
       "    </tr>\n",
       "    <tr>\n",
       "      <td>497</td>\n",
       "      <td>0</td>\n",
       "      <td>0</td>\n",
       "    </tr>\n",
       "    <tr>\n",
       "      <td>498</td>\n",
       "      <td>2018-10-25 00:00:00</td>\n",
       "      <td>1</td>\n",
       "    </tr>\n",
       "    <tr>\n",
       "      <td>499</td>\n",
       "      <td>0</td>\n",
       "      <td>0</td>\n",
       "    </tr>\n",
       "  </tbody>\n",
       "</table>\n",
       "<p>500 rows × 2 columns</p>\n",
       "</div>"
      ],
      "text/plain": [
       "              churn_date  user_status\n",
       "0                      0            0\n",
       "1                      0            0\n",
       "2                      0            0\n",
       "3                      0            0\n",
       "4                      0            0\n",
       "..                   ...          ...\n",
       "495                    0            0\n",
       "496                    0            0\n",
       "497                    0            0\n",
       "498  2018-10-25 00:00:00            1\n",
       "499                    0            0\n",
       "\n",
       "[500 rows x 2 columns]"
      ]
     },
     "execution_count": 24,
     "metadata": {},
     "output_type": "execute_result"
    }
   ],
   "source": [
    "users[['churn_date', 'user_status']]"
   ]
  },
  {
   "cell_type": "markdown",
   "metadata": {},
   "source": [
    "Видим, что замена осуществлена корректно."
   ]
  },
  {
   "cell_type": "markdown",
   "metadata": {},
   "source": [
    "## Этап 2.3. Обработка аномальных значений (поле duration в df calls и поле mb_used в df internet).\n",
    "\n",
    "На данном этапе обработаем аномальные значения.\n",
    "\n",
    "Напомним, что были выявлены следующие аномальные значения:\n",
    "\n",
    "1. Значения поля duration в df calls: поле описывает длительность звонка, и в этом поле имеются записи с длительностью звонка в 0 секунд.\n",
    "\n",
    "2. Значения поля mb_used в df internet: поле описывает количества израсходованных МБ за одну интернет-сессию, и в этом поле имеются записи с количеством израсходованных МБ, равным 0. \n",
    "\n",
    "Рассмотрим аномальные значения поля duration в df calls. Длительность звонка, равная нулю, может означать, что звонок не был совершён успешно: собеседник мог просто не взять трубку, поэтому длительность звонка будет составлять 0 минут, хотя сам звонок был совершён.\n",
    "\n",
    "В этой связи логичным будет пока ничем не заменять нулевые значения, а на базе этого поля сгененрировать новый признак, который описывал бы статус звонка - удачный или неудачный.\n",
    "\n",
    "Для этого применим ранее написанную функцию ok_not_ok, результаты работы которой будем интерпретировать следующим образом:\n",
    "\n",
    "- если длительность звонка равна нулю, звонку будет присовен статус \"неудачный\", а звонок будет маркирован значением 0;\n",
    "\n",
    "- если длительность звонка больше нуля, звонку будет присвоен статус \"удачный\", а звонок будет маркирован значением 1."
   ]
  },
  {
   "cell_type": "markdown",
   "metadata": {},
   "source": [
    "Протестируем работу функции."
   ]
  },
  {
   "cell_type": "code",
   "execution_count": 25,
   "metadata": {},
   "outputs": [
    {
     "name": "stdout",
     "output_type": "stream",
     "text": [
      "0\n",
      "1\n",
      "1\n"
     ]
    }
   ],
   "source": [
    "print(ok_not_ok(0))\n",
    "print(ok_not_ok(10))\n",
    "print(ok_not_ok(100))"
   ]
  },
  {
   "cell_type": "markdown",
   "metadata": {},
   "source": [
    "Функция работает корректно на тестовых данных. Применим функцию к набору данных. Результат работы функции поместим в новое поле call_status."
   ]
  },
  {
   "cell_type": "code",
   "execution_count": 26,
   "metadata": {},
   "outputs": [],
   "source": [
    "calls['call_status'] = calls['duration'].apply(ok_not_ok)"
   ]
  },
  {
   "cell_type": "markdown",
   "metadata": {},
   "source": [
    "Проверим, корректно ли отработала функция."
   ]
  },
  {
   "cell_type": "code",
   "execution_count": 27,
   "metadata": {},
   "outputs": [
    {
     "data": {
      "text/html": [
       "<div>\n",
       "<style scoped>\n",
       "    .dataframe tbody tr th:only-of-type {\n",
       "        vertical-align: middle;\n",
       "    }\n",
       "\n",
       "    .dataframe tbody tr th {\n",
       "        vertical-align: top;\n",
       "    }\n",
       "\n",
       "    .dataframe thead th {\n",
       "        text-align: right;\n",
       "    }\n",
       "</style>\n",
       "<table border=\"1\" class=\"dataframe\">\n",
       "  <thead>\n",
       "    <tr style=\"text-align: right;\">\n",
       "      <th></th>\n",
       "      <th>id</th>\n",
       "      <th>call_date</th>\n",
       "      <th>duration</th>\n",
       "      <th>user_id</th>\n",
       "      <th>call_status</th>\n",
       "    </tr>\n",
       "  </thead>\n",
       "  <tbody>\n",
       "    <tr>\n",
       "      <td>0</td>\n",
       "      <td>1000_0</td>\n",
       "      <td>2018-07-25</td>\n",
       "      <td>0</td>\n",
       "      <td>1000</td>\n",
       "      <td>0</td>\n",
       "    </tr>\n",
       "    <tr>\n",
       "      <td>1</td>\n",
       "      <td>1000_1</td>\n",
       "      <td>2018-08-17</td>\n",
       "      <td>0</td>\n",
       "      <td>1000</td>\n",
       "      <td>0</td>\n",
       "    </tr>\n",
       "    <tr>\n",
       "      <td>2</td>\n",
       "      <td>1000_2</td>\n",
       "      <td>2018-06-11</td>\n",
       "      <td>3</td>\n",
       "      <td>1000</td>\n",
       "      <td>1</td>\n",
       "    </tr>\n",
       "    <tr>\n",
       "      <td>3</td>\n",
       "      <td>1000_3</td>\n",
       "      <td>2018-09-21</td>\n",
       "      <td>14</td>\n",
       "      <td>1000</td>\n",
       "      <td>1</td>\n",
       "    </tr>\n",
       "    <tr>\n",
       "      <td>4</td>\n",
       "      <td>1000_4</td>\n",
       "      <td>2018-12-15</td>\n",
       "      <td>6</td>\n",
       "      <td>1000</td>\n",
       "      <td>1</td>\n",
       "    </tr>\n",
       "    <tr>\n",
       "      <td>5</td>\n",
       "      <td>1000_5</td>\n",
       "      <td>2018-11-02</td>\n",
       "      <td>0</td>\n",
       "      <td>1000</td>\n",
       "      <td>0</td>\n",
       "    </tr>\n",
       "    <tr>\n",
       "      <td>6</td>\n",
       "      <td>1000_6</td>\n",
       "      <td>2018-10-18</td>\n",
       "      <td>0</td>\n",
       "      <td>1000</td>\n",
       "      <td>0</td>\n",
       "    </tr>\n",
       "    <tr>\n",
       "      <td>7</td>\n",
       "      <td>1000_7</td>\n",
       "      <td>2018-08-22</td>\n",
       "      <td>19</td>\n",
       "      <td>1000</td>\n",
       "      <td>1</td>\n",
       "    </tr>\n",
       "    <tr>\n",
       "      <td>8</td>\n",
       "      <td>1000_8</td>\n",
       "      <td>2018-09-15</td>\n",
       "      <td>19</td>\n",
       "      <td>1000</td>\n",
       "      <td>1</td>\n",
       "    </tr>\n",
       "    <tr>\n",
       "      <td>9</td>\n",
       "      <td>1000_9</td>\n",
       "      <td>2018-08-15</td>\n",
       "      <td>0</td>\n",
       "      <td>1000</td>\n",
       "      <td>0</td>\n",
       "    </tr>\n",
       "  </tbody>\n",
       "</table>\n",
       "</div>"
      ],
      "text/plain": [
       "       id  call_date  duration  user_id  call_status\n",
       "0  1000_0 2018-07-25         0     1000            0\n",
       "1  1000_1 2018-08-17         0     1000            0\n",
       "2  1000_2 2018-06-11         3     1000            1\n",
       "3  1000_3 2018-09-21        14     1000            1\n",
       "4  1000_4 2018-12-15         6     1000            1\n",
       "5  1000_5 2018-11-02         0     1000            0\n",
       "6  1000_6 2018-10-18         0     1000            0\n",
       "7  1000_7 2018-08-22        19     1000            1\n",
       "8  1000_8 2018-09-15        19     1000            1\n",
       "9  1000_9 2018-08-15         0     1000            0"
      ]
     },
     "execution_count": 27,
     "metadata": {},
     "output_type": "execute_result"
    }
   ],
   "source": [
    "calls.head(10)"
   ]
  },
  {
   "cell_type": "markdown",
   "metadata": {},
   "source": [
    "Видим, что замена осуществлена корректно.\n",
    "\n",
    "Таким же образом обработаем пропущенные значения поля mb_used в df internet, так как это поле практически аналогично полю duration в df calls: можно предположить, что если за сессию было использовано 0 МБ, то сессия оказалась неудачной, и абонент не смог выйти в интернет.\n",
    "\n",
    "Применим ту же функцию ok_not_ok, результаты её работы будем интерпретировать следующим образом:\n",
    "\n",
    "- если количество израсходованных МБ равно нулю, сессии будет присовен статус \"неудачная\", а сессия будет маркирована значением 0;\n",
    "\n",
    "- если количество израсходованных МБ больше нуля, сессии будет присовен статус \"удачная\", а сессия будет маркирована значением 1;"
   ]
  },
  {
   "cell_type": "markdown",
   "metadata": {},
   "source": [
    "Протестируем работу функции."
   ]
  },
  {
   "cell_type": "code",
   "execution_count": 28,
   "metadata": {},
   "outputs": [
    {
     "name": "stdout",
     "output_type": "stream",
     "text": [
      "0\n",
      "1\n",
      "1\n"
     ]
    }
   ],
   "source": [
    "print(ok_not_ok(0))\n",
    "print(ok_not_ok(10))\n",
    "print(ok_not_ok(100))"
   ]
  },
  {
   "cell_type": "markdown",
   "metadata": {},
   "source": [
    "Функция работает корректно на тестовых данных. Применим функцию к набору данных. Результат работы функции поместим в новое поле session_status."
   ]
  },
  {
   "cell_type": "code",
   "execution_count": 29,
   "metadata": {},
   "outputs": [],
   "source": [
    "internet['session_status'] = internet['mb_used'].apply(ok_not_ok)"
   ]
  },
  {
   "cell_type": "markdown",
   "metadata": {},
   "source": [
    "Проверим, корректно ли отработала функция."
   ]
  },
  {
   "cell_type": "code",
   "execution_count": 30,
   "metadata": {},
   "outputs": [
    {
     "data": {
      "text/html": [
       "<div>\n",
       "<style scoped>\n",
       "    .dataframe tbody tr th:only-of-type {\n",
       "        vertical-align: middle;\n",
       "    }\n",
       "\n",
       "    .dataframe tbody tr th {\n",
       "        vertical-align: top;\n",
       "    }\n",
       "\n",
       "    .dataframe thead th {\n",
       "        text-align: right;\n",
       "    }\n",
       "</style>\n",
       "<table border=\"1\" class=\"dataframe\">\n",
       "  <thead>\n",
       "    <tr style=\"text-align: right;\">\n",
       "      <th></th>\n",
       "      <th>id</th>\n",
       "      <th>mb_used</th>\n",
       "      <th>session_date</th>\n",
       "      <th>user_id</th>\n",
       "      <th>session_status</th>\n",
       "    </tr>\n",
       "  </thead>\n",
       "  <tbody>\n",
       "    <tr>\n",
       "      <td>0</td>\n",
       "      <td>1000_0</td>\n",
       "      <td>113</td>\n",
       "      <td>2018-11-25</td>\n",
       "      <td>1000</td>\n",
       "      <td>1</td>\n",
       "    </tr>\n",
       "    <tr>\n",
       "      <td>1</td>\n",
       "      <td>1000_1</td>\n",
       "      <td>1053</td>\n",
       "      <td>2018-09-07</td>\n",
       "      <td>1000</td>\n",
       "      <td>1</td>\n",
       "    </tr>\n",
       "    <tr>\n",
       "      <td>2</td>\n",
       "      <td>1000_2</td>\n",
       "      <td>1198</td>\n",
       "      <td>2018-06-25</td>\n",
       "      <td>1000</td>\n",
       "      <td>1</td>\n",
       "    </tr>\n",
       "    <tr>\n",
       "      <td>3</td>\n",
       "      <td>1000_3</td>\n",
       "      <td>551</td>\n",
       "      <td>2018-08-22</td>\n",
       "      <td>1000</td>\n",
       "      <td>1</td>\n",
       "    </tr>\n",
       "    <tr>\n",
       "      <td>4</td>\n",
       "      <td>1000_4</td>\n",
       "      <td>303</td>\n",
       "      <td>2018-09-24</td>\n",
       "      <td>1000</td>\n",
       "      <td>1</td>\n",
       "    </tr>\n",
       "    <tr>\n",
       "      <td>5</td>\n",
       "      <td>1000_5</td>\n",
       "      <td>400</td>\n",
       "      <td>2018-10-02</td>\n",
       "      <td>1000</td>\n",
       "      <td>1</td>\n",
       "    </tr>\n",
       "    <tr>\n",
       "      <td>6</td>\n",
       "      <td>1000_6</td>\n",
       "      <td>541</td>\n",
       "      <td>2018-09-07</td>\n",
       "      <td>1000</td>\n",
       "      <td>1</td>\n",
       "    </tr>\n",
       "    <tr>\n",
       "      <td>7</td>\n",
       "      <td>1000_7</td>\n",
       "      <td>416</td>\n",
       "      <td>2018-07-11</td>\n",
       "      <td>1000</td>\n",
       "      <td>1</td>\n",
       "    </tr>\n",
       "    <tr>\n",
       "      <td>8</td>\n",
       "      <td>1000_8</td>\n",
       "      <td>506</td>\n",
       "      <td>2018-10-08</td>\n",
       "      <td>1000</td>\n",
       "      <td>1</td>\n",
       "    </tr>\n",
       "    <tr>\n",
       "      <td>9</td>\n",
       "      <td>1000_9</td>\n",
       "      <td>346</td>\n",
       "      <td>2018-09-03</td>\n",
       "      <td>1000</td>\n",
       "      <td>1</td>\n",
       "    </tr>\n",
       "  </tbody>\n",
       "</table>\n",
       "</div>"
      ],
      "text/plain": [
       "       id  mb_used session_date  user_id  session_status\n",
       "0  1000_0      113   2018-11-25     1000               1\n",
       "1  1000_1     1053   2018-09-07     1000               1\n",
       "2  1000_2     1198   2018-06-25     1000               1\n",
       "3  1000_3      551   2018-08-22     1000               1\n",
       "4  1000_4      303   2018-09-24     1000               1\n",
       "5  1000_5      400   2018-10-02     1000               1\n",
       "6  1000_6      541   2018-09-07     1000               1\n",
       "7  1000_7      416   2018-07-11     1000               1\n",
       "8  1000_8      506   2018-10-08     1000               1\n",
       "9  1000_9      346   2018-09-03     1000               1"
      ]
     },
     "execution_count": 30,
     "metadata": {},
     "output_type": "execute_result"
    }
   ],
   "source": [
    "internet.head(10)"
   ]
  },
  {
   "cell_type": "markdown",
   "metadata": {},
   "source": [
    "Видим, что замена осуществлена корректно."
   ]
  },
  {
   "cell_type": "markdown",
   "metadata": {},
   "source": [
    "## Выводы по этапу 2.\n",
    "\n",
    "На данном этапе была произведена предварительная обработка данных, которая заключалась в:\n",
    "\n",
    "- преобразовании типов данных;\n",
    "\n",
    "\n",
    "- обработке пропущенных значений;\n",
    "\n",
    "\n",
    "- обработке аномальных значений.\n",
    "\n",
    "В рамках преобразования типов данных были преобразованы данные в поле duration в df calls и поле mb_used в df internet, поля call_date в df calls, поля session_date в df internet, поля message_date в df messages, полей churn_date и reg_date в df users.\n",
    "\n",
    "Данные в этих полях описывают длительность звонка в количество израсходованных МБ во время интернет-сессии. Так как корректнее использовать целочисленные значения для измерения этих параметров, они были преобразованы из типа float в тип int, что позволило округлить дробные значения.\n",
    "\n",
    "Данные поля call_date в df calls, поля session_date в df internet, поля message_date в df messages, полей churn_date и reg_date в df users были преобразованы из типа str в тип datatime за счёт применения соответствующей функции.\n",
    "\n",
    "В рамках обработки пропущенных значений исследовалось поле churn_date в df users. Это поле описывает дату, когда абонент закрыл свой тариф в компании. Следовательно, если для абонента это поле не заполнено, аботнент ещё не отказался от тарифа и на момент формирования набора данных сотрудничает с компанией, если значение в поле заполнено - абонент закрыл тариф и ушёл в отток. \n",
    "\n",
    "Так как нам важно понимать статус абонента - ушедший или действующий - пропуски в поле churn_date не обрабатывались, а на основе поле churn_date было создано поле user_status, которое содержит значение 0, если абонент ещё не закрыл свой тариф, и значение 1, если абонент ушёл в отток. Для этого была написана соответствующая функция.\n",
    "\n",
    "В рамках обработки аномальных значений были исследованы поле duration в df calls и поле mb_used в df internet. Как отмечалось ранее, эти поля описывают длительность звонка в количество израсходованных МБ во время интернет-сессии.\n",
    "\n",
    "Были сделаны следующие предположения:\n",
    "\n",
    "- если поле duration в df calls имеет значение 0, значит, вызов был неудачный: абонент сделал вызов, но собеседник не поднял трубку, следовательно, звонок был совершён, но абонент не потратил минуты;\n",
    "\n",
    "\n",
    "- если поле mb_used в df internet имеет значение 0, значит, сессия была неудачной: абонент совершил попытку начать интернет-сессию, однако мог столкнуться с какой-либо ошибкой или проблемой (например, находился в месте, где телефон не принимает сигнал вышки), следовательно, сессия была начата, но МБ не были израсходованы.\n",
    "\n",
    "С учётом этой логики в df были добавлены новые поля: call_status в df calls и session_status в df internet, для этого была написана соответствующая функция. \n",
    "\n",
    "В случае если длительность звонка/количество израсходованных МБ равно нулю, в соответствующем поле проставляется отметка о том, что звонок/сессия неудачные, а если длительность звонка/количество израсходованных МБ больше нуля, в соответствующем поле проставляется отметка о том, что звонок/сессия удачные."
   ]
  },
  {
   "cell_type": "markdown",
   "metadata": {},
   "source": [
    "# Этап 3. Расчёт дополнительных параметров.\n",
    "\n",
    "В рамках данного этапа нам предстоит рассчитать следующие параметры:\n",
    "\n",
    "- количество сделанных звонков и израсходованных минут разговора по месяцам;\n",
    "\n",
    "- количество отправленных сообщений по месяцам;\n",
    "\n",
    "- объем израсходованного интернет-трафика по месяцам;\n",
    "\n",
    "- помесячную выручку.\n",
    "\n",
    "Все параметры должны быть рассчитаны для каждого пользователя отдельно."
   ]
  },
  {
   "cell_type": "markdown",
   "metadata": {},
   "source": [
    "## Этап 3.1. Расчёт параметра \"Количество сделанных звонков и израсходованных минут разговора по месяцам\"."
   ]
  },
  {
   "cell_type": "markdown",
   "metadata": {},
   "source": [
    "Чтобы сделать расчёт параметров по месяцам, создадим дополнительное поле month, в котором будет номер месяца, в котором абонент совершил звонок. Месяц будет извлечён из поля call_date с помощью метода dt.month "
   ]
  },
  {
   "cell_type": "code",
   "execution_count": 31,
   "metadata": {},
   "outputs": [],
   "source": [
    "calls['month'] = calls['call_date'].dt.month"
   ]
  },
  {
   "cell_type": "markdown",
   "metadata": {},
   "source": [
    "Проверим корректность извлечения месяца. Вызовем первые 10 строк из df calls."
   ]
  },
  {
   "cell_type": "code",
   "execution_count": 32,
   "metadata": {},
   "outputs": [
    {
     "data": {
      "text/html": [
       "<div>\n",
       "<style scoped>\n",
       "    .dataframe tbody tr th:only-of-type {\n",
       "        vertical-align: middle;\n",
       "    }\n",
       "\n",
       "    .dataframe tbody tr th {\n",
       "        vertical-align: top;\n",
       "    }\n",
       "\n",
       "    .dataframe thead th {\n",
       "        text-align: right;\n",
       "    }\n",
       "</style>\n",
       "<table border=\"1\" class=\"dataframe\">\n",
       "  <thead>\n",
       "    <tr style=\"text-align: right;\">\n",
       "      <th></th>\n",
       "      <th>id</th>\n",
       "      <th>call_date</th>\n",
       "      <th>duration</th>\n",
       "      <th>user_id</th>\n",
       "      <th>call_status</th>\n",
       "      <th>month</th>\n",
       "    </tr>\n",
       "  </thead>\n",
       "  <tbody>\n",
       "    <tr>\n",
       "      <td>0</td>\n",
       "      <td>1000_0</td>\n",
       "      <td>2018-07-25</td>\n",
       "      <td>0</td>\n",
       "      <td>1000</td>\n",
       "      <td>0</td>\n",
       "      <td>7</td>\n",
       "    </tr>\n",
       "    <tr>\n",
       "      <td>1</td>\n",
       "      <td>1000_1</td>\n",
       "      <td>2018-08-17</td>\n",
       "      <td>0</td>\n",
       "      <td>1000</td>\n",
       "      <td>0</td>\n",
       "      <td>8</td>\n",
       "    </tr>\n",
       "    <tr>\n",
       "      <td>2</td>\n",
       "      <td>1000_2</td>\n",
       "      <td>2018-06-11</td>\n",
       "      <td>3</td>\n",
       "      <td>1000</td>\n",
       "      <td>1</td>\n",
       "      <td>6</td>\n",
       "    </tr>\n",
       "    <tr>\n",
       "      <td>3</td>\n",
       "      <td>1000_3</td>\n",
       "      <td>2018-09-21</td>\n",
       "      <td>14</td>\n",
       "      <td>1000</td>\n",
       "      <td>1</td>\n",
       "      <td>9</td>\n",
       "    </tr>\n",
       "    <tr>\n",
       "      <td>4</td>\n",
       "      <td>1000_4</td>\n",
       "      <td>2018-12-15</td>\n",
       "      <td>6</td>\n",
       "      <td>1000</td>\n",
       "      <td>1</td>\n",
       "      <td>12</td>\n",
       "    </tr>\n",
       "    <tr>\n",
       "      <td>5</td>\n",
       "      <td>1000_5</td>\n",
       "      <td>2018-11-02</td>\n",
       "      <td>0</td>\n",
       "      <td>1000</td>\n",
       "      <td>0</td>\n",
       "      <td>11</td>\n",
       "    </tr>\n",
       "    <tr>\n",
       "      <td>6</td>\n",
       "      <td>1000_6</td>\n",
       "      <td>2018-10-18</td>\n",
       "      <td>0</td>\n",
       "      <td>1000</td>\n",
       "      <td>0</td>\n",
       "      <td>10</td>\n",
       "    </tr>\n",
       "    <tr>\n",
       "      <td>7</td>\n",
       "      <td>1000_7</td>\n",
       "      <td>2018-08-22</td>\n",
       "      <td>19</td>\n",
       "      <td>1000</td>\n",
       "      <td>1</td>\n",
       "      <td>8</td>\n",
       "    </tr>\n",
       "    <tr>\n",
       "      <td>8</td>\n",
       "      <td>1000_8</td>\n",
       "      <td>2018-09-15</td>\n",
       "      <td>19</td>\n",
       "      <td>1000</td>\n",
       "      <td>1</td>\n",
       "      <td>9</td>\n",
       "    </tr>\n",
       "    <tr>\n",
       "      <td>9</td>\n",
       "      <td>1000_9</td>\n",
       "      <td>2018-08-15</td>\n",
       "      <td>0</td>\n",
       "      <td>1000</td>\n",
       "      <td>0</td>\n",
       "      <td>8</td>\n",
       "    </tr>\n",
       "  </tbody>\n",
       "</table>\n",
       "</div>"
      ],
      "text/plain": [
       "       id  call_date  duration  user_id  call_status  month\n",
       "0  1000_0 2018-07-25         0     1000            0      7\n",
       "1  1000_1 2018-08-17         0     1000            0      8\n",
       "2  1000_2 2018-06-11         3     1000            1      6\n",
       "3  1000_3 2018-09-21        14     1000            1      9\n",
       "4  1000_4 2018-12-15         6     1000            1     12\n",
       "5  1000_5 2018-11-02         0     1000            0     11\n",
       "6  1000_6 2018-10-18         0     1000            0     10\n",
       "7  1000_7 2018-08-22        19     1000            1      8\n",
       "8  1000_8 2018-09-15        19     1000            1      9\n",
       "9  1000_9 2018-08-15         0     1000            0      8"
      ]
     },
     "execution_count": 32,
     "metadata": {},
     "output_type": "execute_result"
    }
   ],
   "source": [
    "calls.head(10)"
   ]
  },
  {
   "cell_type": "markdown",
   "metadata": {},
   "source": [
    "Видим, что месяц совершения звонка был успешно извлечён из поля call_date.\n",
    "\n",
    "Теперь можно рассчитать количество и суммарную продолжительность звонков для каждого абонента в разрезе каждого месяца. Для этого воспользуемся сводной таблицей, сделаем группировку df calls сначала по пользователям, потом по месяцам. В качестве значения передадим длительность звонка, в качестве агрегирующих функций - sum и count. Чтобы получившаяся таблица выглядела читабельно, переиндексируем её строки методом reset_index."
   ]
  },
  {
   "cell_type": "code",
   "execution_count": 33,
   "metadata": {},
   "outputs": [],
   "source": [
    "calls_monthly_stat = calls.pivot_table(index = ['user_id', 'month'], values = 'duration', \n",
    "                                       aggfunc = ('count', 'sum')).reset_index()\n",
    "calls_monthly_stat.columns = ['user_id', 'month', 'calls_count', 'calls_sum']"
   ]
  },
  {
   "cell_type": "code",
   "execution_count": 34,
   "metadata": {},
   "outputs": [
    {
     "data": {
      "text/html": [
       "<div>\n",
       "<style scoped>\n",
       "    .dataframe tbody tr th:only-of-type {\n",
       "        vertical-align: middle;\n",
       "    }\n",
       "\n",
       "    .dataframe tbody tr th {\n",
       "        vertical-align: top;\n",
       "    }\n",
       "\n",
       "    .dataframe thead th {\n",
       "        text-align: right;\n",
       "    }\n",
       "</style>\n",
       "<table border=\"1\" class=\"dataframe\">\n",
       "  <thead>\n",
       "    <tr style=\"text-align: right;\">\n",
       "      <th></th>\n",
       "      <th>user_id</th>\n",
       "      <th>month</th>\n",
       "      <th>calls_count</th>\n",
       "      <th>calls_sum</th>\n",
       "    </tr>\n",
       "  </thead>\n",
       "  <tbody>\n",
       "    <tr>\n",
       "      <td>0</td>\n",
       "      <td>1000</td>\n",
       "      <td>5</td>\n",
       "      <td>22</td>\n",
       "      <td>159</td>\n",
       "    </tr>\n",
       "    <tr>\n",
       "      <td>1</td>\n",
       "      <td>1000</td>\n",
       "      <td>6</td>\n",
       "      <td>43</td>\n",
       "      <td>172</td>\n",
       "    </tr>\n",
       "    <tr>\n",
       "      <td>2</td>\n",
       "      <td>1000</td>\n",
       "      <td>7</td>\n",
       "      <td>47</td>\n",
       "      <td>340</td>\n",
       "    </tr>\n",
       "    <tr>\n",
       "      <td>3</td>\n",
       "      <td>1000</td>\n",
       "      <td>8</td>\n",
       "      <td>52</td>\n",
       "      <td>408</td>\n",
       "    </tr>\n",
       "    <tr>\n",
       "      <td>4</td>\n",
       "      <td>1000</td>\n",
       "      <td>9</td>\n",
       "      <td>58</td>\n",
       "      <td>466</td>\n",
       "    </tr>\n",
       "    <tr>\n",
       "      <td>5</td>\n",
       "      <td>1000</td>\n",
       "      <td>10</td>\n",
       "      <td>57</td>\n",
       "      <td>350</td>\n",
       "    </tr>\n",
       "    <tr>\n",
       "      <td>6</td>\n",
       "      <td>1000</td>\n",
       "      <td>11</td>\n",
       "      <td>43</td>\n",
       "      <td>338</td>\n",
       "    </tr>\n",
       "    <tr>\n",
       "      <td>7</td>\n",
       "      <td>1000</td>\n",
       "      <td>12</td>\n",
       "      <td>46</td>\n",
       "      <td>333</td>\n",
       "    </tr>\n",
       "    <tr>\n",
       "      <td>8</td>\n",
       "      <td>1001</td>\n",
       "      <td>11</td>\n",
       "      <td>59</td>\n",
       "      <td>430</td>\n",
       "    </tr>\n",
       "    <tr>\n",
       "      <td>9</td>\n",
       "      <td>1001</td>\n",
       "      <td>12</td>\n",
       "      <td>63</td>\n",
       "      <td>414</td>\n",
       "    </tr>\n",
       "  </tbody>\n",
       "</table>\n",
       "</div>"
      ],
      "text/plain": [
       "   user_id  month  calls_count  calls_sum\n",
       "0     1000      5           22        159\n",
       "1     1000      6           43        172\n",
       "2     1000      7           47        340\n",
       "3     1000      8           52        408\n",
       "4     1000      9           58        466\n",
       "5     1000     10           57        350\n",
       "6     1000     11           43        338\n",
       "7     1000     12           46        333\n",
       "8     1001     11           59        430\n",
       "9     1001     12           63        414"
      ]
     },
     "execution_count": 34,
     "metadata": {},
     "output_type": "execute_result"
    }
   ],
   "source": [
    "calls_monthly_stat.head(10)"
   ]
  },
  {
   "cell_type": "markdown",
   "metadata": {},
   "source": [
    "Видим, что мы успешно посчитали количество звонков и их продолжительность в разбивке по месяцам 2018 года."
   ]
  },
  {
   "cell_type": "markdown",
   "metadata": {},
   "source": [
    "## Этап 3.2. Расчёт параметра \"Количество отправленных сообщений по месяцам\".\n",
    "\n",
    "Логика действий в данном аналогична логике предыдущего этапа: \n",
    "\n",
    "1. Создаём поле month в df messages, помещаем туда номер месяца, извлечённый из поля message_date.\n",
    "\n",
    "2. Создаём сводную таблицу."
   ]
  },
  {
   "cell_type": "code",
   "execution_count": 35,
   "metadata": {},
   "outputs": [],
   "source": [
    "messages['month'] = messages['message_date'].dt.month"
   ]
  },
  {
   "cell_type": "markdown",
   "metadata": {},
   "source": [
    "Проверяем корректность извлечения месяца."
   ]
  },
  {
   "cell_type": "code",
   "execution_count": 36,
   "metadata": {},
   "outputs": [
    {
     "data": {
      "text/html": [
       "<div>\n",
       "<style scoped>\n",
       "    .dataframe tbody tr th:only-of-type {\n",
       "        vertical-align: middle;\n",
       "    }\n",
       "\n",
       "    .dataframe tbody tr th {\n",
       "        vertical-align: top;\n",
       "    }\n",
       "\n",
       "    .dataframe thead th {\n",
       "        text-align: right;\n",
       "    }\n",
       "</style>\n",
       "<table border=\"1\" class=\"dataframe\">\n",
       "  <thead>\n",
       "    <tr style=\"text-align: right;\">\n",
       "      <th></th>\n",
       "      <th>id</th>\n",
       "      <th>message_date</th>\n",
       "      <th>user_id</th>\n",
       "      <th>month</th>\n",
       "    </tr>\n",
       "  </thead>\n",
       "  <tbody>\n",
       "    <tr>\n",
       "      <td>0</td>\n",
       "      <td>1000_0</td>\n",
       "      <td>2018-06-27</td>\n",
       "      <td>1000</td>\n",
       "      <td>6</td>\n",
       "    </tr>\n",
       "    <tr>\n",
       "      <td>1</td>\n",
       "      <td>1000_1</td>\n",
       "      <td>2018-10-08</td>\n",
       "      <td>1000</td>\n",
       "      <td>10</td>\n",
       "    </tr>\n",
       "    <tr>\n",
       "      <td>2</td>\n",
       "      <td>1000_2</td>\n",
       "      <td>2018-08-04</td>\n",
       "      <td>1000</td>\n",
       "      <td>8</td>\n",
       "    </tr>\n",
       "    <tr>\n",
       "      <td>3</td>\n",
       "      <td>1000_3</td>\n",
       "      <td>2018-06-16</td>\n",
       "      <td>1000</td>\n",
       "      <td>6</td>\n",
       "    </tr>\n",
       "    <tr>\n",
       "      <td>4</td>\n",
       "      <td>1000_4</td>\n",
       "      <td>2018-12-05</td>\n",
       "      <td>1000</td>\n",
       "      <td>12</td>\n",
       "    </tr>\n",
       "    <tr>\n",
       "      <td>5</td>\n",
       "      <td>1000_5</td>\n",
       "      <td>2018-06-20</td>\n",
       "      <td>1000</td>\n",
       "      <td>6</td>\n",
       "    </tr>\n",
       "    <tr>\n",
       "      <td>6</td>\n",
       "      <td>1000_6</td>\n",
       "      <td>2018-11-19</td>\n",
       "      <td>1000</td>\n",
       "      <td>11</td>\n",
       "    </tr>\n",
       "    <tr>\n",
       "      <td>7</td>\n",
       "      <td>1000_7</td>\n",
       "      <td>2018-10-29</td>\n",
       "      <td>1000</td>\n",
       "      <td>10</td>\n",
       "    </tr>\n",
       "    <tr>\n",
       "      <td>8</td>\n",
       "      <td>1000_8</td>\n",
       "      <td>2018-06-25</td>\n",
       "      <td>1000</td>\n",
       "      <td>6</td>\n",
       "    </tr>\n",
       "    <tr>\n",
       "      <td>9</td>\n",
       "      <td>1000_9</td>\n",
       "      <td>2018-12-18</td>\n",
       "      <td>1000</td>\n",
       "      <td>12</td>\n",
       "    </tr>\n",
       "  </tbody>\n",
       "</table>\n",
       "</div>"
      ],
      "text/plain": [
       "       id message_date  user_id  month\n",
       "0  1000_0   2018-06-27     1000      6\n",
       "1  1000_1   2018-10-08     1000     10\n",
       "2  1000_2   2018-08-04     1000      8\n",
       "3  1000_3   2018-06-16     1000      6\n",
       "4  1000_4   2018-12-05     1000     12\n",
       "5  1000_5   2018-06-20     1000      6\n",
       "6  1000_6   2018-11-19     1000     11\n",
       "7  1000_7   2018-10-29     1000     10\n",
       "8  1000_8   2018-06-25     1000      6\n",
       "9  1000_9   2018-12-18     1000     12"
      ]
     },
     "execution_count": 36,
     "metadata": {},
     "output_type": "execute_result"
    }
   ],
   "source": [
    "messages.head(10)"
   ]
  },
  {
   "cell_type": "markdown",
   "metadata": {},
   "source": [
    "Видим, что месяц был корректно извлечён из поля message_date. Приступим к созданию сводной таблицы."
   ]
  },
  {
   "cell_type": "code",
   "execution_count": 37,
   "metadata": {},
   "outputs": [],
   "source": [
    "messages_monthly_stat = messages.pivot_table(index = ['user_id', 'month'], values = 'message_date', \n",
    "                                       aggfunc = 'count').reset_index()\n",
    "messages_monthly_stat.columns = ['user_id', 'month', 'messages_count']"
   ]
  },
  {
   "cell_type": "code",
   "execution_count": 38,
   "metadata": {},
   "outputs": [
    {
     "data": {
      "text/html": [
       "<div>\n",
       "<style scoped>\n",
       "    .dataframe tbody tr th:only-of-type {\n",
       "        vertical-align: middle;\n",
       "    }\n",
       "\n",
       "    .dataframe tbody tr th {\n",
       "        vertical-align: top;\n",
       "    }\n",
       "\n",
       "    .dataframe thead th {\n",
       "        text-align: right;\n",
       "    }\n",
       "</style>\n",
       "<table border=\"1\" class=\"dataframe\">\n",
       "  <thead>\n",
       "    <tr style=\"text-align: right;\">\n",
       "      <th></th>\n",
       "      <th>user_id</th>\n",
       "      <th>month</th>\n",
       "      <th>messages_count</th>\n",
       "    </tr>\n",
       "  </thead>\n",
       "  <tbody>\n",
       "    <tr>\n",
       "      <td>0</td>\n",
       "      <td>1000</td>\n",
       "      <td>5</td>\n",
       "      <td>22</td>\n",
       "    </tr>\n",
       "    <tr>\n",
       "      <td>1</td>\n",
       "      <td>1000</td>\n",
       "      <td>6</td>\n",
       "      <td>60</td>\n",
       "    </tr>\n",
       "    <tr>\n",
       "      <td>2</td>\n",
       "      <td>1000</td>\n",
       "      <td>7</td>\n",
       "      <td>75</td>\n",
       "    </tr>\n",
       "    <tr>\n",
       "      <td>3</td>\n",
       "      <td>1000</td>\n",
       "      <td>8</td>\n",
       "      <td>81</td>\n",
       "    </tr>\n",
       "    <tr>\n",
       "      <td>4</td>\n",
       "      <td>1000</td>\n",
       "      <td>9</td>\n",
       "      <td>57</td>\n",
       "    </tr>\n",
       "    <tr>\n",
       "      <td>5</td>\n",
       "      <td>1000</td>\n",
       "      <td>10</td>\n",
       "      <td>73</td>\n",
       "    </tr>\n",
       "    <tr>\n",
       "      <td>6</td>\n",
       "      <td>1000</td>\n",
       "      <td>11</td>\n",
       "      <td>58</td>\n",
       "    </tr>\n",
       "    <tr>\n",
       "      <td>7</td>\n",
       "      <td>1000</td>\n",
       "      <td>12</td>\n",
       "      <td>70</td>\n",
       "    </tr>\n",
       "    <tr>\n",
       "      <td>8</td>\n",
       "      <td>1002</td>\n",
       "      <td>6</td>\n",
       "      <td>4</td>\n",
       "    </tr>\n",
       "    <tr>\n",
       "      <td>9</td>\n",
       "      <td>1002</td>\n",
       "      <td>7</td>\n",
       "      <td>11</td>\n",
       "    </tr>\n",
       "  </tbody>\n",
       "</table>\n",
       "</div>"
      ],
      "text/plain": [
       "   user_id  month  messages_count\n",
       "0     1000      5              22\n",
       "1     1000      6              60\n",
       "2     1000      7              75\n",
       "3     1000      8              81\n",
       "4     1000      9              57\n",
       "5     1000     10              73\n",
       "6     1000     11              58\n",
       "7     1000     12              70\n",
       "8     1002      6               4\n",
       "9     1002      7              11"
      ]
     },
     "execution_count": 38,
     "metadata": {},
     "output_type": "execute_result"
    }
   ],
   "source": [
    "messages_monthly_stat.head(10)"
   ]
  },
  {
   "cell_type": "markdown",
   "metadata": {},
   "source": [
    "Количество отправленных сообщений по каждому абоненту в разбивке по месяцам 2018 года посчитано успешно."
   ]
  },
  {
   "cell_type": "markdown",
   "metadata": {},
   "source": [
    "## Этап 3.3. Расчёт параметра \"Объём израсходованного интернет-трафика по месяцам\".\n",
    "\n",
    "Логика действий в данном этапе аналогична логике предыдущего этапа:\n",
    "\n",
    "1. Создаём поле session_month в df internet, помещаем туда номер месяца, извлечённый из поля session_date.\n",
    "\n",
    "2. Создаём сводную таблицу."
   ]
  },
  {
   "cell_type": "code",
   "execution_count": 39,
   "metadata": {},
   "outputs": [],
   "source": [
    "internet['month'] = internet['session_date'].dt.month"
   ]
  },
  {
   "cell_type": "markdown",
   "metadata": {},
   "source": [
    "Проверяем корректность извлечения месяца."
   ]
  },
  {
   "cell_type": "code",
   "execution_count": 40,
   "metadata": {},
   "outputs": [
    {
     "data": {
      "text/html": [
       "<div>\n",
       "<style scoped>\n",
       "    .dataframe tbody tr th:only-of-type {\n",
       "        vertical-align: middle;\n",
       "    }\n",
       "\n",
       "    .dataframe tbody tr th {\n",
       "        vertical-align: top;\n",
       "    }\n",
       "\n",
       "    .dataframe thead th {\n",
       "        text-align: right;\n",
       "    }\n",
       "</style>\n",
       "<table border=\"1\" class=\"dataframe\">\n",
       "  <thead>\n",
       "    <tr style=\"text-align: right;\">\n",
       "      <th></th>\n",
       "      <th>id</th>\n",
       "      <th>mb_used</th>\n",
       "      <th>session_date</th>\n",
       "      <th>user_id</th>\n",
       "      <th>session_status</th>\n",
       "      <th>month</th>\n",
       "    </tr>\n",
       "  </thead>\n",
       "  <tbody>\n",
       "    <tr>\n",
       "      <td>0</td>\n",
       "      <td>1000_0</td>\n",
       "      <td>113</td>\n",
       "      <td>2018-11-25</td>\n",
       "      <td>1000</td>\n",
       "      <td>1</td>\n",
       "      <td>11</td>\n",
       "    </tr>\n",
       "    <tr>\n",
       "      <td>1</td>\n",
       "      <td>1000_1</td>\n",
       "      <td>1053</td>\n",
       "      <td>2018-09-07</td>\n",
       "      <td>1000</td>\n",
       "      <td>1</td>\n",
       "      <td>9</td>\n",
       "    </tr>\n",
       "    <tr>\n",
       "      <td>2</td>\n",
       "      <td>1000_2</td>\n",
       "      <td>1198</td>\n",
       "      <td>2018-06-25</td>\n",
       "      <td>1000</td>\n",
       "      <td>1</td>\n",
       "      <td>6</td>\n",
       "    </tr>\n",
       "    <tr>\n",
       "      <td>3</td>\n",
       "      <td>1000_3</td>\n",
       "      <td>551</td>\n",
       "      <td>2018-08-22</td>\n",
       "      <td>1000</td>\n",
       "      <td>1</td>\n",
       "      <td>8</td>\n",
       "    </tr>\n",
       "    <tr>\n",
       "      <td>4</td>\n",
       "      <td>1000_4</td>\n",
       "      <td>303</td>\n",
       "      <td>2018-09-24</td>\n",
       "      <td>1000</td>\n",
       "      <td>1</td>\n",
       "      <td>9</td>\n",
       "    </tr>\n",
       "    <tr>\n",
       "      <td>5</td>\n",
       "      <td>1000_5</td>\n",
       "      <td>400</td>\n",
       "      <td>2018-10-02</td>\n",
       "      <td>1000</td>\n",
       "      <td>1</td>\n",
       "      <td>10</td>\n",
       "    </tr>\n",
       "    <tr>\n",
       "      <td>6</td>\n",
       "      <td>1000_6</td>\n",
       "      <td>541</td>\n",
       "      <td>2018-09-07</td>\n",
       "      <td>1000</td>\n",
       "      <td>1</td>\n",
       "      <td>9</td>\n",
       "    </tr>\n",
       "    <tr>\n",
       "      <td>7</td>\n",
       "      <td>1000_7</td>\n",
       "      <td>416</td>\n",
       "      <td>2018-07-11</td>\n",
       "      <td>1000</td>\n",
       "      <td>1</td>\n",
       "      <td>7</td>\n",
       "    </tr>\n",
       "    <tr>\n",
       "      <td>8</td>\n",
       "      <td>1000_8</td>\n",
       "      <td>506</td>\n",
       "      <td>2018-10-08</td>\n",
       "      <td>1000</td>\n",
       "      <td>1</td>\n",
       "      <td>10</td>\n",
       "    </tr>\n",
       "    <tr>\n",
       "      <td>9</td>\n",
       "      <td>1000_9</td>\n",
       "      <td>346</td>\n",
       "      <td>2018-09-03</td>\n",
       "      <td>1000</td>\n",
       "      <td>1</td>\n",
       "      <td>9</td>\n",
       "    </tr>\n",
       "  </tbody>\n",
       "</table>\n",
       "</div>"
      ],
      "text/plain": [
       "       id  mb_used session_date  user_id  session_status  month\n",
       "0  1000_0      113   2018-11-25     1000               1     11\n",
       "1  1000_1     1053   2018-09-07     1000               1      9\n",
       "2  1000_2     1198   2018-06-25     1000               1      6\n",
       "3  1000_3      551   2018-08-22     1000               1      8\n",
       "4  1000_4      303   2018-09-24     1000               1      9\n",
       "5  1000_5      400   2018-10-02     1000               1     10\n",
       "6  1000_6      541   2018-09-07     1000               1      9\n",
       "7  1000_7      416   2018-07-11     1000               1      7\n",
       "8  1000_8      506   2018-10-08     1000               1     10\n",
       "9  1000_9      346   2018-09-03     1000               1      9"
      ]
     },
     "execution_count": 40,
     "metadata": {},
     "output_type": "execute_result"
    }
   ],
   "source": [
    "internet.head(10)"
   ]
  },
  {
   "cell_type": "markdown",
   "metadata": {},
   "source": [
    "Видим, что месяц был корректно извлечён из поля session_date. Приступим к созданию сводной таблицы."
   ]
  },
  {
   "cell_type": "code",
   "execution_count": 41,
   "metadata": {},
   "outputs": [],
   "source": [
    "internet_monthly_stat = internet.pivot_table(index = ['user_id', 'month'], values = 'mb_used', \n",
    "                                       aggfunc = 'sum').reset_index()\n",
    "internet_monthly_stat.columns = ['user_id', 'month', 'mb_used_sum']"
   ]
  },
  {
   "cell_type": "code",
   "execution_count": 42,
   "metadata": {},
   "outputs": [
    {
     "data": {
      "text/html": [
       "<div>\n",
       "<style scoped>\n",
       "    .dataframe tbody tr th:only-of-type {\n",
       "        vertical-align: middle;\n",
       "    }\n",
       "\n",
       "    .dataframe tbody tr th {\n",
       "        vertical-align: top;\n",
       "    }\n",
       "\n",
       "    .dataframe thead th {\n",
       "        text-align: right;\n",
       "    }\n",
       "</style>\n",
       "<table border=\"1\" class=\"dataframe\">\n",
       "  <thead>\n",
       "    <tr style=\"text-align: right;\">\n",
       "      <th></th>\n",
       "      <th>user_id</th>\n",
       "      <th>month</th>\n",
       "      <th>mb_used_sum</th>\n",
       "    </tr>\n",
       "  </thead>\n",
       "  <tbody>\n",
       "    <tr>\n",
       "      <td>0</td>\n",
       "      <td>1000</td>\n",
       "      <td>5</td>\n",
       "      <td>2256</td>\n",
       "    </tr>\n",
       "    <tr>\n",
       "      <td>1</td>\n",
       "      <td>1000</td>\n",
       "      <td>6</td>\n",
       "      <td>23257</td>\n",
       "    </tr>\n",
       "    <tr>\n",
       "      <td>2</td>\n",
       "      <td>1000</td>\n",
       "      <td>7</td>\n",
       "      <td>14016</td>\n",
       "    </tr>\n",
       "    <tr>\n",
       "      <td>3</td>\n",
       "      <td>1000</td>\n",
       "      <td>8</td>\n",
       "      <td>14070</td>\n",
       "    </tr>\n",
       "    <tr>\n",
       "      <td>4</td>\n",
       "      <td>1000</td>\n",
       "      <td>9</td>\n",
       "      <td>14581</td>\n",
       "    </tr>\n",
       "    <tr>\n",
       "      <td>5</td>\n",
       "      <td>1000</td>\n",
       "      <td>10</td>\n",
       "      <td>14717</td>\n",
       "    </tr>\n",
       "    <tr>\n",
       "      <td>6</td>\n",
       "      <td>1000</td>\n",
       "      <td>11</td>\n",
       "      <td>14768</td>\n",
       "    </tr>\n",
       "    <tr>\n",
       "      <td>7</td>\n",
       "      <td>1000</td>\n",
       "      <td>12</td>\n",
       "      <td>9827</td>\n",
       "    </tr>\n",
       "    <tr>\n",
       "      <td>8</td>\n",
       "      <td>1001</td>\n",
       "      <td>11</td>\n",
       "      <td>18452</td>\n",
       "    </tr>\n",
       "    <tr>\n",
       "      <td>9</td>\n",
       "      <td>1001</td>\n",
       "      <td>12</td>\n",
       "      <td>14053</td>\n",
       "    </tr>\n",
       "  </tbody>\n",
       "</table>\n",
       "</div>"
      ],
      "text/plain": [
       "   user_id  month  mb_used_sum\n",
       "0     1000      5         2256\n",
       "1     1000      6        23257\n",
       "2     1000      7        14016\n",
       "3     1000      8        14070\n",
       "4     1000      9        14581\n",
       "5     1000     10        14717\n",
       "6     1000     11        14768\n",
       "7     1000     12         9827\n",
       "8     1001     11        18452\n",
       "9     1001     12        14053"
      ]
     },
     "execution_count": 42,
     "metadata": {},
     "output_type": "execute_result"
    }
   ],
   "source": [
    "internet_monthly_stat.head(10)"
   ]
  },
  {
   "cell_type": "markdown",
   "metadata": {},
   "source": [
    "Сумма израсходованных МБ по каждому абоненту в разбивке по месяцам 2018 года посчитано успешно."
   ]
  },
  {
   "cell_type": "markdown",
   "metadata": {},
   "source": [
    "## Этап 3.4. Расчёт параметра \"Помесячная выручка\"\n",
    "\n",
    "На данном этапе нам предстоит рассчитать по каждому пользователю помесячную выручку. Та ещё задачка, да?\n",
    "\n",
    "Отмечу, что помесячная выручка будет складываться из 4 компонентов:\n",
    "\n",
    "1. Ежемесячная абонентская плата, величина которой зафиксирована и описывается условиями тарифа.\n",
    "\n",
    "2. Платежи абонента за дополнительные минуты, не предусмотренные тарифом.\n",
    "\n",
    "3. Платежи абонента за дополнительные МБ интернета, не предусмотренные тарифом.\n",
    "\n",
    "4. Платежи абонента за дополнительные сообщения, не предусмотренные тарифом.\n",
    "\n",
    "Отмечу, что в описании проекта представлен упрощённый алгоритм расчёта помесячной выручки: \"вычтите бесплатный лимит из суммарного количества звонков, сообщений и интернет-трафика; остаток умножьте на значение из тарифного плана; прибавьте абонентскую плату, соответствующую тарифному плану\".\n",
    "\n",
    "На практике абонент может подключиться к тарифному плану, например, 2018-01-30, разово уплатив стоимость абонентской платы, и эта абонентская плата ляжет на доходы компании в январе. Также абонент может израсходовать минуты и трафик, включённые в тариф, за 15 дней, а далее он будет платить за дополнительные минуты и приобретать дополнительные МБ интернета. Плата абонента за дополнительные минуты и МБ, которую абонент совершит уже в феврале, должна лечь в доходы компании от абонента в феврале. \n",
    "\n",
    "Однако в рамках данного проекта предлагаю условиться о том, что если клиент вносит абонентскую плату в одном месяце, а дополнительные минуты и МБ приобретает во втором месяце, доходы от приобретения дополнительных минут и МБ относятся к выручке от абонента в том месяце, в котором он внёс плату за абонентское обслуживание.\n",
    "\n",
    "Чтобы упросить процесс расчёта, предлагаю считать доход для каждой метрики отдельно (отдельно доход от звонков, отдельно - от интернета, отдельно - от сообщений), а также отдельным параметром выделить саму абонентскую плату. Потом объединить все доходы в общую таблицу, что, как мне кажется, будет иметь большую бизнес-ценность, так как позволить понять, какая часть тарифного плана - минуты, интернет или сообщения - генирирует больше выручки.\n",
    "\n",
    "### Этап 3.4.1. Расчёт помесячных платежей от использования абонентом дополнительных минут.\n",
    "\n",
    "Начнём с расчёта помесячных платежей от использования абонентом дополнительных минут. \n",
    "\n",
    "Чтобы это сделать, необходимо к df calls_monthly_stat присоединить df users, чтобы узнать его тариф, дату его открытия, статус и дату закрытия, если абонент ушёл. Также необходимо присоединить df tariffs, чтобы получить объём включённых в него минут, МБ и сообщений и ценовые характеристики дополнительных минут, МБ и сообщений.\n",
    "\n",
    "Вместе с тем мы помним, что в df users имя тарифа хранится в поле tariff, а в df tariffs имя тарифа хранится в поле tariff_name. Чтобы у нас была возможность осуществить соединение таблиц, необходимо убрать различия в наименовании этих полей. \n",
    "\n",
    "Для этого передадим df users список с новыми именами полей."
   ]
  },
  {
   "cell_type": "code",
   "execution_count": 43,
   "metadata": {},
   "outputs": [],
   "source": [
    "users.columns = ['user_id', 'age', 'churn_date', 'city', 'first_name', 'last_name', 'reg_date', 'tariff_name', 'user_status']"
   ]
  },
  {
   "cell_type": "markdown",
   "metadata": {},
   "source": [
    "Проверим, корректно ли осуществлена замена имён полей в df users."
   ]
  },
  {
   "cell_type": "code",
   "execution_count": 44,
   "metadata": {},
   "outputs": [
    {
     "data": {
      "text/html": [
       "<div>\n",
       "<style scoped>\n",
       "    .dataframe tbody tr th:only-of-type {\n",
       "        vertical-align: middle;\n",
       "    }\n",
       "\n",
       "    .dataframe tbody tr th {\n",
       "        vertical-align: top;\n",
       "    }\n",
       "\n",
       "    .dataframe thead th {\n",
       "        text-align: right;\n",
       "    }\n",
       "</style>\n",
       "<table border=\"1\" class=\"dataframe\">\n",
       "  <thead>\n",
       "    <tr style=\"text-align: right;\">\n",
       "      <th></th>\n",
       "      <th>user_id</th>\n",
       "      <th>age</th>\n",
       "      <th>churn_date</th>\n",
       "      <th>city</th>\n",
       "      <th>first_name</th>\n",
       "      <th>last_name</th>\n",
       "      <th>reg_date</th>\n",
       "      <th>tariff_name</th>\n",
       "      <th>user_status</th>\n",
       "    </tr>\n",
       "  </thead>\n",
       "  <tbody>\n",
       "    <tr>\n",
       "      <td>0</td>\n",
       "      <td>1000</td>\n",
       "      <td>52</td>\n",
       "      <td>0</td>\n",
       "      <td>Краснодар</td>\n",
       "      <td>Рафаил</td>\n",
       "      <td>Верещагин</td>\n",
       "      <td>2018-05-25</td>\n",
       "      <td>ultra</td>\n",
       "      <td>0</td>\n",
       "    </tr>\n",
       "    <tr>\n",
       "      <td>1</td>\n",
       "      <td>1001</td>\n",
       "      <td>41</td>\n",
       "      <td>0</td>\n",
       "      <td>Москва</td>\n",
       "      <td>Иван</td>\n",
       "      <td>Ежов</td>\n",
       "      <td>2018-11-01</td>\n",
       "      <td>smart</td>\n",
       "      <td>0</td>\n",
       "    </tr>\n",
       "    <tr>\n",
       "      <td>2</td>\n",
       "      <td>1002</td>\n",
       "      <td>59</td>\n",
       "      <td>0</td>\n",
       "      <td>Стерлитамак</td>\n",
       "      <td>Евгений</td>\n",
       "      <td>Абрамович</td>\n",
       "      <td>2018-06-17</td>\n",
       "      <td>smart</td>\n",
       "      <td>0</td>\n",
       "    </tr>\n",
       "    <tr>\n",
       "      <td>3</td>\n",
       "      <td>1003</td>\n",
       "      <td>23</td>\n",
       "      <td>0</td>\n",
       "      <td>Москва</td>\n",
       "      <td>Белла</td>\n",
       "      <td>Белякова</td>\n",
       "      <td>2018-08-17</td>\n",
       "      <td>ultra</td>\n",
       "      <td>0</td>\n",
       "    </tr>\n",
       "    <tr>\n",
       "      <td>4</td>\n",
       "      <td>1004</td>\n",
       "      <td>68</td>\n",
       "      <td>0</td>\n",
       "      <td>Новокузнецк</td>\n",
       "      <td>Татьяна</td>\n",
       "      <td>Авдеенко</td>\n",
       "      <td>2018-05-14</td>\n",
       "      <td>ultra</td>\n",
       "      <td>0</td>\n",
       "    </tr>\n",
       "    <tr>\n",
       "      <td>5</td>\n",
       "      <td>1005</td>\n",
       "      <td>67</td>\n",
       "      <td>0</td>\n",
       "      <td>Набережные Челны</td>\n",
       "      <td>Афанасий</td>\n",
       "      <td>Горлов</td>\n",
       "      <td>2018-01-25</td>\n",
       "      <td>smart</td>\n",
       "      <td>0</td>\n",
       "    </tr>\n",
       "    <tr>\n",
       "      <td>6</td>\n",
       "      <td>1006</td>\n",
       "      <td>21</td>\n",
       "      <td>0</td>\n",
       "      <td>Ульяновск</td>\n",
       "      <td>Леонид</td>\n",
       "      <td>Ермолаев</td>\n",
       "      <td>2018-02-26</td>\n",
       "      <td>smart</td>\n",
       "      <td>0</td>\n",
       "    </tr>\n",
       "    <tr>\n",
       "      <td>7</td>\n",
       "      <td>1007</td>\n",
       "      <td>65</td>\n",
       "      <td>0</td>\n",
       "      <td>Москва</td>\n",
       "      <td>Юна</td>\n",
       "      <td>Березина</td>\n",
       "      <td>2018-04-19</td>\n",
       "      <td>smart</td>\n",
       "      <td>0</td>\n",
       "    </tr>\n",
       "    <tr>\n",
       "      <td>8</td>\n",
       "      <td>1008</td>\n",
       "      <td>63</td>\n",
       "      <td>0</td>\n",
       "      <td>Челябинск</td>\n",
       "      <td>Рустэм</td>\n",
       "      <td>Пономарёв</td>\n",
       "      <td>2018-12-19</td>\n",
       "      <td>smart</td>\n",
       "      <td>0</td>\n",
       "    </tr>\n",
       "    <tr>\n",
       "      <td>9</td>\n",
       "      <td>1009</td>\n",
       "      <td>24</td>\n",
       "      <td>0</td>\n",
       "      <td>Пермь</td>\n",
       "      <td>Василиса</td>\n",
       "      <td>Блинова</td>\n",
       "      <td>2018-03-22</td>\n",
       "      <td>smart</td>\n",
       "      <td>0</td>\n",
       "    </tr>\n",
       "  </tbody>\n",
       "</table>\n",
       "</div>"
      ],
      "text/plain": [
       "   user_id  age churn_date              city first_name  last_name   reg_date  \\\n",
       "0     1000   52          0         Краснодар     Рафаил  Верещагин 2018-05-25   \n",
       "1     1001   41          0            Москва       Иван       Ежов 2018-11-01   \n",
       "2     1002   59          0       Стерлитамак    Евгений  Абрамович 2018-06-17   \n",
       "3     1003   23          0            Москва      Белла   Белякова 2018-08-17   \n",
       "4     1004   68          0       Новокузнецк    Татьяна   Авдеенко 2018-05-14   \n",
       "5     1005   67          0  Набережные Челны   Афанасий     Горлов 2018-01-25   \n",
       "6     1006   21          0         Ульяновск     Леонид   Ермолаев 2018-02-26   \n",
       "7     1007   65          0            Москва        Юна   Березина 2018-04-19   \n",
       "8     1008   63          0         Челябинск     Рустэм  Пономарёв 2018-12-19   \n",
       "9     1009   24          0             Пермь   Василиса    Блинова 2018-03-22   \n",
       "\n",
       "  tariff_name  user_status  \n",
       "0       ultra            0  \n",
       "1       smart            0  \n",
       "2       smart            0  \n",
       "3       ultra            0  \n",
       "4       ultra            0  \n",
       "5       smart            0  \n",
       "6       smart            0  \n",
       "7       smart            0  \n",
       "8       smart            0  \n",
       "9       smart            0  "
      ]
     },
     "execution_count": 44,
     "metadata": {},
     "output_type": "execute_result"
    }
   ],
   "source": [
    "users.head(10)"
   ]
  },
  {
   "cell_type": "markdown",
   "metadata": {},
   "source": [
    "Видим, что мы успешно передали df users список с новыми именами полей. Теперь мы можем корректно произвести соединение df.\n",
    "\n",
    "Сначала присоединим к df calls_monthly_sum, в котором описано количество израсходованных минут для каждого абонента в разрезе месяцев 2018 года. Воспользуемся методом merge, будем использовать тип слияния left, так как мы не хотим потерять ни одного абонента из df calls_monthly_stat."
   ]
  },
  {
   "cell_type": "code",
   "execution_count": 45,
   "metadata": {},
   "outputs": [],
   "source": [
    "calls_monthly_stat = calls_monthly_stat.merge(users, on = 'user_id', how = 'left')"
   ]
  },
  {
   "cell_type": "markdown",
   "metadata": {},
   "source": [
    "Проверим, корректно ли осуществилось слияние. Вызовем на экран первые 10 строк calls_monthly_stat."
   ]
  },
  {
   "cell_type": "code",
   "execution_count": 46,
   "metadata": {},
   "outputs": [
    {
     "data": {
      "text/html": [
       "<div>\n",
       "<style scoped>\n",
       "    .dataframe tbody tr th:only-of-type {\n",
       "        vertical-align: middle;\n",
       "    }\n",
       "\n",
       "    .dataframe tbody tr th {\n",
       "        vertical-align: top;\n",
       "    }\n",
       "\n",
       "    .dataframe thead th {\n",
       "        text-align: right;\n",
       "    }\n",
       "</style>\n",
       "<table border=\"1\" class=\"dataframe\">\n",
       "  <thead>\n",
       "    <tr style=\"text-align: right;\">\n",
       "      <th></th>\n",
       "      <th>user_id</th>\n",
       "      <th>month</th>\n",
       "      <th>calls_count</th>\n",
       "      <th>calls_sum</th>\n",
       "      <th>age</th>\n",
       "      <th>churn_date</th>\n",
       "      <th>city</th>\n",
       "      <th>first_name</th>\n",
       "      <th>last_name</th>\n",
       "      <th>reg_date</th>\n",
       "      <th>tariff_name</th>\n",
       "      <th>user_status</th>\n",
       "    </tr>\n",
       "  </thead>\n",
       "  <tbody>\n",
       "    <tr>\n",
       "      <td>0</td>\n",
       "      <td>1000</td>\n",
       "      <td>5</td>\n",
       "      <td>22</td>\n",
       "      <td>159</td>\n",
       "      <td>52</td>\n",
       "      <td>0</td>\n",
       "      <td>Краснодар</td>\n",
       "      <td>Рафаил</td>\n",
       "      <td>Верещагин</td>\n",
       "      <td>2018-05-25</td>\n",
       "      <td>ultra</td>\n",
       "      <td>0</td>\n",
       "    </tr>\n",
       "    <tr>\n",
       "      <td>1</td>\n",
       "      <td>1000</td>\n",
       "      <td>6</td>\n",
       "      <td>43</td>\n",
       "      <td>172</td>\n",
       "      <td>52</td>\n",
       "      <td>0</td>\n",
       "      <td>Краснодар</td>\n",
       "      <td>Рафаил</td>\n",
       "      <td>Верещагин</td>\n",
       "      <td>2018-05-25</td>\n",
       "      <td>ultra</td>\n",
       "      <td>0</td>\n",
       "    </tr>\n",
       "    <tr>\n",
       "      <td>2</td>\n",
       "      <td>1000</td>\n",
       "      <td>7</td>\n",
       "      <td>47</td>\n",
       "      <td>340</td>\n",
       "      <td>52</td>\n",
       "      <td>0</td>\n",
       "      <td>Краснодар</td>\n",
       "      <td>Рафаил</td>\n",
       "      <td>Верещагин</td>\n",
       "      <td>2018-05-25</td>\n",
       "      <td>ultra</td>\n",
       "      <td>0</td>\n",
       "    </tr>\n",
       "    <tr>\n",
       "      <td>3</td>\n",
       "      <td>1000</td>\n",
       "      <td>8</td>\n",
       "      <td>52</td>\n",
       "      <td>408</td>\n",
       "      <td>52</td>\n",
       "      <td>0</td>\n",
       "      <td>Краснодар</td>\n",
       "      <td>Рафаил</td>\n",
       "      <td>Верещагин</td>\n",
       "      <td>2018-05-25</td>\n",
       "      <td>ultra</td>\n",
       "      <td>0</td>\n",
       "    </tr>\n",
       "    <tr>\n",
       "      <td>4</td>\n",
       "      <td>1000</td>\n",
       "      <td>9</td>\n",
       "      <td>58</td>\n",
       "      <td>466</td>\n",
       "      <td>52</td>\n",
       "      <td>0</td>\n",
       "      <td>Краснодар</td>\n",
       "      <td>Рафаил</td>\n",
       "      <td>Верещагин</td>\n",
       "      <td>2018-05-25</td>\n",
       "      <td>ultra</td>\n",
       "      <td>0</td>\n",
       "    </tr>\n",
       "    <tr>\n",
       "      <td>5</td>\n",
       "      <td>1000</td>\n",
       "      <td>10</td>\n",
       "      <td>57</td>\n",
       "      <td>350</td>\n",
       "      <td>52</td>\n",
       "      <td>0</td>\n",
       "      <td>Краснодар</td>\n",
       "      <td>Рафаил</td>\n",
       "      <td>Верещагин</td>\n",
       "      <td>2018-05-25</td>\n",
       "      <td>ultra</td>\n",
       "      <td>0</td>\n",
       "    </tr>\n",
       "    <tr>\n",
       "      <td>6</td>\n",
       "      <td>1000</td>\n",
       "      <td>11</td>\n",
       "      <td>43</td>\n",
       "      <td>338</td>\n",
       "      <td>52</td>\n",
       "      <td>0</td>\n",
       "      <td>Краснодар</td>\n",
       "      <td>Рафаил</td>\n",
       "      <td>Верещагин</td>\n",
       "      <td>2018-05-25</td>\n",
       "      <td>ultra</td>\n",
       "      <td>0</td>\n",
       "    </tr>\n",
       "    <tr>\n",
       "      <td>7</td>\n",
       "      <td>1000</td>\n",
       "      <td>12</td>\n",
       "      <td>46</td>\n",
       "      <td>333</td>\n",
       "      <td>52</td>\n",
       "      <td>0</td>\n",
       "      <td>Краснодар</td>\n",
       "      <td>Рафаил</td>\n",
       "      <td>Верещагин</td>\n",
       "      <td>2018-05-25</td>\n",
       "      <td>ultra</td>\n",
       "      <td>0</td>\n",
       "    </tr>\n",
       "    <tr>\n",
       "      <td>8</td>\n",
       "      <td>1001</td>\n",
       "      <td>11</td>\n",
       "      <td>59</td>\n",
       "      <td>430</td>\n",
       "      <td>41</td>\n",
       "      <td>0</td>\n",
       "      <td>Москва</td>\n",
       "      <td>Иван</td>\n",
       "      <td>Ежов</td>\n",
       "      <td>2018-11-01</td>\n",
       "      <td>smart</td>\n",
       "      <td>0</td>\n",
       "    </tr>\n",
       "    <tr>\n",
       "      <td>9</td>\n",
       "      <td>1001</td>\n",
       "      <td>12</td>\n",
       "      <td>63</td>\n",
       "      <td>414</td>\n",
       "      <td>41</td>\n",
       "      <td>0</td>\n",
       "      <td>Москва</td>\n",
       "      <td>Иван</td>\n",
       "      <td>Ежов</td>\n",
       "      <td>2018-11-01</td>\n",
       "      <td>smart</td>\n",
       "      <td>0</td>\n",
       "    </tr>\n",
       "  </tbody>\n",
       "</table>\n",
       "</div>"
      ],
      "text/plain": [
       "   user_id  month  calls_count  calls_sum  age churn_date       city  \\\n",
       "0     1000      5           22        159   52          0  Краснодар   \n",
       "1     1000      6           43        172   52          0  Краснодар   \n",
       "2     1000      7           47        340   52          0  Краснодар   \n",
       "3     1000      8           52        408   52          0  Краснодар   \n",
       "4     1000      9           58        466   52          0  Краснодар   \n",
       "5     1000     10           57        350   52          0  Краснодар   \n",
       "6     1000     11           43        338   52          0  Краснодар   \n",
       "7     1000     12           46        333   52          0  Краснодар   \n",
       "8     1001     11           59        430   41          0     Москва   \n",
       "9     1001     12           63        414   41          0     Москва   \n",
       "\n",
       "  first_name  last_name   reg_date tariff_name  user_status  \n",
       "0     Рафаил  Верещагин 2018-05-25       ultra            0  \n",
       "1     Рафаил  Верещагин 2018-05-25       ultra            0  \n",
       "2     Рафаил  Верещагин 2018-05-25       ultra            0  \n",
       "3     Рафаил  Верещагин 2018-05-25       ultra            0  \n",
       "4     Рафаил  Верещагин 2018-05-25       ultra            0  \n",
       "5     Рафаил  Верещагин 2018-05-25       ultra            0  \n",
       "6     Рафаил  Верещагин 2018-05-25       ultra            0  \n",
       "7     Рафаил  Верещагин 2018-05-25       ultra            0  \n",
       "8       Иван       Ежов 2018-11-01       smart            0  \n",
       "9       Иван       Ежов 2018-11-01       smart            0  "
      ]
     },
     "execution_count": 46,
     "metadata": {},
     "output_type": "execute_result"
    }
   ],
   "source": [
    "calls_monthly_stat.head(10)"
   ]
  },
  {
   "cell_type": "markdown",
   "metadata": {},
   "source": [
    "Видим, что соединение осуществлено успешно. Однако в текущем виде df calls_monthly_stat содержит много неинформативных полей, от которых можно избавиться, чтобы не захламлять его лишней информацией. Применим метод drop."
   ]
  },
  {
   "cell_type": "code",
   "execution_count": 47,
   "metadata": {},
   "outputs": [],
   "source": [
    "calls_monthly_stat.drop(['calls_count', 'age', 'city', 'first_name', 'last_name'], axis = 'columns', inplace = True)"
   ]
  },
  {
   "cell_type": "markdown",
   "metadata": {},
   "source": [
    "Проверим df calls_monthly_stat после удаления ненужных полей, вызвав его первые 10 строк."
   ]
  },
  {
   "cell_type": "code",
   "execution_count": 48,
   "metadata": {},
   "outputs": [
    {
     "data": {
      "text/html": [
       "<div>\n",
       "<style scoped>\n",
       "    .dataframe tbody tr th:only-of-type {\n",
       "        vertical-align: middle;\n",
       "    }\n",
       "\n",
       "    .dataframe tbody tr th {\n",
       "        vertical-align: top;\n",
       "    }\n",
       "\n",
       "    .dataframe thead th {\n",
       "        text-align: right;\n",
       "    }\n",
       "</style>\n",
       "<table border=\"1\" class=\"dataframe\">\n",
       "  <thead>\n",
       "    <tr style=\"text-align: right;\">\n",
       "      <th></th>\n",
       "      <th>user_id</th>\n",
       "      <th>month</th>\n",
       "      <th>calls_sum</th>\n",
       "      <th>churn_date</th>\n",
       "      <th>reg_date</th>\n",
       "      <th>tariff_name</th>\n",
       "      <th>user_status</th>\n",
       "    </tr>\n",
       "  </thead>\n",
       "  <tbody>\n",
       "    <tr>\n",
       "      <td>0</td>\n",
       "      <td>1000</td>\n",
       "      <td>5</td>\n",
       "      <td>159</td>\n",
       "      <td>0</td>\n",
       "      <td>2018-05-25</td>\n",
       "      <td>ultra</td>\n",
       "      <td>0</td>\n",
       "    </tr>\n",
       "    <tr>\n",
       "      <td>1</td>\n",
       "      <td>1000</td>\n",
       "      <td>6</td>\n",
       "      <td>172</td>\n",
       "      <td>0</td>\n",
       "      <td>2018-05-25</td>\n",
       "      <td>ultra</td>\n",
       "      <td>0</td>\n",
       "    </tr>\n",
       "    <tr>\n",
       "      <td>2</td>\n",
       "      <td>1000</td>\n",
       "      <td>7</td>\n",
       "      <td>340</td>\n",
       "      <td>0</td>\n",
       "      <td>2018-05-25</td>\n",
       "      <td>ultra</td>\n",
       "      <td>0</td>\n",
       "    </tr>\n",
       "    <tr>\n",
       "      <td>3</td>\n",
       "      <td>1000</td>\n",
       "      <td>8</td>\n",
       "      <td>408</td>\n",
       "      <td>0</td>\n",
       "      <td>2018-05-25</td>\n",
       "      <td>ultra</td>\n",
       "      <td>0</td>\n",
       "    </tr>\n",
       "    <tr>\n",
       "      <td>4</td>\n",
       "      <td>1000</td>\n",
       "      <td>9</td>\n",
       "      <td>466</td>\n",
       "      <td>0</td>\n",
       "      <td>2018-05-25</td>\n",
       "      <td>ultra</td>\n",
       "      <td>0</td>\n",
       "    </tr>\n",
       "    <tr>\n",
       "      <td>5</td>\n",
       "      <td>1000</td>\n",
       "      <td>10</td>\n",
       "      <td>350</td>\n",
       "      <td>0</td>\n",
       "      <td>2018-05-25</td>\n",
       "      <td>ultra</td>\n",
       "      <td>0</td>\n",
       "    </tr>\n",
       "    <tr>\n",
       "      <td>6</td>\n",
       "      <td>1000</td>\n",
       "      <td>11</td>\n",
       "      <td>338</td>\n",
       "      <td>0</td>\n",
       "      <td>2018-05-25</td>\n",
       "      <td>ultra</td>\n",
       "      <td>0</td>\n",
       "    </tr>\n",
       "    <tr>\n",
       "      <td>7</td>\n",
       "      <td>1000</td>\n",
       "      <td>12</td>\n",
       "      <td>333</td>\n",
       "      <td>0</td>\n",
       "      <td>2018-05-25</td>\n",
       "      <td>ultra</td>\n",
       "      <td>0</td>\n",
       "    </tr>\n",
       "    <tr>\n",
       "      <td>8</td>\n",
       "      <td>1001</td>\n",
       "      <td>11</td>\n",
       "      <td>430</td>\n",
       "      <td>0</td>\n",
       "      <td>2018-11-01</td>\n",
       "      <td>smart</td>\n",
       "      <td>0</td>\n",
       "    </tr>\n",
       "    <tr>\n",
       "      <td>9</td>\n",
       "      <td>1001</td>\n",
       "      <td>12</td>\n",
       "      <td>414</td>\n",
       "      <td>0</td>\n",
       "      <td>2018-11-01</td>\n",
       "      <td>smart</td>\n",
       "      <td>0</td>\n",
       "    </tr>\n",
       "  </tbody>\n",
       "</table>\n",
       "</div>"
      ],
      "text/plain": [
       "   user_id  month  calls_sum churn_date   reg_date tariff_name  user_status\n",
       "0     1000      5        159          0 2018-05-25       ultra            0\n",
       "1     1000      6        172          0 2018-05-25       ultra            0\n",
       "2     1000      7        340          0 2018-05-25       ultra            0\n",
       "3     1000      8        408          0 2018-05-25       ultra            0\n",
       "4     1000      9        466          0 2018-05-25       ultra            0\n",
       "5     1000     10        350          0 2018-05-25       ultra            0\n",
       "6     1000     11        338          0 2018-05-25       ultra            0\n",
       "7     1000     12        333          0 2018-05-25       ultra            0\n",
       "8     1001     11        430          0 2018-11-01       smart            0\n",
       "9     1001     12        414          0 2018-11-01       smart            0"
      ]
     },
     "execution_count": 48,
     "metadata": {},
     "output_type": "execute_result"
    }
   ],
   "source": [
    "calls_monthly_stat.head(10)"
   ]
  },
  {
   "cell_type": "markdown",
   "metadata": {},
   "source": [
    "Виидм, что теперь в df calls_monthly_stat содержится только нужная нам информация.\n",
    "\n",
    "Далее необходимо присоединить к df calls_monthly_stat df tariffs, чтобы в df calls_monthly_stat хранились ценовые характеристики тарифа, а также включённые в тариф минуты, МБ и сообщения. Как и в случае с df users, воспользуемся методом merge, свяжем df по полю tariff_name (мы уже осуществили переименование этого поля в df users, поэтому присоединение стало возможным), используем тип присоединения left, чтобы не потерять абонентов в df calls_monthly_stat."
   ]
  },
  {
   "cell_type": "code",
   "execution_count": 49,
   "metadata": {},
   "outputs": [],
   "source": [
    "calls_monthly_stat = calls_monthly_stat.merge(tariffs, on = 'tariff_name', how = 'left')"
   ]
  },
  {
   "cell_type": "markdown",
   "metadata": {},
   "source": [
    "Проверим, удалось ли соединение. Вызовем первые 10 строк df calls_monthly_stat."
   ]
  },
  {
   "cell_type": "code",
   "execution_count": 50,
   "metadata": {},
   "outputs": [
    {
     "data": {
      "text/html": [
       "<div>\n",
       "<style scoped>\n",
       "    .dataframe tbody tr th:only-of-type {\n",
       "        vertical-align: middle;\n",
       "    }\n",
       "\n",
       "    .dataframe tbody tr th {\n",
       "        vertical-align: top;\n",
       "    }\n",
       "\n",
       "    .dataframe thead th {\n",
       "        text-align: right;\n",
       "    }\n",
       "</style>\n",
       "<table border=\"1\" class=\"dataframe\">\n",
       "  <thead>\n",
       "    <tr style=\"text-align: right;\">\n",
       "      <th></th>\n",
       "      <th>user_id</th>\n",
       "      <th>month</th>\n",
       "      <th>calls_sum</th>\n",
       "      <th>churn_date</th>\n",
       "      <th>reg_date</th>\n",
       "      <th>tariff_name</th>\n",
       "      <th>user_status</th>\n",
       "      <th>messages_included</th>\n",
       "      <th>mb_per_month_included</th>\n",
       "      <th>minutes_included</th>\n",
       "      <th>rub_monthly_fee</th>\n",
       "      <th>rub_per_gb</th>\n",
       "      <th>rub_per_message</th>\n",
       "      <th>rub_per_minute</th>\n",
       "    </tr>\n",
       "  </thead>\n",
       "  <tbody>\n",
       "    <tr>\n",
       "      <td>0</td>\n",
       "      <td>1000</td>\n",
       "      <td>5</td>\n",
       "      <td>159</td>\n",
       "      <td>0</td>\n",
       "      <td>2018-05-25</td>\n",
       "      <td>ultra</td>\n",
       "      <td>0</td>\n",
       "      <td>1000</td>\n",
       "      <td>30720</td>\n",
       "      <td>3000</td>\n",
       "      <td>1950</td>\n",
       "      <td>150</td>\n",
       "      <td>1</td>\n",
       "      <td>1</td>\n",
       "    </tr>\n",
       "    <tr>\n",
       "      <td>1</td>\n",
       "      <td>1000</td>\n",
       "      <td>6</td>\n",
       "      <td>172</td>\n",
       "      <td>0</td>\n",
       "      <td>2018-05-25</td>\n",
       "      <td>ultra</td>\n",
       "      <td>0</td>\n",
       "      <td>1000</td>\n",
       "      <td>30720</td>\n",
       "      <td>3000</td>\n",
       "      <td>1950</td>\n",
       "      <td>150</td>\n",
       "      <td>1</td>\n",
       "      <td>1</td>\n",
       "    </tr>\n",
       "    <tr>\n",
       "      <td>2</td>\n",
       "      <td>1000</td>\n",
       "      <td>7</td>\n",
       "      <td>340</td>\n",
       "      <td>0</td>\n",
       "      <td>2018-05-25</td>\n",
       "      <td>ultra</td>\n",
       "      <td>0</td>\n",
       "      <td>1000</td>\n",
       "      <td>30720</td>\n",
       "      <td>3000</td>\n",
       "      <td>1950</td>\n",
       "      <td>150</td>\n",
       "      <td>1</td>\n",
       "      <td>1</td>\n",
       "    </tr>\n",
       "    <tr>\n",
       "      <td>3</td>\n",
       "      <td>1000</td>\n",
       "      <td>8</td>\n",
       "      <td>408</td>\n",
       "      <td>0</td>\n",
       "      <td>2018-05-25</td>\n",
       "      <td>ultra</td>\n",
       "      <td>0</td>\n",
       "      <td>1000</td>\n",
       "      <td>30720</td>\n",
       "      <td>3000</td>\n",
       "      <td>1950</td>\n",
       "      <td>150</td>\n",
       "      <td>1</td>\n",
       "      <td>1</td>\n",
       "    </tr>\n",
       "    <tr>\n",
       "      <td>4</td>\n",
       "      <td>1000</td>\n",
       "      <td>9</td>\n",
       "      <td>466</td>\n",
       "      <td>0</td>\n",
       "      <td>2018-05-25</td>\n",
       "      <td>ultra</td>\n",
       "      <td>0</td>\n",
       "      <td>1000</td>\n",
       "      <td>30720</td>\n",
       "      <td>3000</td>\n",
       "      <td>1950</td>\n",
       "      <td>150</td>\n",
       "      <td>1</td>\n",
       "      <td>1</td>\n",
       "    </tr>\n",
       "    <tr>\n",
       "      <td>5</td>\n",
       "      <td>1000</td>\n",
       "      <td>10</td>\n",
       "      <td>350</td>\n",
       "      <td>0</td>\n",
       "      <td>2018-05-25</td>\n",
       "      <td>ultra</td>\n",
       "      <td>0</td>\n",
       "      <td>1000</td>\n",
       "      <td>30720</td>\n",
       "      <td>3000</td>\n",
       "      <td>1950</td>\n",
       "      <td>150</td>\n",
       "      <td>1</td>\n",
       "      <td>1</td>\n",
       "    </tr>\n",
       "    <tr>\n",
       "      <td>6</td>\n",
       "      <td>1000</td>\n",
       "      <td>11</td>\n",
       "      <td>338</td>\n",
       "      <td>0</td>\n",
       "      <td>2018-05-25</td>\n",
       "      <td>ultra</td>\n",
       "      <td>0</td>\n",
       "      <td>1000</td>\n",
       "      <td>30720</td>\n",
       "      <td>3000</td>\n",
       "      <td>1950</td>\n",
       "      <td>150</td>\n",
       "      <td>1</td>\n",
       "      <td>1</td>\n",
       "    </tr>\n",
       "    <tr>\n",
       "      <td>7</td>\n",
       "      <td>1000</td>\n",
       "      <td>12</td>\n",
       "      <td>333</td>\n",
       "      <td>0</td>\n",
       "      <td>2018-05-25</td>\n",
       "      <td>ultra</td>\n",
       "      <td>0</td>\n",
       "      <td>1000</td>\n",
       "      <td>30720</td>\n",
       "      <td>3000</td>\n",
       "      <td>1950</td>\n",
       "      <td>150</td>\n",
       "      <td>1</td>\n",
       "      <td>1</td>\n",
       "    </tr>\n",
       "    <tr>\n",
       "      <td>8</td>\n",
       "      <td>1001</td>\n",
       "      <td>11</td>\n",
       "      <td>430</td>\n",
       "      <td>0</td>\n",
       "      <td>2018-11-01</td>\n",
       "      <td>smart</td>\n",
       "      <td>0</td>\n",
       "      <td>50</td>\n",
       "      <td>15360</td>\n",
       "      <td>500</td>\n",
       "      <td>550</td>\n",
       "      <td>200</td>\n",
       "      <td>3</td>\n",
       "      <td>3</td>\n",
       "    </tr>\n",
       "    <tr>\n",
       "      <td>9</td>\n",
       "      <td>1001</td>\n",
       "      <td>12</td>\n",
       "      <td>414</td>\n",
       "      <td>0</td>\n",
       "      <td>2018-11-01</td>\n",
       "      <td>smart</td>\n",
       "      <td>0</td>\n",
       "      <td>50</td>\n",
       "      <td>15360</td>\n",
       "      <td>500</td>\n",
       "      <td>550</td>\n",
       "      <td>200</td>\n",
       "      <td>3</td>\n",
       "      <td>3</td>\n",
       "    </tr>\n",
       "  </tbody>\n",
       "</table>\n",
       "</div>"
      ],
      "text/plain": [
       "   user_id  month  calls_sum churn_date   reg_date tariff_name  user_status  \\\n",
       "0     1000      5        159          0 2018-05-25       ultra            0   \n",
       "1     1000      6        172          0 2018-05-25       ultra            0   \n",
       "2     1000      7        340          0 2018-05-25       ultra            0   \n",
       "3     1000      8        408          0 2018-05-25       ultra            0   \n",
       "4     1000      9        466          0 2018-05-25       ultra            0   \n",
       "5     1000     10        350          0 2018-05-25       ultra            0   \n",
       "6     1000     11        338          0 2018-05-25       ultra            0   \n",
       "7     1000     12        333          0 2018-05-25       ultra            0   \n",
       "8     1001     11        430          0 2018-11-01       smart            0   \n",
       "9     1001     12        414          0 2018-11-01       smart            0   \n",
       "\n",
       "   messages_included  mb_per_month_included  minutes_included  \\\n",
       "0               1000                  30720              3000   \n",
       "1               1000                  30720              3000   \n",
       "2               1000                  30720              3000   \n",
       "3               1000                  30720              3000   \n",
       "4               1000                  30720              3000   \n",
       "5               1000                  30720              3000   \n",
       "6               1000                  30720              3000   \n",
       "7               1000                  30720              3000   \n",
       "8                 50                  15360               500   \n",
       "9                 50                  15360               500   \n",
       "\n",
       "   rub_monthly_fee  rub_per_gb  rub_per_message  rub_per_minute  \n",
       "0             1950         150                1               1  \n",
       "1             1950         150                1               1  \n",
       "2             1950         150                1               1  \n",
       "3             1950         150                1               1  \n",
       "4             1950         150                1               1  \n",
       "5             1950         150                1               1  \n",
       "6             1950         150                1               1  \n",
       "7             1950         150                1               1  \n",
       "8              550         200                3               3  \n",
       "9              550         200                3               3  "
      ]
     },
     "execution_count": 50,
     "metadata": {},
     "output_type": "execute_result"
    }
   ],
   "source": [
    "calls_monthly_stat.head(10)"
   ]
  },
  {
   "cell_type": "markdown",
   "metadata": {},
   "source": [
    "Видим, что соединение прошло корректно, однако в df calls_monthly_stat снова есть лишние поля, которые можно удалить для удобства восприятия df calls_monthly_stat. Используем метод drop."
   ]
  },
  {
   "cell_type": "code",
   "execution_count": 51,
   "metadata": {},
   "outputs": [],
   "source": [
    "calls_monthly_stat.drop(['messages_included', 'mb_per_month_included', 'rub_per_gb', \n",
    "                         'rub_per_message'], axis = 'columns', inplace=True)"
   ]
  },
  {
   "cell_type": "markdown",
   "metadata": {},
   "source": [
    "Проверим df calls_monthly_stat после удаления ненужных полей, вызвав его первые 10 строк."
   ]
  },
  {
   "cell_type": "code",
   "execution_count": 52,
   "metadata": {},
   "outputs": [
    {
     "data": {
      "text/html": [
       "<div>\n",
       "<style scoped>\n",
       "    .dataframe tbody tr th:only-of-type {\n",
       "        vertical-align: middle;\n",
       "    }\n",
       "\n",
       "    .dataframe tbody tr th {\n",
       "        vertical-align: top;\n",
       "    }\n",
       "\n",
       "    .dataframe thead th {\n",
       "        text-align: right;\n",
       "    }\n",
       "</style>\n",
       "<table border=\"1\" class=\"dataframe\">\n",
       "  <thead>\n",
       "    <tr style=\"text-align: right;\">\n",
       "      <th></th>\n",
       "      <th>user_id</th>\n",
       "      <th>month</th>\n",
       "      <th>calls_sum</th>\n",
       "      <th>churn_date</th>\n",
       "      <th>reg_date</th>\n",
       "      <th>tariff_name</th>\n",
       "      <th>user_status</th>\n",
       "      <th>minutes_included</th>\n",
       "      <th>rub_monthly_fee</th>\n",
       "      <th>rub_per_minute</th>\n",
       "    </tr>\n",
       "  </thead>\n",
       "  <tbody>\n",
       "    <tr>\n",
       "      <td>0</td>\n",
       "      <td>1000</td>\n",
       "      <td>5</td>\n",
       "      <td>159</td>\n",
       "      <td>0</td>\n",
       "      <td>2018-05-25</td>\n",
       "      <td>ultra</td>\n",
       "      <td>0</td>\n",
       "      <td>3000</td>\n",
       "      <td>1950</td>\n",
       "      <td>1</td>\n",
       "    </tr>\n",
       "    <tr>\n",
       "      <td>1</td>\n",
       "      <td>1000</td>\n",
       "      <td>6</td>\n",
       "      <td>172</td>\n",
       "      <td>0</td>\n",
       "      <td>2018-05-25</td>\n",
       "      <td>ultra</td>\n",
       "      <td>0</td>\n",
       "      <td>3000</td>\n",
       "      <td>1950</td>\n",
       "      <td>1</td>\n",
       "    </tr>\n",
       "    <tr>\n",
       "      <td>2</td>\n",
       "      <td>1000</td>\n",
       "      <td>7</td>\n",
       "      <td>340</td>\n",
       "      <td>0</td>\n",
       "      <td>2018-05-25</td>\n",
       "      <td>ultra</td>\n",
       "      <td>0</td>\n",
       "      <td>3000</td>\n",
       "      <td>1950</td>\n",
       "      <td>1</td>\n",
       "    </tr>\n",
       "    <tr>\n",
       "      <td>3</td>\n",
       "      <td>1000</td>\n",
       "      <td>8</td>\n",
       "      <td>408</td>\n",
       "      <td>0</td>\n",
       "      <td>2018-05-25</td>\n",
       "      <td>ultra</td>\n",
       "      <td>0</td>\n",
       "      <td>3000</td>\n",
       "      <td>1950</td>\n",
       "      <td>1</td>\n",
       "    </tr>\n",
       "    <tr>\n",
       "      <td>4</td>\n",
       "      <td>1000</td>\n",
       "      <td>9</td>\n",
       "      <td>466</td>\n",
       "      <td>0</td>\n",
       "      <td>2018-05-25</td>\n",
       "      <td>ultra</td>\n",
       "      <td>0</td>\n",
       "      <td>3000</td>\n",
       "      <td>1950</td>\n",
       "      <td>1</td>\n",
       "    </tr>\n",
       "    <tr>\n",
       "      <td>5</td>\n",
       "      <td>1000</td>\n",
       "      <td>10</td>\n",
       "      <td>350</td>\n",
       "      <td>0</td>\n",
       "      <td>2018-05-25</td>\n",
       "      <td>ultra</td>\n",
       "      <td>0</td>\n",
       "      <td>3000</td>\n",
       "      <td>1950</td>\n",
       "      <td>1</td>\n",
       "    </tr>\n",
       "    <tr>\n",
       "      <td>6</td>\n",
       "      <td>1000</td>\n",
       "      <td>11</td>\n",
       "      <td>338</td>\n",
       "      <td>0</td>\n",
       "      <td>2018-05-25</td>\n",
       "      <td>ultra</td>\n",
       "      <td>0</td>\n",
       "      <td>3000</td>\n",
       "      <td>1950</td>\n",
       "      <td>1</td>\n",
       "    </tr>\n",
       "    <tr>\n",
       "      <td>7</td>\n",
       "      <td>1000</td>\n",
       "      <td>12</td>\n",
       "      <td>333</td>\n",
       "      <td>0</td>\n",
       "      <td>2018-05-25</td>\n",
       "      <td>ultra</td>\n",
       "      <td>0</td>\n",
       "      <td>3000</td>\n",
       "      <td>1950</td>\n",
       "      <td>1</td>\n",
       "    </tr>\n",
       "    <tr>\n",
       "      <td>8</td>\n",
       "      <td>1001</td>\n",
       "      <td>11</td>\n",
       "      <td>430</td>\n",
       "      <td>0</td>\n",
       "      <td>2018-11-01</td>\n",
       "      <td>smart</td>\n",
       "      <td>0</td>\n",
       "      <td>500</td>\n",
       "      <td>550</td>\n",
       "      <td>3</td>\n",
       "    </tr>\n",
       "    <tr>\n",
       "      <td>9</td>\n",
       "      <td>1001</td>\n",
       "      <td>12</td>\n",
       "      <td>414</td>\n",
       "      <td>0</td>\n",
       "      <td>2018-11-01</td>\n",
       "      <td>smart</td>\n",
       "      <td>0</td>\n",
       "      <td>500</td>\n",
       "      <td>550</td>\n",
       "      <td>3</td>\n",
       "    </tr>\n",
       "  </tbody>\n",
       "</table>\n",
       "</div>"
      ],
      "text/plain": [
       "   user_id  month  calls_sum churn_date   reg_date tariff_name  user_status  \\\n",
       "0     1000      5        159          0 2018-05-25       ultra            0   \n",
       "1     1000      6        172          0 2018-05-25       ultra            0   \n",
       "2     1000      7        340          0 2018-05-25       ultra            0   \n",
       "3     1000      8        408          0 2018-05-25       ultra            0   \n",
       "4     1000      9        466          0 2018-05-25       ultra            0   \n",
       "5     1000     10        350          0 2018-05-25       ultra            0   \n",
       "6     1000     11        338          0 2018-05-25       ultra            0   \n",
       "7     1000     12        333          0 2018-05-25       ultra            0   \n",
       "8     1001     11        430          0 2018-11-01       smart            0   \n",
       "9     1001     12        414          0 2018-11-01       smart            0   \n",
       "\n",
       "   minutes_included  rub_monthly_fee  rub_per_minute  \n",
       "0              3000             1950               1  \n",
       "1              3000             1950               1  \n",
       "2              3000             1950               1  \n",
       "3              3000             1950               1  \n",
       "4              3000             1950               1  \n",
       "5              3000             1950               1  \n",
       "6              3000             1950               1  \n",
       "7              3000             1950               1  \n",
       "8               500              550               3  \n",
       "9               500              550               3  "
      ]
     },
     "execution_count": 52,
     "metadata": {},
     "output_type": "execute_result"
    }
   ],
   "source": [
    "calls_monthly_stat.head(10)"
   ]
  },
  {
   "cell_type": "markdown",
   "metadata": {},
   "source": [
    "Видим, что в df calls_monthly_stat остались только нужные нам поля. Теперь можно приступить к расчёту помесячных платежей от использования абонентом дополнительных минут. \n",
    "\n",
    "Для этого напишем соответствующую функцию, которая будет принимать на вход всю строку и реализовывать следующую логику:\n",
    "\n",
    "1. Для каждого абонента на каждую неделю функция сравнивает количество израсходованных и предусмотренных тарифом минут.\n",
    "\n",
    "2. Если абонент израсходовал меньше минут, чем предусмотрено тарифом, функция возвращает значение дополнительных платежей, равное нулю.\n",
    "\n",
    "3. Если абонент израсходовал больше минут, чем предусмотрено тарифом, функция считает, сколько минут было израсходовано сверх предусмотренного тарифом размера, и умножает это количество на стоимость 1 дополнительной минуты."
   ]
  },
  {
   "cell_type": "code",
   "execution_count": 53,
   "metadata": {},
   "outputs": [],
   "source": [
    "def calls_monthly_add_income(row):\n",
    "    calls_sum = row['calls_sum']\n",
    "    minutes_included = row['minutes_included']\n",
    "    rub_per_minute = row['rub_per_minute']\n",
    "    if calls_sum <= minutes_included:\n",
    "        return 0\n",
    "    elif calls_sum > minutes_included:\n",
    "        add_minutes = calls_sum - minutes_included\n",
    "        return add_minutes * rub_per_minute"
   ]
  },
  {
   "cell_type": "markdown",
   "metadata": {},
   "source": [
    "Протестируем работу функции на тестовых данных."
   ]
  },
  {
   "cell_type": "code",
   "execution_count": 54,
   "metadata": {},
   "outputs": [],
   "source": [
    "row_values_1 = [100, 320, 1]\n",
    "row_values_2 = [200, 320, 1]\n",
    "row_values_3 = [300, 320, 1]\n",
    "row_values_4 = [400, 320, 1]\n",
    "row_values_5 = [500, 320, 1]\n",
    "row_columns = ['calls_sum', 'minutes_included', 'rub_per_minute']\n",
    "row_1 = pd.Series(data=row_values_1, index=row_columns)\n",
    "row_2 = pd.Series(data=row_values_2, index=row_columns)\n",
    "row_3 = pd.Series(data=row_values_3, index=row_columns)\n",
    "row_4 = pd.Series(data=row_values_4, index=row_columns)\n",
    "row_5 = pd.Series(data=row_values_5, index=row_columns)"
   ]
  },
  {
   "cell_type": "code",
   "execution_count": 55,
   "metadata": {},
   "outputs": [
    {
     "name": "stdout",
     "output_type": "stream",
     "text": [
      "0\n",
      "0\n",
      "0\n",
      "80\n",
      "180\n"
     ]
    }
   ],
   "source": [
    "print(calls_monthly_add_income(row_1))\n",
    "print(calls_monthly_add_income(row_2))\n",
    "print(calls_monthly_add_income(row_3))\n",
    "print(calls_monthly_add_income(row_4))\n",
    "print(calls_monthly_add_income(row_5))"
   ]
  },
  {
   "cell_type": "markdown",
   "metadata": {},
   "source": [
    "Видим, что функция работает корректно на тестовых данных. Применим функцию к df calls_monthly_stat для вычисления помесячных платежей от использования абонентом дополнительных минут."
   ]
  },
  {
   "cell_type": "code",
   "execution_count": 56,
   "metadata": {},
   "outputs": [],
   "source": [
    "calls_monthly_stat['calls_monthly_add_income'] = calls_monthly_stat.apply(calls_monthly_add_income, axis = 1)"
   ]
  },
  {
   "cell_type": "markdown",
   "metadata": {},
   "source": [
    "Проверим корректность работы функции. Так как абоненты, которые используют менее 500 минут, не генерируют дополнительные платежи, сделаем срез, в котором буду только те абоненты, у которых тариф smart и у которых количество использованных минут превышает 500.\n",
    "\n",
    "Отмечу, что значение 500 выбрано не просто так: в тарифе smart 500 минут предоставляются в рамках условий тарифа, и за их использование платежи не взимаются."
   ]
  },
  {
   "cell_type": "code",
   "execution_count": 57,
   "metadata": {},
   "outputs": [
    {
     "data": {
      "text/html": [
       "<div>\n",
       "<style scoped>\n",
       "    .dataframe tbody tr th:only-of-type {\n",
       "        vertical-align: middle;\n",
       "    }\n",
       "\n",
       "    .dataframe tbody tr th {\n",
       "        vertical-align: top;\n",
       "    }\n",
       "\n",
       "    .dataframe thead th {\n",
       "        text-align: right;\n",
       "    }\n",
       "</style>\n",
       "<table border=\"1\" class=\"dataframe\">\n",
       "  <thead>\n",
       "    <tr style=\"text-align: right;\">\n",
       "      <th></th>\n",
       "      <th>user_id</th>\n",
       "      <th>month</th>\n",
       "      <th>calls_sum</th>\n",
       "      <th>churn_date</th>\n",
       "      <th>reg_date</th>\n",
       "      <th>tariff_name</th>\n",
       "      <th>user_status</th>\n",
       "      <th>minutes_included</th>\n",
       "      <th>rub_monthly_fee</th>\n",
       "      <th>rub_per_minute</th>\n",
       "      <th>calls_monthly_add_income</th>\n",
       "    </tr>\n",
       "  </thead>\n",
       "  <tbody>\n",
       "    <tr>\n",
       "      <td>32</td>\n",
       "      <td>1005</td>\n",
       "      <td>3</td>\n",
       "      <td>606</td>\n",
       "      <td>0</td>\n",
       "      <td>2018-01-25</td>\n",
       "      <td>smart</td>\n",
       "      <td>0</td>\n",
       "      <td>500</td>\n",
       "      <td>550</td>\n",
       "      <td>3</td>\n",
       "      <td>318</td>\n",
       "    </tr>\n",
       "    <tr>\n",
       "      <td>33</td>\n",
       "      <td>1005</td>\n",
       "      <td>4</td>\n",
       "      <td>712</td>\n",
       "      <td>0</td>\n",
       "      <td>2018-01-25</td>\n",
       "      <td>smart</td>\n",
       "      <td>0</td>\n",
       "      <td>500</td>\n",
       "      <td>550</td>\n",
       "      <td>3</td>\n",
       "      <td>636</td>\n",
       "    </tr>\n",
       "    <tr>\n",
       "      <td>34</td>\n",
       "      <td>1005</td>\n",
       "      <td>5</td>\n",
       "      <td>595</td>\n",
       "      <td>0</td>\n",
       "      <td>2018-01-25</td>\n",
       "      <td>smart</td>\n",
       "      <td>0</td>\n",
       "      <td>500</td>\n",
       "      <td>550</td>\n",
       "      <td>3</td>\n",
       "      <td>285</td>\n",
       "    </tr>\n",
       "    <tr>\n",
       "      <td>35</td>\n",
       "      <td>1005</td>\n",
       "      <td>6</td>\n",
       "      <td>612</td>\n",
       "      <td>0</td>\n",
       "      <td>2018-01-25</td>\n",
       "      <td>smart</td>\n",
       "      <td>0</td>\n",
       "      <td>500</td>\n",
       "      <td>550</td>\n",
       "      <td>3</td>\n",
       "      <td>336</td>\n",
       "    </tr>\n",
       "    <tr>\n",
       "      <td>36</td>\n",
       "      <td>1005</td>\n",
       "      <td>7</td>\n",
       "      <td>569</td>\n",
       "      <td>0</td>\n",
       "      <td>2018-01-25</td>\n",
       "      <td>smart</td>\n",
       "      <td>0</td>\n",
       "      <td>500</td>\n",
       "      <td>550</td>\n",
       "      <td>3</td>\n",
       "      <td>207</td>\n",
       "    </tr>\n",
       "  </tbody>\n",
       "</table>\n",
       "</div>"
      ],
      "text/plain": [
       "    user_id  month  calls_sum churn_date   reg_date tariff_name  user_status  \\\n",
       "32     1005      3        606          0 2018-01-25       smart            0   \n",
       "33     1005      4        712          0 2018-01-25       smart            0   \n",
       "34     1005      5        595          0 2018-01-25       smart            0   \n",
       "35     1005      6        612          0 2018-01-25       smart            0   \n",
       "36     1005      7        569          0 2018-01-25       smart            0   \n",
       "\n",
       "    minutes_included  rub_monthly_fee  rub_per_minute  \\\n",
       "32               500              550               3   \n",
       "33               500              550               3   \n",
       "34               500              550               3   \n",
       "35               500              550               3   \n",
       "36               500              550               3   \n",
       "\n",
       "    calls_monthly_add_income  \n",
       "32                       318  \n",
       "33                       636  \n",
       "34                       285  \n",
       "35                       336  \n",
       "36                       207  "
      ]
     },
     "execution_count": 57,
     "metadata": {},
     "output_type": "execute_result"
    }
   ],
   "source": [
    "calls_monthly_stat.query('calls_sum > 500 and tariff_name == \"smart\"').head(5)"
   ]
  },
  {
   "cell_type": "markdown",
   "metadata": {},
   "source": [
    "Видим, что функция корректно считает помесячные платежи от использования абонентом дополнительных минут."
   ]
  },
  {
   "cell_type": "markdown",
   "metadata": {},
   "source": [
    "### Этап 3.4.2. Расчёт помесячных платежей от использования абонентом дополнительных МБ интернета.\n",
    "\n",
    "Логика расчёта помесячных платежей от использования абонентом дополнительных МБ интернета аналогична логике, применённой на этапе 3.4.1.\n",
    "\n",
    "Добавим в df internet_monthly_stat информацию из df users и удалим ненужные поля."
   ]
  },
  {
   "cell_type": "code",
   "execution_count": 58,
   "metadata": {},
   "outputs": [],
   "source": [
    "internet_monthly_stat = internet_monthly_stat.merge(users, on = 'user_id', how = 'left')\n",
    "internet_monthly_stat.drop(['age', 'city', 'first_name', 'last_name'], axis = 'columns', inplace = True)"
   ]
  },
  {
   "cell_type": "markdown",
   "metadata": {},
   "source": [
    "Добавим в df internet_monthly_stat информацию из df tariffs и удалим ненужные поля."
   ]
  },
  {
   "cell_type": "code",
   "execution_count": 59,
   "metadata": {},
   "outputs": [],
   "source": [
    "internet_monthly_stat = internet_monthly_stat.merge(tariffs, on = 'tariff_name', how = 'left')\n",
    "internet_monthly_stat.drop(['messages_included', 'minutes_included', 'rub_per_minute', \n",
    "                         'rub_per_message'], axis = 'columns', inplace=True)"
   ]
  },
  {
   "cell_type": "markdown",
   "metadata": {},
   "source": [
    "Проверим конечный вариант df internet_monthly_stat, для этого выведем первые 10 строк df."
   ]
  },
  {
   "cell_type": "code",
   "execution_count": 60,
   "metadata": {},
   "outputs": [
    {
     "data": {
      "text/html": [
       "<div>\n",
       "<style scoped>\n",
       "    .dataframe tbody tr th:only-of-type {\n",
       "        vertical-align: middle;\n",
       "    }\n",
       "\n",
       "    .dataframe tbody tr th {\n",
       "        vertical-align: top;\n",
       "    }\n",
       "\n",
       "    .dataframe thead th {\n",
       "        text-align: right;\n",
       "    }\n",
       "</style>\n",
       "<table border=\"1\" class=\"dataframe\">\n",
       "  <thead>\n",
       "    <tr style=\"text-align: right;\">\n",
       "      <th></th>\n",
       "      <th>user_id</th>\n",
       "      <th>month</th>\n",
       "      <th>mb_used_sum</th>\n",
       "      <th>churn_date</th>\n",
       "      <th>reg_date</th>\n",
       "      <th>tariff_name</th>\n",
       "      <th>user_status</th>\n",
       "      <th>mb_per_month_included</th>\n",
       "      <th>rub_monthly_fee</th>\n",
       "      <th>rub_per_gb</th>\n",
       "    </tr>\n",
       "  </thead>\n",
       "  <tbody>\n",
       "    <tr>\n",
       "      <td>0</td>\n",
       "      <td>1000</td>\n",
       "      <td>5</td>\n",
       "      <td>2256</td>\n",
       "      <td>0</td>\n",
       "      <td>2018-05-25</td>\n",
       "      <td>ultra</td>\n",
       "      <td>0</td>\n",
       "      <td>30720</td>\n",
       "      <td>1950</td>\n",
       "      <td>150</td>\n",
       "    </tr>\n",
       "    <tr>\n",
       "      <td>1</td>\n",
       "      <td>1000</td>\n",
       "      <td>6</td>\n",
       "      <td>23257</td>\n",
       "      <td>0</td>\n",
       "      <td>2018-05-25</td>\n",
       "      <td>ultra</td>\n",
       "      <td>0</td>\n",
       "      <td>30720</td>\n",
       "      <td>1950</td>\n",
       "      <td>150</td>\n",
       "    </tr>\n",
       "    <tr>\n",
       "      <td>2</td>\n",
       "      <td>1000</td>\n",
       "      <td>7</td>\n",
       "      <td>14016</td>\n",
       "      <td>0</td>\n",
       "      <td>2018-05-25</td>\n",
       "      <td>ultra</td>\n",
       "      <td>0</td>\n",
       "      <td>30720</td>\n",
       "      <td>1950</td>\n",
       "      <td>150</td>\n",
       "    </tr>\n",
       "    <tr>\n",
       "      <td>3</td>\n",
       "      <td>1000</td>\n",
       "      <td>8</td>\n",
       "      <td>14070</td>\n",
       "      <td>0</td>\n",
       "      <td>2018-05-25</td>\n",
       "      <td>ultra</td>\n",
       "      <td>0</td>\n",
       "      <td>30720</td>\n",
       "      <td>1950</td>\n",
       "      <td>150</td>\n",
       "    </tr>\n",
       "    <tr>\n",
       "      <td>4</td>\n",
       "      <td>1000</td>\n",
       "      <td>9</td>\n",
       "      <td>14581</td>\n",
       "      <td>0</td>\n",
       "      <td>2018-05-25</td>\n",
       "      <td>ultra</td>\n",
       "      <td>0</td>\n",
       "      <td>30720</td>\n",
       "      <td>1950</td>\n",
       "      <td>150</td>\n",
       "    </tr>\n",
       "    <tr>\n",
       "      <td>5</td>\n",
       "      <td>1000</td>\n",
       "      <td>10</td>\n",
       "      <td>14717</td>\n",
       "      <td>0</td>\n",
       "      <td>2018-05-25</td>\n",
       "      <td>ultra</td>\n",
       "      <td>0</td>\n",
       "      <td>30720</td>\n",
       "      <td>1950</td>\n",
       "      <td>150</td>\n",
       "    </tr>\n",
       "    <tr>\n",
       "      <td>6</td>\n",
       "      <td>1000</td>\n",
       "      <td>11</td>\n",
       "      <td>14768</td>\n",
       "      <td>0</td>\n",
       "      <td>2018-05-25</td>\n",
       "      <td>ultra</td>\n",
       "      <td>0</td>\n",
       "      <td>30720</td>\n",
       "      <td>1950</td>\n",
       "      <td>150</td>\n",
       "    </tr>\n",
       "    <tr>\n",
       "      <td>7</td>\n",
       "      <td>1000</td>\n",
       "      <td>12</td>\n",
       "      <td>9827</td>\n",
       "      <td>0</td>\n",
       "      <td>2018-05-25</td>\n",
       "      <td>ultra</td>\n",
       "      <td>0</td>\n",
       "      <td>30720</td>\n",
       "      <td>1950</td>\n",
       "      <td>150</td>\n",
       "    </tr>\n",
       "    <tr>\n",
       "      <td>8</td>\n",
       "      <td>1001</td>\n",
       "      <td>11</td>\n",
       "      <td>18452</td>\n",
       "      <td>0</td>\n",
       "      <td>2018-11-01</td>\n",
       "      <td>smart</td>\n",
       "      <td>0</td>\n",
       "      <td>15360</td>\n",
       "      <td>550</td>\n",
       "      <td>200</td>\n",
       "    </tr>\n",
       "    <tr>\n",
       "      <td>9</td>\n",
       "      <td>1001</td>\n",
       "      <td>12</td>\n",
       "      <td>14053</td>\n",
       "      <td>0</td>\n",
       "      <td>2018-11-01</td>\n",
       "      <td>smart</td>\n",
       "      <td>0</td>\n",
       "      <td>15360</td>\n",
       "      <td>550</td>\n",
       "      <td>200</td>\n",
       "    </tr>\n",
       "  </tbody>\n",
       "</table>\n",
       "</div>"
      ],
      "text/plain": [
       "   user_id  month  mb_used_sum churn_date   reg_date tariff_name  user_status  \\\n",
       "0     1000      5         2256          0 2018-05-25       ultra            0   \n",
       "1     1000      6        23257          0 2018-05-25       ultra            0   \n",
       "2     1000      7        14016          0 2018-05-25       ultra            0   \n",
       "3     1000      8        14070          0 2018-05-25       ultra            0   \n",
       "4     1000      9        14581          0 2018-05-25       ultra            0   \n",
       "5     1000     10        14717          0 2018-05-25       ultra            0   \n",
       "6     1000     11        14768          0 2018-05-25       ultra            0   \n",
       "7     1000     12         9827          0 2018-05-25       ultra            0   \n",
       "8     1001     11        18452          0 2018-11-01       smart            0   \n",
       "9     1001     12        14053          0 2018-11-01       smart            0   \n",
       "\n",
       "   mb_per_month_included  rub_monthly_fee  rub_per_gb  \n",
       "0                  30720             1950         150  \n",
       "1                  30720             1950         150  \n",
       "2                  30720             1950         150  \n",
       "3                  30720             1950         150  \n",
       "4                  30720             1950         150  \n",
       "5                  30720             1950         150  \n",
       "6                  30720             1950         150  \n",
       "7                  30720             1950         150  \n",
       "8                  15360              550         200  \n",
       "9                  15360              550         200  "
      ]
     },
     "execution_count": 60,
     "metadata": {},
     "output_type": "execute_result"
    }
   ],
   "source": [
    "internet_monthly_stat.head(10)"
   ]
  },
  {
   "cell_type": "markdown",
   "metadata": {},
   "source": [
    "Видим, что все необходимые данные для расчёта помесячных платежей от использования абонентом дополнительных МБ интернета имеются в df.\n",
    "\n",
    "Отметим несколько вводных: в 1 ГБ содержится 1024 МБ, следовательно, в тарифе ultra предусмотрено наличие 30 ГБ, в тарифе smart - 15 ГБ. При расходовании этих ГБ абонент покупает не МБ, а ГБ. Так, если пользователь выходит за пределы трафика, предусмотренного тарифом, и использует дополнительно 300 МБ, то платит он не за 300 МБ, а за 1 ГБ. Следовательно, разницу между фактическим расходом МБ и количеством МБ, предусмотренным тарифом, следует переводить в ГБ, деля на 1024, и округлять в большую сторону с помощью метода ceil библиотеки math.\n",
    "\n",
    "Напишем соответствующую функцию, которая принимает на вход строку и реализует следующую логику:\n",
    "\n",
    "1. Для каждого абонента на каждую неделю функция сравнивает количество израсходованных и предусмотренных тарифом МБ.\n",
    "\n",
    "2. Если абонент израсходовал меньше МБ, чем предусмотрено тарифом, функция возвращает значение дополнительных платежей, равное нулю.\n",
    "\n",
    "3. Если абонент израсходовал больше МБ, чем предусмотрено тарифом, функция считает, сколько минут было израсходовано сверх предусмотренного тарифом размера, делит это значение на 1024, чтобы перевести их в ГБ, округляет полученное значение в большую сторону и умножает это количество на стоимость 1 дополнительного ГБ. "
   ]
  },
  {
   "cell_type": "code",
   "execution_count": 61,
   "metadata": {},
   "outputs": [],
   "source": [
    "def mb_monthly_add_income(row):\n",
    "    mb_used_sum = row['mb_used_sum']\n",
    "    mb_per_month_included = row['mb_per_month_included']\n",
    "    rub_per_gb = row['rub_per_gb']\n",
    "    if mb_used_sum <= mb_per_month_included:\n",
    "        return 0\n",
    "    elif mb_used_sum > mb_per_month_included:\n",
    "        add_gb = math.ceil(((mb_used_sum - mb_per_month_included) / 1024))\n",
    "        return add_gb * rub_per_gb"
   ]
  },
  {
   "cell_type": "markdown",
   "metadata": {},
   "source": [
    "Протестируем работу функции на тестовых данных."
   ]
  },
  {
   "cell_type": "code",
   "execution_count": 62,
   "metadata": {},
   "outputs": [],
   "source": [
    "row_values_1 = [30719, 30720, 150]\n",
    "row_values_2 = [30731, 30720, 150]\n",
    "row_values_3 = [32769, 30720, 150]\n",
    "row_values_4 = [15350, 15360, 200]\n",
    "row_values_5 = [15560, 15360, 200]\n",
    "row_values_6 = [17600, 15360, 200]\n",
    "row_columns = ['mb_used_sum', 'mb_per_month_included', 'rub_per_gb']\n",
    "row_1 = pd.Series(data=row_values_1, index=row_columns)\n",
    "row_2 = pd.Series(data=row_values_2, index=row_columns)\n",
    "row_3 = pd.Series(data=row_values_3, index=row_columns)\n",
    "row_4 = pd.Series(data=row_values_4, index=row_columns)\n",
    "row_5 = pd.Series(data=row_values_5, index=row_columns)\n",
    "row_6 = pd.Series(data=row_values_6, index=row_columns)"
   ]
  },
  {
   "cell_type": "code",
   "execution_count": 63,
   "metadata": {},
   "outputs": [
    {
     "name": "stdout",
     "output_type": "stream",
     "text": [
      "0\n",
      "150\n",
      "450\n",
      "0\n",
      "200\n",
      "600\n"
     ]
    }
   ],
   "source": [
    "print(mb_monthly_add_income(row_1))\n",
    "print(mb_monthly_add_income(row_2))\n",
    "print(mb_monthly_add_income(row_3))\n",
    "print(mb_monthly_add_income(row_4))\n",
    "print(mb_monthly_add_income(row_5))\n",
    "print(mb_monthly_add_income(row_6))"
   ]
  },
  {
   "cell_type": "markdown",
   "metadata": {},
   "source": [
    "Видим, что функция работает корректно на тестовых данных. Применим функцию к df internet_monthly_stat для вычисления помесячных платежей от использования абонентом дополнительных МБ интернета."
   ]
  },
  {
   "cell_type": "code",
   "execution_count": 64,
   "metadata": {},
   "outputs": [],
   "source": [
    "internet_monthly_stat['mb_monthly_add_income'] = internet_monthly_stat.apply(mb_monthly_add_income, axis = 1)"
   ]
  },
  {
   "cell_type": "markdown",
   "metadata": {},
   "source": [
    "Проверим корректность работы функции. Так как абоненты, которые используют менее 15 ГБ, не генерируют дополнительные платежи, сделаем срез, в котором буду только те абоненты, у которых тариф smart и у которых количество использованных МБ превышает 15360 (эквивалентно 15 ГБ)."
   ]
  },
  {
   "cell_type": "code",
   "execution_count": 65,
   "metadata": {},
   "outputs": [
    {
     "data": {
      "text/html": [
       "<div>\n",
       "<style scoped>\n",
       "    .dataframe tbody tr th:only-of-type {\n",
       "        vertical-align: middle;\n",
       "    }\n",
       "\n",
       "    .dataframe tbody tr th {\n",
       "        vertical-align: top;\n",
       "    }\n",
       "\n",
       "    .dataframe thead th {\n",
       "        text-align: right;\n",
       "    }\n",
       "</style>\n",
       "<table border=\"1\" class=\"dataframe\">\n",
       "  <thead>\n",
       "    <tr style=\"text-align: right;\">\n",
       "      <th></th>\n",
       "      <th>user_id</th>\n",
       "      <th>month</th>\n",
       "      <th>mb_used_sum</th>\n",
       "      <th>churn_date</th>\n",
       "      <th>reg_date</th>\n",
       "      <th>tariff_name</th>\n",
       "      <th>user_status</th>\n",
       "      <th>mb_per_month_included</th>\n",
       "      <th>rub_monthly_fee</th>\n",
       "      <th>rub_per_gb</th>\n",
       "      <th>mb_monthly_add_income</th>\n",
       "    </tr>\n",
       "  </thead>\n",
       "  <tbody>\n",
       "    <tr>\n",
       "      <td>8</td>\n",
       "      <td>1001</td>\n",
       "      <td>11</td>\n",
       "      <td>18452</td>\n",
       "      <td>0</td>\n",
       "      <td>2018-11-01</td>\n",
       "      <td>smart</td>\n",
       "      <td>0</td>\n",
       "      <td>15360</td>\n",
       "      <td>550</td>\n",
       "      <td>200</td>\n",
       "      <td>800</td>\n",
       "    </tr>\n",
       "    <tr>\n",
       "      <td>11</td>\n",
       "      <td>1002</td>\n",
       "      <td>7</td>\n",
       "      <td>17601</td>\n",
       "      <td>0</td>\n",
       "      <td>2018-06-17</td>\n",
       "      <td>smart</td>\n",
       "      <td>0</td>\n",
       "      <td>15360</td>\n",
       "      <td>550</td>\n",
       "      <td>200</td>\n",
       "      <td>600</td>\n",
       "    </tr>\n",
       "    <tr>\n",
       "      <td>12</td>\n",
       "      <td>1002</td>\n",
       "      <td>8</td>\n",
       "      <td>20347</td>\n",
       "      <td>0</td>\n",
       "      <td>2018-06-17</td>\n",
       "      <td>smart</td>\n",
       "      <td>0</td>\n",
       "      <td>15360</td>\n",
       "      <td>550</td>\n",
       "      <td>200</td>\n",
       "      <td>1000</td>\n",
       "    </tr>\n",
       "    <tr>\n",
       "      <td>13</td>\n",
       "      <td>1002</td>\n",
       "      <td>9</td>\n",
       "      <td>16712</td>\n",
       "      <td>0</td>\n",
       "      <td>2018-06-17</td>\n",
       "      <td>smart</td>\n",
       "      <td>0</td>\n",
       "      <td>15360</td>\n",
       "      <td>550</td>\n",
       "      <td>200</td>\n",
       "      <td>400</td>\n",
       "    </tr>\n",
       "    <tr>\n",
       "      <td>15</td>\n",
       "      <td>1002</td>\n",
       "      <td>11</td>\n",
       "      <td>18610</td>\n",
       "      <td>0</td>\n",
       "      <td>2018-06-17</td>\n",
       "      <td>smart</td>\n",
       "      <td>0</td>\n",
       "      <td>15360</td>\n",
       "      <td>550</td>\n",
       "      <td>200</td>\n",
       "      <td>800</td>\n",
       "    </tr>\n",
       "  </tbody>\n",
       "</table>\n",
       "</div>"
      ],
      "text/plain": [
       "    user_id  month  mb_used_sum churn_date   reg_date tariff_name  \\\n",
       "8      1001     11        18452          0 2018-11-01       smart   \n",
       "11     1002      7        17601          0 2018-06-17       smart   \n",
       "12     1002      8        20347          0 2018-06-17       smart   \n",
       "13     1002      9        16712          0 2018-06-17       smart   \n",
       "15     1002     11        18610          0 2018-06-17       smart   \n",
       "\n",
       "    user_status  mb_per_month_included  rub_monthly_fee  rub_per_gb  \\\n",
       "8             0                  15360              550         200   \n",
       "11            0                  15360              550         200   \n",
       "12            0                  15360              550         200   \n",
       "13            0                  15360              550         200   \n",
       "15            0                  15360              550         200   \n",
       "\n",
       "    mb_monthly_add_income  \n",
       "8                     800  \n",
       "11                    600  \n",
       "12                   1000  \n",
       "13                    400  \n",
       "15                    800  "
      ]
     },
     "execution_count": 65,
     "metadata": {},
     "output_type": "execute_result"
    }
   ],
   "source": [
    "internet_monthly_stat.query('tariff_name == \"smart\" and mb_used_sum > 15360').head(5)"
   ]
  },
  {
   "cell_type": "markdown",
   "metadata": {},
   "source": [
    "Видим, что функция корректно считает помесячные платежи от использования абонентом дополнительных МБ."
   ]
  },
  {
   "cell_type": "markdown",
   "metadata": {},
   "source": [
    "### Этап 3.4.3. Расчёт помесячных платежей от использования абонентом дополнительных сообщений.\n",
    "\n",
    "Собственно, план такой же: присоединяем df users и df tariffs, чистим от лишних полей."
   ]
  },
  {
   "cell_type": "code",
   "execution_count": 66,
   "metadata": {},
   "outputs": [],
   "source": [
    "messages_monthly_stat = messages_monthly_stat.merge(users, on = 'user_id', how = 'left')\n",
    "messages_monthly_stat.drop(['age', 'city', 'first_name', 'last_name'], axis = 'columns', inplace = True)"
   ]
  },
  {
   "cell_type": "code",
   "execution_count": 67,
   "metadata": {},
   "outputs": [
    {
     "data": {
      "text/html": [
       "<div>\n",
       "<style scoped>\n",
       "    .dataframe tbody tr th:only-of-type {\n",
       "        vertical-align: middle;\n",
       "    }\n",
       "\n",
       "    .dataframe tbody tr th {\n",
       "        vertical-align: top;\n",
       "    }\n",
       "\n",
       "    .dataframe thead th {\n",
       "        text-align: right;\n",
       "    }\n",
       "</style>\n",
       "<table border=\"1\" class=\"dataframe\">\n",
       "  <thead>\n",
       "    <tr style=\"text-align: right;\">\n",
       "      <th></th>\n",
       "      <th>user_id</th>\n",
       "      <th>month</th>\n",
       "      <th>messages_count</th>\n",
       "      <th>churn_date</th>\n",
       "      <th>reg_date</th>\n",
       "      <th>tariff_name</th>\n",
       "      <th>user_status</th>\n",
       "    </tr>\n",
       "  </thead>\n",
       "  <tbody>\n",
       "    <tr>\n",
       "      <td>0</td>\n",
       "      <td>1000</td>\n",
       "      <td>5</td>\n",
       "      <td>22</td>\n",
       "      <td>0</td>\n",
       "      <td>2018-05-25</td>\n",
       "      <td>ultra</td>\n",
       "      <td>0</td>\n",
       "    </tr>\n",
       "    <tr>\n",
       "      <td>1</td>\n",
       "      <td>1000</td>\n",
       "      <td>6</td>\n",
       "      <td>60</td>\n",
       "      <td>0</td>\n",
       "      <td>2018-05-25</td>\n",
       "      <td>ultra</td>\n",
       "      <td>0</td>\n",
       "    </tr>\n",
       "    <tr>\n",
       "      <td>2</td>\n",
       "      <td>1000</td>\n",
       "      <td>7</td>\n",
       "      <td>75</td>\n",
       "      <td>0</td>\n",
       "      <td>2018-05-25</td>\n",
       "      <td>ultra</td>\n",
       "      <td>0</td>\n",
       "    </tr>\n",
       "    <tr>\n",
       "      <td>3</td>\n",
       "      <td>1000</td>\n",
       "      <td>8</td>\n",
       "      <td>81</td>\n",
       "      <td>0</td>\n",
       "      <td>2018-05-25</td>\n",
       "      <td>ultra</td>\n",
       "      <td>0</td>\n",
       "    </tr>\n",
       "    <tr>\n",
       "      <td>4</td>\n",
       "      <td>1000</td>\n",
       "      <td>9</td>\n",
       "      <td>57</td>\n",
       "      <td>0</td>\n",
       "      <td>2018-05-25</td>\n",
       "      <td>ultra</td>\n",
       "      <td>0</td>\n",
       "    </tr>\n",
       "  </tbody>\n",
       "</table>\n",
       "</div>"
      ],
      "text/plain": [
       "   user_id  month  messages_count churn_date   reg_date tariff_name  \\\n",
       "0     1000      5              22          0 2018-05-25       ultra   \n",
       "1     1000      6              60          0 2018-05-25       ultra   \n",
       "2     1000      7              75          0 2018-05-25       ultra   \n",
       "3     1000      8              81          0 2018-05-25       ultra   \n",
       "4     1000      9              57          0 2018-05-25       ultra   \n",
       "\n",
       "   user_status  \n",
       "0            0  \n",
       "1            0  \n",
       "2            0  \n",
       "3            0  \n",
       "4            0  "
      ]
     },
     "execution_count": 67,
     "metadata": {},
     "output_type": "execute_result"
    }
   ],
   "source": [
    "messages_monthly_stat.head(5)"
   ]
  },
  {
   "cell_type": "code",
   "execution_count": 68,
   "metadata": {},
   "outputs": [],
   "source": [
    "messages_monthly_stat = messages_monthly_stat.merge(tariffs, on = 'tariff_name', how = 'left')\n",
    "messages_monthly_stat.drop(['mb_per_month_included', 'minutes_included', 'rub_per_minute', \n",
    "                         'rub_per_gb'], axis = 'columns', inplace=True)"
   ]
  },
  {
   "cell_type": "code",
   "execution_count": 69,
   "metadata": {},
   "outputs": [
    {
     "data": {
      "text/html": [
       "<div>\n",
       "<style scoped>\n",
       "    .dataframe tbody tr th:only-of-type {\n",
       "        vertical-align: middle;\n",
       "    }\n",
       "\n",
       "    .dataframe tbody tr th {\n",
       "        vertical-align: top;\n",
       "    }\n",
       "\n",
       "    .dataframe thead th {\n",
       "        text-align: right;\n",
       "    }\n",
       "</style>\n",
       "<table border=\"1\" class=\"dataframe\">\n",
       "  <thead>\n",
       "    <tr style=\"text-align: right;\">\n",
       "      <th></th>\n",
       "      <th>user_id</th>\n",
       "      <th>month</th>\n",
       "      <th>messages_count</th>\n",
       "      <th>churn_date</th>\n",
       "      <th>reg_date</th>\n",
       "      <th>tariff_name</th>\n",
       "      <th>user_status</th>\n",
       "      <th>messages_included</th>\n",
       "      <th>rub_monthly_fee</th>\n",
       "      <th>rub_per_message</th>\n",
       "    </tr>\n",
       "  </thead>\n",
       "  <tbody>\n",
       "    <tr>\n",
       "      <td>0</td>\n",
       "      <td>1000</td>\n",
       "      <td>5</td>\n",
       "      <td>22</td>\n",
       "      <td>0</td>\n",
       "      <td>2018-05-25</td>\n",
       "      <td>ultra</td>\n",
       "      <td>0</td>\n",
       "      <td>1000</td>\n",
       "      <td>1950</td>\n",
       "      <td>1</td>\n",
       "    </tr>\n",
       "    <tr>\n",
       "      <td>1</td>\n",
       "      <td>1000</td>\n",
       "      <td>6</td>\n",
       "      <td>60</td>\n",
       "      <td>0</td>\n",
       "      <td>2018-05-25</td>\n",
       "      <td>ultra</td>\n",
       "      <td>0</td>\n",
       "      <td>1000</td>\n",
       "      <td>1950</td>\n",
       "      <td>1</td>\n",
       "    </tr>\n",
       "    <tr>\n",
       "      <td>2</td>\n",
       "      <td>1000</td>\n",
       "      <td>7</td>\n",
       "      <td>75</td>\n",
       "      <td>0</td>\n",
       "      <td>2018-05-25</td>\n",
       "      <td>ultra</td>\n",
       "      <td>0</td>\n",
       "      <td>1000</td>\n",
       "      <td>1950</td>\n",
       "      <td>1</td>\n",
       "    </tr>\n",
       "    <tr>\n",
       "      <td>3</td>\n",
       "      <td>1000</td>\n",
       "      <td>8</td>\n",
       "      <td>81</td>\n",
       "      <td>0</td>\n",
       "      <td>2018-05-25</td>\n",
       "      <td>ultra</td>\n",
       "      <td>0</td>\n",
       "      <td>1000</td>\n",
       "      <td>1950</td>\n",
       "      <td>1</td>\n",
       "    </tr>\n",
       "    <tr>\n",
       "      <td>4</td>\n",
       "      <td>1000</td>\n",
       "      <td>9</td>\n",
       "      <td>57</td>\n",
       "      <td>0</td>\n",
       "      <td>2018-05-25</td>\n",
       "      <td>ultra</td>\n",
       "      <td>0</td>\n",
       "      <td>1000</td>\n",
       "      <td>1950</td>\n",
       "      <td>1</td>\n",
       "    </tr>\n",
       "    <tr>\n",
       "      <td>5</td>\n",
       "      <td>1000</td>\n",
       "      <td>10</td>\n",
       "      <td>73</td>\n",
       "      <td>0</td>\n",
       "      <td>2018-05-25</td>\n",
       "      <td>ultra</td>\n",
       "      <td>0</td>\n",
       "      <td>1000</td>\n",
       "      <td>1950</td>\n",
       "      <td>1</td>\n",
       "    </tr>\n",
       "    <tr>\n",
       "      <td>6</td>\n",
       "      <td>1000</td>\n",
       "      <td>11</td>\n",
       "      <td>58</td>\n",
       "      <td>0</td>\n",
       "      <td>2018-05-25</td>\n",
       "      <td>ultra</td>\n",
       "      <td>0</td>\n",
       "      <td>1000</td>\n",
       "      <td>1950</td>\n",
       "      <td>1</td>\n",
       "    </tr>\n",
       "    <tr>\n",
       "      <td>7</td>\n",
       "      <td>1000</td>\n",
       "      <td>12</td>\n",
       "      <td>70</td>\n",
       "      <td>0</td>\n",
       "      <td>2018-05-25</td>\n",
       "      <td>ultra</td>\n",
       "      <td>0</td>\n",
       "      <td>1000</td>\n",
       "      <td>1950</td>\n",
       "      <td>1</td>\n",
       "    </tr>\n",
       "    <tr>\n",
       "      <td>8</td>\n",
       "      <td>1002</td>\n",
       "      <td>6</td>\n",
       "      <td>4</td>\n",
       "      <td>0</td>\n",
       "      <td>2018-06-17</td>\n",
       "      <td>smart</td>\n",
       "      <td>0</td>\n",
       "      <td>50</td>\n",
       "      <td>550</td>\n",
       "      <td>3</td>\n",
       "    </tr>\n",
       "    <tr>\n",
       "      <td>9</td>\n",
       "      <td>1002</td>\n",
       "      <td>7</td>\n",
       "      <td>11</td>\n",
       "      <td>0</td>\n",
       "      <td>2018-06-17</td>\n",
       "      <td>smart</td>\n",
       "      <td>0</td>\n",
       "      <td>50</td>\n",
       "      <td>550</td>\n",
       "      <td>3</td>\n",
       "    </tr>\n",
       "  </tbody>\n",
       "</table>\n",
       "</div>"
      ],
      "text/plain": [
       "   user_id  month  messages_count churn_date   reg_date tariff_name  \\\n",
       "0     1000      5              22          0 2018-05-25       ultra   \n",
       "1     1000      6              60          0 2018-05-25       ultra   \n",
       "2     1000      7              75          0 2018-05-25       ultra   \n",
       "3     1000      8              81          0 2018-05-25       ultra   \n",
       "4     1000      9              57          0 2018-05-25       ultra   \n",
       "5     1000     10              73          0 2018-05-25       ultra   \n",
       "6     1000     11              58          0 2018-05-25       ultra   \n",
       "7     1000     12              70          0 2018-05-25       ultra   \n",
       "8     1002      6               4          0 2018-06-17       smart   \n",
       "9     1002      7              11          0 2018-06-17       smart   \n",
       "\n",
       "   user_status  messages_included  rub_monthly_fee  rub_per_message  \n",
       "0            0               1000             1950                1  \n",
       "1            0               1000             1950                1  \n",
       "2            0               1000             1950                1  \n",
       "3            0               1000             1950                1  \n",
       "4            0               1000             1950                1  \n",
       "5            0               1000             1950                1  \n",
       "6            0               1000             1950                1  \n",
       "7            0               1000             1950                1  \n",
       "8            0                 50              550                3  \n",
       "9            0                 50              550                3  "
      ]
     },
     "execution_count": 69,
     "metadata": {},
     "output_type": "execute_result"
    }
   ],
   "source": [
    "messages_monthly_stat.head(10)"
   ]
  },
  {
   "cell_type": "markdown",
   "metadata": {},
   "source": [
    "Видим, что в df messages_monthly_stat остались только нужные нам поля. Теперь можно приступить к расчёту помесячных платежей от использования абонентом дополнительных сообщений. \n",
    "\n",
    "Для этого напишем соответствующую функцию, которая будет принимать на вход всю строку и реализовывать следующую логику:\n",
    "\n",
    "1. Для каждого абонента на каждую неделю функция сравнивает количество израсходованных и предусмотренных тарифом сообщений.\n",
    "\n",
    "2. Если абонент израсходовал меньше сообщений, чем предусмотрено тарифом, функция возвращает значение дополнительных платежей, равное нулю.\n",
    "\n",
    "3. Если абонент израсходовал больше сообщений, чем предусмотрено тарифом, функция считает, сколько сообщений было израсходовано сверх предусмотренного тарифом размера, и умножает это количество на стоимость 1 дополнительного сообщения."
   ]
  },
  {
   "cell_type": "code",
   "execution_count": 70,
   "metadata": {},
   "outputs": [],
   "source": [
    "def messages_monthly_add_income(row):\n",
    "    messages_count = row['messages_count']\n",
    "    messages_included = row['messages_included']\n",
    "    rub_per_message = row['rub_per_message']\n",
    "    if messages_count <= messages_included:\n",
    "        return 0\n",
    "    elif messages_count > messages_included:\n",
    "        add_messages = messages_count - messages_included\n",
    "        return add_messages * rub_per_message"
   ]
  },
  {
   "cell_type": "markdown",
   "metadata": {},
   "source": [
    "Проверим работу функции на тестовых данных."
   ]
  },
  {
   "cell_type": "code",
   "execution_count": 71,
   "metadata": {},
   "outputs": [],
   "source": [
    "row_values_1 = [49, 50, 3]\n",
    "row_values_2 = [51, 50, 3]\n",
    "row_values_3 = [999, 1000, 1]\n",
    "row_values_4 = [1000, 1000, 1]\n",
    "row_values_5 = [1010, 1000, 1]\n",
    "row_columns = ['messages_count', 'messages_included', 'rub_per_message']\n",
    "row_1 = pd.Series(data=row_values_1, index=row_columns)\n",
    "row_2 = pd.Series(data=row_values_2, index=row_columns)\n",
    "row_3 = pd.Series(data=row_values_3, index=row_columns)\n",
    "row_4 = pd.Series(data=row_values_4, index=row_columns)\n",
    "row_5 = pd.Series(data=row_values_5, index=row_columns)"
   ]
  },
  {
   "cell_type": "code",
   "execution_count": 72,
   "metadata": {},
   "outputs": [
    {
     "name": "stdout",
     "output_type": "stream",
     "text": [
      "0\n",
      "3\n",
      "0\n",
      "0\n",
      "10\n"
     ]
    }
   ],
   "source": [
    "print(messages_monthly_add_income(row_1))\n",
    "print(messages_monthly_add_income(row_2))\n",
    "print(messages_monthly_add_income(row_3))\n",
    "print(messages_monthly_add_income(row_4))\n",
    "print(messages_monthly_add_income(row_5))"
   ]
  },
  {
   "cell_type": "markdown",
   "metadata": {},
   "source": [
    "Видим, что функция работает корректно на тестовых данных. Применим функцию к df messages_monthly_stat для вычисления помесячных платежей от использования абонентом дополнительных сообщений."
   ]
  },
  {
   "cell_type": "code",
   "execution_count": 73,
   "metadata": {},
   "outputs": [],
   "source": [
    "messages_monthly_stat['messages_monthly_add_income'] = messages_monthly_stat.apply(messages_monthly_add_income, axis = 1)"
   ]
  },
  {
   "cell_type": "markdown",
   "metadata": {},
   "source": [
    "Проверим корректность работы функции. Так как абоненты, которые используют менее 50 сообщений, не генерируют дополнительные платежи, сделаем срез, в котором буду только те абоненты, у которых тариф smart и у которых количество использованных сообщений превышает 50."
   ]
  },
  {
   "cell_type": "code",
   "execution_count": 74,
   "metadata": {},
   "outputs": [
    {
     "data": {
      "text/html": [
       "<div>\n",
       "<style scoped>\n",
       "    .dataframe tbody tr th:only-of-type {\n",
       "        vertical-align: middle;\n",
       "    }\n",
       "\n",
       "    .dataframe tbody tr th {\n",
       "        vertical-align: top;\n",
       "    }\n",
       "\n",
       "    .dataframe thead th {\n",
       "        text-align: right;\n",
       "    }\n",
       "</style>\n",
       "<table border=\"1\" class=\"dataframe\">\n",
       "  <thead>\n",
       "    <tr style=\"text-align: right;\">\n",
       "      <th></th>\n",
       "      <th>user_id</th>\n",
       "      <th>month</th>\n",
       "      <th>messages_count</th>\n",
       "      <th>churn_date</th>\n",
       "      <th>reg_date</th>\n",
       "      <th>tariff_name</th>\n",
       "      <th>user_status</th>\n",
       "      <th>messages_included</th>\n",
       "      <th>rub_monthly_fee</th>\n",
       "      <th>rub_per_message</th>\n",
       "      <th>messages_monthly_add_income</th>\n",
       "    </tr>\n",
       "  </thead>\n",
       "  <tbody>\n",
       "    <tr>\n",
       "      <td>30</td>\n",
       "      <td>1005</td>\n",
       "      <td>3</td>\n",
       "      <td>56</td>\n",
       "      <td>0</td>\n",
       "      <td>2018-01-25</td>\n",
       "      <td>smart</td>\n",
       "      <td>0</td>\n",
       "      <td>50</td>\n",
       "      <td>550</td>\n",
       "      <td>3</td>\n",
       "      <td>18</td>\n",
       "    </tr>\n",
       "    <tr>\n",
       "      <td>34</td>\n",
       "      <td>1005</td>\n",
       "      <td>7</td>\n",
       "      <td>56</td>\n",
       "      <td>0</td>\n",
       "      <td>2018-01-25</td>\n",
       "      <td>smart</td>\n",
       "      <td>0</td>\n",
       "      <td>50</td>\n",
       "      <td>550</td>\n",
       "      <td>3</td>\n",
       "      <td>18</td>\n",
       "    </tr>\n",
       "    <tr>\n",
       "      <td>35</td>\n",
       "      <td>1005</td>\n",
       "      <td>8</td>\n",
       "      <td>64</td>\n",
       "      <td>0</td>\n",
       "      <td>2018-01-25</td>\n",
       "      <td>smart</td>\n",
       "      <td>0</td>\n",
       "      <td>50</td>\n",
       "      <td>550</td>\n",
       "      <td>3</td>\n",
       "      <td>42</td>\n",
       "    </tr>\n",
       "    <tr>\n",
       "      <td>36</td>\n",
       "      <td>1005</td>\n",
       "      <td>9</td>\n",
       "      <td>52</td>\n",
       "      <td>0</td>\n",
       "      <td>2018-01-25</td>\n",
       "      <td>smart</td>\n",
       "      <td>0</td>\n",
       "      <td>50</td>\n",
       "      <td>550</td>\n",
       "      <td>3</td>\n",
       "      <td>6</td>\n",
       "    </tr>\n",
       "    <tr>\n",
       "      <td>38</td>\n",
       "      <td>1005</td>\n",
       "      <td>11</td>\n",
       "      <td>51</td>\n",
       "      <td>0</td>\n",
       "      <td>2018-01-25</td>\n",
       "      <td>smart</td>\n",
       "      <td>0</td>\n",
       "      <td>50</td>\n",
       "      <td>550</td>\n",
       "      <td>3</td>\n",
       "      <td>3</td>\n",
       "    </tr>\n",
       "  </tbody>\n",
       "</table>\n",
       "</div>"
      ],
      "text/plain": [
       "    user_id  month  messages_count churn_date   reg_date tariff_name  \\\n",
       "30     1005      3              56          0 2018-01-25       smart   \n",
       "34     1005      7              56          0 2018-01-25       smart   \n",
       "35     1005      8              64          0 2018-01-25       smart   \n",
       "36     1005      9              52          0 2018-01-25       smart   \n",
       "38     1005     11              51          0 2018-01-25       smart   \n",
       "\n",
       "    user_status  messages_included  rub_monthly_fee  rub_per_message  \\\n",
       "30            0                 50              550                3   \n",
       "34            0                 50              550                3   \n",
       "35            0                 50              550                3   \n",
       "36            0                 50              550                3   \n",
       "38            0                 50              550                3   \n",
       "\n",
       "    messages_monthly_add_income  \n",
       "30                           18  \n",
       "34                           18  \n",
       "35                           42  \n",
       "36                            6  \n",
       "38                            3  "
      ]
     },
     "execution_count": 74,
     "metadata": {},
     "output_type": "execute_result"
    }
   ],
   "source": [
    "messages_monthly_stat.query('messages_count > 50 and tariff_name == \"smart\"').head(5)"
   ]
  },
  {
   "cell_type": "markdown",
   "metadata": {},
   "source": [
    "Видим, что функция корректно считает помесячные платежи от использования абонентом дополнительных МБ."
   ]
  },
  {
   "cell_type": "markdown",
   "metadata": {},
   "source": [
    "### Этап 3.4.4. Расчёт помесячного дохода по абонентам.\n",
    "\n",
    "Теперь сформируем df monthly_income, в который поместим сначала помесячные платежи от использования абонентом дополнительных минут, а потом добавим помесячные платежи от остальных услуг."
   ]
  },
  {
   "cell_type": "code",
   "execution_count": 75,
   "metadata": {},
   "outputs": [],
   "source": [
    "monthly_income = calls_monthly_stat[['user_id', 'month', 'tariff_name', 'rub_monthly_fee', 'calls_monthly_add_income']]"
   ]
  },
  {
   "cell_type": "markdown",
   "metadata": {},
   "source": [
    "Чтобы после присоединения таблиц не удалять ненужные поля, при присоединении ограничим набор полей из таблиц теми, которые мы будем присоединять. Используем тип присоединения outer, так как нам нужны данные из обоих таблиц. "
   ]
  },
  {
   "cell_type": "code",
   "execution_count": 76,
   "metadata": {},
   "outputs": [],
   "source": [
    "monthly_income = monthly_income.merge(internet_monthly_stat[['user_id', 'month', 'tariff_name', 'rub_monthly_fee', \n",
    "'mb_monthly_add_income']], on = ['user_id', 'month', 'tariff_name', 'rub_monthly_fee'], how = 'outer')"
   ]
  },
  {
   "cell_type": "code",
   "execution_count": 77,
   "metadata": {},
   "outputs": [],
   "source": [
    "monthly_income = monthly_income.merge(messages_monthly_stat[['user_id', 'month', 'tariff_name', 'rub_monthly_fee',\n",
    "'messages_monthly_add_income']], on = ['user_id', 'month', 'tariff_name', 'rub_monthly_fee'], how = 'outer')"
   ]
  },
  {
   "cell_type": "markdown",
   "metadata": {},
   "source": [
    "Так как в df monthly_income после соединения таблиц данные о доходах содержатся в типе float, переведём их в тип int. \n",
    "\n",
    "Кроме того, при объединении таблиц у нас появились значения типа NaN: это связано с тем, что в df monthly_income содержится информация о месячном доходе от абонента в разрезе каждой услуги, а какой-то абонент мог не пользоваться какой-то услугой в определённый месяц. Например, user 1000 мог в 5 месяц пользоваться только звонками, поэтому доход может быть только от использования им дополнительных минут, другими услугами абонент в этом месяце не пользовался. В 6 месяце абонент пользовался только интернетом и никому не звонил, соответственно, доход в этом месяце может быть только от использования МБ свех тарифа (не считая абонплаты). При этом данные по этим доходам содержатся в разных таблицах. \n",
    "\n",
    "При объединении таблиц у абонента в 5 месяце будет значение дохода от использования дополнительных минут и NaN от использования дополнительных МБ, так как интернетом в 5 месяце он не пользовался. Соответственно, в 6 месяце будет NaN от минут и доход от МБ.\n",
    "\n",
    "Так как речь идёт о доходе от использования дополнительных услуг, значение NaN говорит о том, что в данном месяце абонент не воспользовался данной услугой, следовательно, дохода от этой услуги компания не получила. Поэтому NaN логично заменить на 0, что будет логически правильным."
   ]
  },
  {
   "cell_type": "code",
   "execution_count": 78,
   "metadata": {},
   "outputs": [],
   "source": [
    "monthly_income[['rub_monthly_fee', 'calls_monthly_add_income', 'mb_monthly_add_income', 'messages_monthly_add_income']] = \\\n",
    "monthly_income[['rub_monthly_fee', 'calls_monthly_add_income', 'mb_monthly_add_income', \n",
    "'messages_monthly_add_income']].astype('Int64').fillna(0)"
   ]
  },
  {
   "cell_type": "markdown",
   "metadata": {},
   "source": [
    "Проверим корректность преобразований."
   ]
  },
  {
   "cell_type": "code",
   "execution_count": 79,
   "metadata": {},
   "outputs": [
    {
     "data": {
      "text/html": [
       "<div>\n",
       "<style scoped>\n",
       "    .dataframe tbody tr th:only-of-type {\n",
       "        vertical-align: middle;\n",
       "    }\n",
       "\n",
       "    .dataframe tbody tr th {\n",
       "        vertical-align: top;\n",
       "    }\n",
       "\n",
       "    .dataframe thead th {\n",
       "        text-align: right;\n",
       "    }\n",
       "</style>\n",
       "<table border=\"1\" class=\"dataframe\">\n",
       "  <thead>\n",
       "    <tr style=\"text-align: right;\">\n",
       "      <th></th>\n",
       "      <th>user_id</th>\n",
       "      <th>month</th>\n",
       "      <th>tariff_name</th>\n",
       "      <th>rub_monthly_fee</th>\n",
       "      <th>calls_monthly_add_income</th>\n",
       "      <th>mb_monthly_add_income</th>\n",
       "      <th>messages_monthly_add_income</th>\n",
       "    </tr>\n",
       "  </thead>\n",
       "  <tbody>\n",
       "    <tr>\n",
       "      <td>0</td>\n",
       "      <td>1000</td>\n",
       "      <td>5</td>\n",
       "      <td>ultra</td>\n",
       "      <td>1950</td>\n",
       "      <td>0</td>\n",
       "      <td>0</td>\n",
       "      <td>0</td>\n",
       "    </tr>\n",
       "    <tr>\n",
       "      <td>1</td>\n",
       "      <td>1000</td>\n",
       "      <td>6</td>\n",
       "      <td>ultra</td>\n",
       "      <td>1950</td>\n",
       "      <td>0</td>\n",
       "      <td>0</td>\n",
       "      <td>0</td>\n",
       "    </tr>\n",
       "    <tr>\n",
       "      <td>2</td>\n",
       "      <td>1000</td>\n",
       "      <td>7</td>\n",
       "      <td>ultra</td>\n",
       "      <td>1950</td>\n",
       "      <td>0</td>\n",
       "      <td>0</td>\n",
       "      <td>0</td>\n",
       "    </tr>\n",
       "    <tr>\n",
       "      <td>3</td>\n",
       "      <td>1000</td>\n",
       "      <td>8</td>\n",
       "      <td>ultra</td>\n",
       "      <td>1950</td>\n",
       "      <td>0</td>\n",
       "      <td>0</td>\n",
       "      <td>0</td>\n",
       "    </tr>\n",
       "    <tr>\n",
       "      <td>4</td>\n",
       "      <td>1000</td>\n",
       "      <td>9</td>\n",
       "      <td>ultra</td>\n",
       "      <td>1950</td>\n",
       "      <td>0</td>\n",
       "      <td>0</td>\n",
       "      <td>0</td>\n",
       "    </tr>\n",
       "    <tr>\n",
       "      <td>5</td>\n",
       "      <td>1000</td>\n",
       "      <td>10</td>\n",
       "      <td>ultra</td>\n",
       "      <td>1950</td>\n",
       "      <td>0</td>\n",
       "      <td>0</td>\n",
       "      <td>0</td>\n",
       "    </tr>\n",
       "    <tr>\n",
       "      <td>6</td>\n",
       "      <td>1000</td>\n",
       "      <td>11</td>\n",
       "      <td>ultra</td>\n",
       "      <td>1950</td>\n",
       "      <td>0</td>\n",
       "      <td>0</td>\n",
       "      <td>0</td>\n",
       "    </tr>\n",
       "    <tr>\n",
       "      <td>7</td>\n",
       "      <td>1000</td>\n",
       "      <td>12</td>\n",
       "      <td>ultra</td>\n",
       "      <td>1950</td>\n",
       "      <td>0</td>\n",
       "      <td>0</td>\n",
       "      <td>0</td>\n",
       "    </tr>\n",
       "    <tr>\n",
       "      <td>8</td>\n",
       "      <td>1001</td>\n",
       "      <td>11</td>\n",
       "      <td>smart</td>\n",
       "      <td>550</td>\n",
       "      <td>0</td>\n",
       "      <td>800</td>\n",
       "      <td>0</td>\n",
       "    </tr>\n",
       "    <tr>\n",
       "      <td>9</td>\n",
       "      <td>1001</td>\n",
       "      <td>12</td>\n",
       "      <td>smart</td>\n",
       "      <td>550</td>\n",
       "      <td>0</td>\n",
       "      <td>0</td>\n",
       "      <td>0</td>\n",
       "    </tr>\n",
       "  </tbody>\n",
       "</table>\n",
       "</div>"
      ],
      "text/plain": [
       "   user_id  month tariff_name  rub_monthly_fee  calls_monthly_add_income  \\\n",
       "0     1000      5       ultra             1950                         0   \n",
       "1     1000      6       ultra             1950                         0   \n",
       "2     1000      7       ultra             1950                         0   \n",
       "3     1000      8       ultra             1950                         0   \n",
       "4     1000      9       ultra             1950                         0   \n",
       "5     1000     10       ultra             1950                         0   \n",
       "6     1000     11       ultra             1950                         0   \n",
       "7     1000     12       ultra             1950                         0   \n",
       "8     1001     11       smart              550                         0   \n",
       "9     1001     12       smart              550                         0   \n",
       "\n",
       "   mb_monthly_add_income  messages_monthly_add_income  \n",
       "0                      0                            0  \n",
       "1                      0                            0  \n",
       "2                      0                            0  \n",
       "3                      0                            0  \n",
       "4                      0                            0  \n",
       "5                      0                            0  \n",
       "6                      0                            0  \n",
       "7                      0                            0  \n",
       "8                    800                            0  \n",
       "9                      0                            0  "
      ]
     },
     "execution_count": 79,
     "metadata": {},
     "output_type": "execute_result"
    }
   ],
   "source": [
    "monthly_income.head(10)"
   ]
  },
  {
   "cell_type": "markdown",
   "metadata": {},
   "source": [
    "Видим, что преобразования и замена пропущенных значений прошли успешно. Можно приступить к расчёту помесячного дохода.\n",
    "\n",
    "Отмечу также, что на текущий момент в df monthly_income абоненты перемешаны, так как при объединении таблиц в конец df monthly_income добавлялись записи об абонентах, которых изначально не было в df monthly_income. Поэтому, чтобы всё выглядело красиво, сделаем сортировку по возрастанию сначала по user_id, а потом по month. "
   ]
  },
  {
   "cell_type": "code",
   "execution_count": 80,
   "metadata": {},
   "outputs": [],
   "source": [
    "monthly_income['total_income'] = monthly_income['rub_monthly_fee'] + monthly_income['calls_monthly_add_income'] \\\n",
    "+ monthly_income['mb_monthly_add_income'] + monthly_income['messages_monthly_add_income']\n",
    "monthly_income = monthly_income.sort_values(['user_id', 'month'])"
   ]
  },
  {
   "cell_type": "markdown",
   "metadata": {},
   "source": [
    "Проверим корректность расчёта помесячного дохода и сортировки полей df monthly_income."
   ]
  },
  {
   "cell_type": "code",
   "execution_count": 81,
   "metadata": {},
   "outputs": [
    {
     "data": {
      "text/html": [
       "<div>\n",
       "<style scoped>\n",
       "    .dataframe tbody tr th:only-of-type {\n",
       "        vertical-align: middle;\n",
       "    }\n",
       "\n",
       "    .dataframe tbody tr th {\n",
       "        vertical-align: top;\n",
       "    }\n",
       "\n",
       "    .dataframe thead th {\n",
       "        text-align: right;\n",
       "    }\n",
       "</style>\n",
       "<table border=\"1\" class=\"dataframe\">\n",
       "  <thead>\n",
       "    <tr style=\"text-align: right;\">\n",
       "      <th></th>\n",
       "      <th>user_id</th>\n",
       "      <th>month</th>\n",
       "      <th>tariff_name</th>\n",
       "      <th>rub_monthly_fee</th>\n",
       "      <th>calls_monthly_add_income</th>\n",
       "      <th>mb_monthly_add_income</th>\n",
       "      <th>messages_monthly_add_income</th>\n",
       "      <th>total_income</th>\n",
       "    </tr>\n",
       "  </thead>\n",
       "  <tbody>\n",
       "    <tr>\n",
       "      <td>0</td>\n",
       "      <td>1000</td>\n",
       "      <td>5</td>\n",
       "      <td>ultra</td>\n",
       "      <td>1950</td>\n",
       "      <td>0</td>\n",
       "      <td>0</td>\n",
       "      <td>0</td>\n",
       "      <td>1950</td>\n",
       "    </tr>\n",
       "    <tr>\n",
       "      <td>1</td>\n",
       "      <td>1000</td>\n",
       "      <td>6</td>\n",
       "      <td>ultra</td>\n",
       "      <td>1950</td>\n",
       "      <td>0</td>\n",
       "      <td>0</td>\n",
       "      <td>0</td>\n",
       "      <td>1950</td>\n",
       "    </tr>\n",
       "    <tr>\n",
       "      <td>2</td>\n",
       "      <td>1000</td>\n",
       "      <td>7</td>\n",
       "      <td>ultra</td>\n",
       "      <td>1950</td>\n",
       "      <td>0</td>\n",
       "      <td>0</td>\n",
       "      <td>0</td>\n",
       "      <td>1950</td>\n",
       "    </tr>\n",
       "    <tr>\n",
       "      <td>3</td>\n",
       "      <td>1000</td>\n",
       "      <td>8</td>\n",
       "      <td>ultra</td>\n",
       "      <td>1950</td>\n",
       "      <td>0</td>\n",
       "      <td>0</td>\n",
       "      <td>0</td>\n",
       "      <td>1950</td>\n",
       "    </tr>\n",
       "    <tr>\n",
       "      <td>4</td>\n",
       "      <td>1000</td>\n",
       "      <td>9</td>\n",
       "      <td>ultra</td>\n",
       "      <td>1950</td>\n",
       "      <td>0</td>\n",
       "      <td>0</td>\n",
       "      <td>0</td>\n",
       "      <td>1950</td>\n",
       "    </tr>\n",
       "    <tr>\n",
       "      <td>...</td>\n",
       "      <td>...</td>\n",
       "      <td>...</td>\n",
       "      <td>...</td>\n",
       "      <td>...</td>\n",
       "      <td>...</td>\n",
       "      <td>...</td>\n",
       "      <td>...</td>\n",
       "      <td>...</td>\n",
       "    </tr>\n",
       "    <tr>\n",
       "      <td>3169</td>\n",
       "      <td>1498</td>\n",
       "      <td>10</td>\n",
       "      <td>smart</td>\n",
       "      <td>550</td>\n",
       "      <td>0</td>\n",
       "      <td>1200</td>\n",
       "      <td>0</td>\n",
       "      <td>1750</td>\n",
       "    </tr>\n",
       "    <tr>\n",
       "      <td>3170</td>\n",
       "      <td>1499</td>\n",
       "      <td>9</td>\n",
       "      <td>smart</td>\n",
       "      <td>550</td>\n",
       "      <td>0</td>\n",
       "      <td>0</td>\n",
       "      <td>0</td>\n",
       "      <td>550</td>\n",
       "    </tr>\n",
       "    <tr>\n",
       "      <td>3171</td>\n",
       "      <td>1499</td>\n",
       "      <td>10</td>\n",
       "      <td>smart</td>\n",
       "      <td>550</td>\n",
       "      <td>0</td>\n",
       "      <td>600</td>\n",
       "      <td>0</td>\n",
       "      <td>1150</td>\n",
       "    </tr>\n",
       "    <tr>\n",
       "      <td>3172</td>\n",
       "      <td>1499</td>\n",
       "      <td>11</td>\n",
       "      <td>smart</td>\n",
       "      <td>550</td>\n",
       "      <td>336</td>\n",
       "      <td>600</td>\n",
       "      <td>27</td>\n",
       "      <td>1513</td>\n",
       "    </tr>\n",
       "    <tr>\n",
       "      <td>3173</td>\n",
       "      <td>1499</td>\n",
       "      <td>12</td>\n",
       "      <td>smart</td>\n",
       "      <td>550</td>\n",
       "      <td>0</td>\n",
       "      <td>0</td>\n",
       "      <td>48</td>\n",
       "      <td>598</td>\n",
       "    </tr>\n",
       "  </tbody>\n",
       "</table>\n",
       "<p>3214 rows × 8 columns</p>\n",
       "</div>"
      ],
      "text/plain": [
       "      user_id  month tariff_name  rub_monthly_fee  calls_monthly_add_income  \\\n",
       "0        1000      5       ultra             1950                         0   \n",
       "1        1000      6       ultra             1950                         0   \n",
       "2        1000      7       ultra             1950                         0   \n",
       "3        1000      8       ultra             1950                         0   \n",
       "4        1000      9       ultra             1950                         0   \n",
       "...       ...    ...         ...              ...                       ...   \n",
       "3169     1498     10       smart              550                         0   \n",
       "3170     1499      9       smart              550                         0   \n",
       "3171     1499     10       smart              550                         0   \n",
       "3172     1499     11       smart              550                       336   \n",
       "3173     1499     12       smart              550                         0   \n",
       "\n",
       "      mb_monthly_add_income  messages_monthly_add_income  total_income  \n",
       "0                         0                            0          1950  \n",
       "1                         0                            0          1950  \n",
       "2                         0                            0          1950  \n",
       "3                         0                            0          1950  \n",
       "4                         0                            0          1950  \n",
       "...                     ...                          ...           ...  \n",
       "3169                   1200                            0          1750  \n",
       "3170                      0                            0           550  \n",
       "3171                    600                            0          1150  \n",
       "3172                    600                           27          1513  \n",
       "3173                      0                           48           598  \n",
       "\n",
       "[3214 rows x 8 columns]"
      ]
     },
     "execution_count": 81,
     "metadata": {},
     "output_type": "execute_result"
    }
   ],
   "source": [
    "monthly_income"
   ]
  },
  {
   "cell_type": "markdown",
   "metadata": {},
   "source": [
    "# Вывод по этапу 3.\n",
    "\n",
    "На данном этапе на основе имеющихся данных были рассчитаны дополнительные параметры:\n",
    "\n",
    "- количество сделанных звонков и израсходованных минут разговора по месяцам;\n",
    "\n",
    "\n",
    "- количество отправленных сообщений по месяцам;\n",
    "\n",
    "\n",
    "- объем израсходованного интернет-трафика по месяцам;\n",
    "\n",
    "\n",
    "- помесячная выручка.\n",
    "\n",
    "При расчёте ппомесячной выручки рассчитывались помесячные платежи абонентов за использование абонентами минут, сообщений и МБ интернета, не включённых в их тариф, а также величина абонентской планы, вносимая ежемесячно."
   ]
  },
  {
   "cell_type": "markdown",
   "metadata": {},
   "source": [
    "# Этап 4. Анализ данных\n",
    "\n",
    "В рамках данного этапа предстоит ответить на следующие вопросы: \n",
    "\n",
    "\n",
    "- cколько минут разговора требуется пользователям каждого тарифа в месяц?\n",
    "\n",
    "\n",
    "- cколько сообщений требуется пользователям каждого тарифа в месяц?\n",
    "\n",
    "\n",
    "- какой объём интернет-трафика требуется пользователям каждого тарифа в месяц?\n",
    "\n",
    "Для этого необходимо для кажой услуги посчитать среднее значение, дисперсию и стандартное отклонение, а также построить гистограммы и описать распределения."
   ]
  },
  {
   "cell_type": "markdown",
   "metadata": {},
   "source": [
    "## Этап 4.1. Определение необходимого количества минут."
   ]
  },
  {
   "cell_type": "markdown",
   "metadata": {},
   "source": [
    "Чтобы выяснить среднее необходимое количество минут для пользователя каждого абонента, используем данные из df calls_monthly_stat, в котором собрана информация о суммарной продолжительности разговоров абонентов в разрезе месяцев 2018 года. \n",
    "\n",
    "Отмечу также, что при использовании df calls_monthly_stat нет необходимости фильтровать df по признаку удачности звонка, так как при подсчёте суммарной продолжительности разговоров абонента за месяц неудачные звонки были объеденены с удачными. Следовательно, количество записей в df calls_monthly_stat при фильтрации звонков по их длительности, превышающей ноль, либо не изменится, либо изменится незначительно. Проверим это."
   ]
  },
  {
   "cell_type": "code",
   "execution_count": 82,
   "metadata": {},
   "outputs": [
    {
     "data": {
      "text/plain": [
       "3168"
      ]
     },
     "execution_count": 82,
     "metadata": {},
     "output_type": "execute_result"
    }
   ],
   "source": [
    "calls_monthly_stat.query('calls_sum > 0')['user_id'].count()"
   ]
  },
  {
   "cell_type": "code",
   "execution_count": 83,
   "metadata": {},
   "outputs": [
    {
     "data": {
      "text/plain": [
       "3174"
      ]
     },
     "execution_count": 83,
     "metadata": {},
     "output_type": "execute_result"
    }
   ],
   "source": [
    "calls_monthly_stat['user_id'].count()"
   ]
  },
  {
   "cell_type": "markdown",
   "metadata": {},
   "source": [
    "Видим, что количество записей существенно не изменилось, а разница не исказит распределение переменных. Поэтому будем исследовать данные с помощью графиков при условии, что в нём отсутствуют значения, равные нулю.\n",
    "\n",
    "Выясним среднее необходимое количество минут для абонентов каждого тарифа."
   ]
  },
  {
   "cell_type": "code",
   "execution_count": 84,
   "metadata": {},
   "outputs": [
    {
     "data": {
      "image/png": "[encoded data removed]",
      "text/plain": [
       "<Figure size 720x360 with 1 Axes>"
      ]
     },
     "metadata": {
      "needs_background": "light"
     },
     "output_type": "display_data"
    }
   ],
   "source": [
    "ax = calls_monthly_stat[(calls_monthly_stat['tariff_name'] == 'smart') & (calls_monthly_stat['calls_sum'] > 0)]\\\n",
    ".pivot_table(index = 'month', \n",
    "values = 'calls_sum', aggfunc = 'mean').plot(y = 'calls_sum', kind = 'bar', figsize = (10, 5), color = 'g', \n",
    "align = 'edge', label = 'smart', title = ('Среднее количество минут, необходимое абоненту, в зависимости от его тарифа'))\n",
    "calls_monthly_stat[(calls_monthly_stat['tariff_name'] == 'ultra') & (calls_monthly_stat['calls_sum'] > 0)]\\\n",
    ".pivot_table(index = 'month', values = 'calls_sum', \n",
    "aggfunc = 'mean').plot(y = 'calls_sum', kind = 'bar', figsize = (10, 5), color = 'r', ax = ax, align = 'center', \n",
    "label = 'ultra')\n",
    "plt.xlabel('Месяцы')\n",
    "plt.ylabel('Среднее количество минут')\n",
    "plt.show()"
   ]
  },
  {
   "cell_type": "markdown",
   "metadata": {},
   "source": [
    "В целом видим, что абонентам с тарифом smart в среднем требуется меньше минут в месяц, чем абонентам с тарифом ultra.\n",
    "\n",
    "Однако такой способ определения нужного количества минут не очень информативен, поэтому рассчитаем необходимые статистики. \n",
    "\n",
    "А для этого мы снова напишем функции. Нужно больше функций!\n",
    "\n",
    "Функция будет принимать 2 входные значения: набор данных и исследуемое в нём поле. Здесь неудачные звонки также не учитываем.\n",
    "\n",
    "В переданном наборе данных функция создаст сводную таблицу, сгруппирует данные по тарифу, в качестве аргумента параметру values передат переданный функции столбец, и на данных этого столбца рассчитает все необходимые статистики: количество звонков, среднюю продожительность звонка, стандартное отклоненние и дисперсию длительности звонка, а также минимальную и максимальную продолжительность звонка."
   ]
  },
  {
   "cell_type": "code",
   "execution_count": 85,
   "metadata": {},
   "outputs": [],
   "source": [
    "def statistics(df, column):\n",
    "    statistics = df[df[column] > 0].pivot_table(index = 'tariff_name',values = column, \n",
    "    aggfunc = ['count', 'mean', 'std', 'var', 'min', 'max']).reset_index()\n",
    "    statistics.columns = ['tariff_name', 'count', 'mean', 'std', \n",
    "                                          'var', 'min', 'max']\n",
    "    statistics[['mean', 'std', 'var']] =\\\n",
    "    round(statistics[['mean', 'std', 'var', ]], 2)\n",
    "    display(statistics)"
   ]
  },
  {
   "cell_type": "markdown",
   "metadata": {},
   "source": [
    "Применим функцию и посчитаем соответствующие статистики."
   ]
  },
  {
   "cell_type": "code",
   "execution_count": 86,
   "metadata": {},
   "outputs": [
    {
     "data": {
      "text/html": [
       "<div>\n",
       "<style scoped>\n",
       "    .dataframe tbody tr th:only-of-type {\n",
       "        vertical-align: middle;\n",
       "    }\n",
       "\n",
       "    .dataframe tbody tr th {\n",
       "        vertical-align: top;\n",
       "    }\n",
       "\n",
       "    .dataframe thead th {\n",
       "        text-align: right;\n",
       "    }\n",
       "</style>\n",
       "<table border=\"1\" class=\"dataframe\">\n",
       "  <thead>\n",
       "    <tr style=\"text-align: right;\">\n",
       "      <th></th>\n",
       "      <th>tariff_name</th>\n",
       "      <th>count</th>\n",
       "      <th>mean</th>\n",
       "      <th>std</th>\n",
       "      <th>var</th>\n",
       "      <th>min</th>\n",
       "      <th>max</th>\n",
       "    </tr>\n",
       "  </thead>\n",
       "  <tbody>\n",
       "    <tr>\n",
       "      <td>0</td>\n",
       "      <td>smart</td>\n",
       "      <td>2221</td>\n",
       "      <td>419.44</td>\n",
       "      <td>188.99</td>\n",
       "      <td>35718.13</td>\n",
       "      <td>2</td>\n",
       "      <td>1435</td>\n",
       "    </tr>\n",
       "    <tr>\n",
       "      <td>1</td>\n",
       "      <td>ultra</td>\n",
       "      <td>947</td>\n",
       "      <td>547.76</td>\n",
       "      <td>305.51</td>\n",
       "      <td>93338.43</td>\n",
       "      <td>1</td>\n",
       "      <td>1673</td>\n",
       "    </tr>\n",
       "  </tbody>\n",
       "</table>\n",
       "</div>"
      ],
      "text/plain": [
       "  tariff_name  count    mean     std       var  min   max\n",
       "0       smart   2221  419.44  188.99  35718.13    2  1435\n",
       "1       ultra    947  547.76  305.51  93338.43    1  1673"
      ]
     },
     "metadata": {},
     "output_type": "display_data"
    }
   ],
   "source": [
    "statistics(calls_monthly_stat, 'calls_sum')"
   ]
  },
  {
   "cell_type": "markdown",
   "metadata": {},
   "source": [
    "Информация получена в виде сводной таблицы со статистиками через написание соответствующей функции.\n",
    "\n",
    "Функция позволила узнать, сколько абоненту в среднем требуется минут для полноценной жизни в зависимости от его тарифа, месяца и принципов учёта нулевых значений: для абонента с тарифом smart - около 420, для абонента с тарифом ultra - около 550. \n",
    "\n",
    "Отмечу, что для всех статистик характерны высокие значения стандартного отклонения, что указывает на разрозненность использованных минут от абонента к абоненту: присутствуют как не очень общительные (около 1 минуты в месяц), так и гиперобщительные (около 1673 минуты в месяц) абоненты. \n",
    "\n",
    "Также было бы интересно посмотреть на среднюю продолжительность звонка. \n",
    "\n",
    "Чтобы выяснить необходимое количество минут для пользователя каждого абонента, присоединим к df calls df users, чтобы узнать, какой у абонента тариф. Будем использовать присоединение типа left, чтобы не потерять данные из df calls.\n",
    "\n",
    "Полученный df назовём calls_stats."
   ]
  },
  {
   "cell_type": "code",
   "execution_count": 87,
   "metadata": {},
   "outputs": [],
   "source": [
    "calls_stats = calls.merge(users, on = 'user_id', how = 'left')"
   ]
  },
  {
   "cell_type": "markdown",
   "metadata": {},
   "source": [
    "Проверим корректность присоединения."
   ]
  },
  {
   "cell_type": "code",
   "execution_count": 88,
   "metadata": {},
   "outputs": [
    {
     "data": {
      "text/html": [
       "<div>\n",
       "<style scoped>\n",
       "    .dataframe tbody tr th:only-of-type {\n",
       "        vertical-align: middle;\n",
       "    }\n",
       "\n",
       "    .dataframe tbody tr th {\n",
       "        vertical-align: top;\n",
       "    }\n",
       "\n",
       "    .dataframe thead th {\n",
       "        text-align: right;\n",
       "    }\n",
       "</style>\n",
       "<table border=\"1\" class=\"dataframe\">\n",
       "  <thead>\n",
       "    <tr style=\"text-align: right;\">\n",
       "      <th></th>\n",
       "      <th>id</th>\n",
       "      <th>call_date</th>\n",
       "      <th>duration</th>\n",
       "      <th>user_id</th>\n",
       "      <th>call_status</th>\n",
       "      <th>month</th>\n",
       "      <th>age</th>\n",
       "      <th>churn_date</th>\n",
       "      <th>city</th>\n",
       "      <th>first_name</th>\n",
       "      <th>last_name</th>\n",
       "      <th>reg_date</th>\n",
       "      <th>tariff_name</th>\n",
       "      <th>user_status</th>\n",
       "    </tr>\n",
       "  </thead>\n",
       "  <tbody>\n",
       "    <tr>\n",
       "      <td>0</td>\n",
       "      <td>1000_0</td>\n",
       "      <td>2018-07-25</td>\n",
       "      <td>0</td>\n",
       "      <td>1000</td>\n",
       "      <td>0</td>\n",
       "      <td>7</td>\n",
       "      <td>52</td>\n",
       "      <td>0</td>\n",
       "      <td>Краснодар</td>\n",
       "      <td>Рафаил</td>\n",
       "      <td>Верещагин</td>\n",
       "      <td>2018-05-25</td>\n",
       "      <td>ultra</td>\n",
       "      <td>0</td>\n",
       "    </tr>\n",
       "    <tr>\n",
       "      <td>1</td>\n",
       "      <td>1000_1</td>\n",
       "      <td>2018-08-17</td>\n",
       "      <td>0</td>\n",
       "      <td>1000</td>\n",
       "      <td>0</td>\n",
       "      <td>8</td>\n",
       "      <td>52</td>\n",
       "      <td>0</td>\n",
       "      <td>Краснодар</td>\n",
       "      <td>Рафаил</td>\n",
       "      <td>Верещагин</td>\n",
       "      <td>2018-05-25</td>\n",
       "      <td>ultra</td>\n",
       "      <td>0</td>\n",
       "    </tr>\n",
       "    <tr>\n",
       "      <td>2</td>\n",
       "      <td>1000_2</td>\n",
       "      <td>2018-06-11</td>\n",
       "      <td>3</td>\n",
       "      <td>1000</td>\n",
       "      <td>1</td>\n",
       "      <td>6</td>\n",
       "      <td>52</td>\n",
       "      <td>0</td>\n",
       "      <td>Краснодар</td>\n",
       "      <td>Рафаил</td>\n",
       "      <td>Верещагин</td>\n",
       "      <td>2018-05-25</td>\n",
       "      <td>ultra</td>\n",
       "      <td>0</td>\n",
       "    </tr>\n",
       "    <tr>\n",
       "      <td>3</td>\n",
       "      <td>1000_3</td>\n",
       "      <td>2018-09-21</td>\n",
       "      <td>14</td>\n",
       "      <td>1000</td>\n",
       "      <td>1</td>\n",
       "      <td>9</td>\n",
       "      <td>52</td>\n",
       "      <td>0</td>\n",
       "      <td>Краснодар</td>\n",
       "      <td>Рафаил</td>\n",
       "      <td>Верещагин</td>\n",
       "      <td>2018-05-25</td>\n",
       "      <td>ultra</td>\n",
       "      <td>0</td>\n",
       "    </tr>\n",
       "    <tr>\n",
       "      <td>4</td>\n",
       "      <td>1000_4</td>\n",
       "      <td>2018-12-15</td>\n",
       "      <td>6</td>\n",
       "      <td>1000</td>\n",
       "      <td>1</td>\n",
       "      <td>12</td>\n",
       "      <td>52</td>\n",
       "      <td>0</td>\n",
       "      <td>Краснодар</td>\n",
       "      <td>Рафаил</td>\n",
       "      <td>Верещагин</td>\n",
       "      <td>2018-05-25</td>\n",
       "      <td>ultra</td>\n",
       "      <td>0</td>\n",
       "    </tr>\n",
       "    <tr>\n",
       "      <td>5</td>\n",
       "      <td>1000_5</td>\n",
       "      <td>2018-11-02</td>\n",
       "      <td>0</td>\n",
       "      <td>1000</td>\n",
       "      <td>0</td>\n",
       "      <td>11</td>\n",
       "      <td>52</td>\n",
       "      <td>0</td>\n",
       "      <td>Краснодар</td>\n",
       "      <td>Рафаил</td>\n",
       "      <td>Верещагин</td>\n",
       "      <td>2018-05-25</td>\n",
       "      <td>ultra</td>\n",
       "      <td>0</td>\n",
       "    </tr>\n",
       "    <tr>\n",
       "      <td>6</td>\n",
       "      <td>1000_6</td>\n",
       "      <td>2018-10-18</td>\n",
       "      <td>0</td>\n",
       "      <td>1000</td>\n",
       "      <td>0</td>\n",
       "      <td>10</td>\n",
       "      <td>52</td>\n",
       "      <td>0</td>\n",
       "      <td>Краснодар</td>\n",
       "      <td>Рафаил</td>\n",
       "      <td>Верещагин</td>\n",
       "      <td>2018-05-25</td>\n",
       "      <td>ultra</td>\n",
       "      <td>0</td>\n",
       "    </tr>\n",
       "    <tr>\n",
       "      <td>7</td>\n",
       "      <td>1000_7</td>\n",
       "      <td>2018-08-22</td>\n",
       "      <td>19</td>\n",
       "      <td>1000</td>\n",
       "      <td>1</td>\n",
       "      <td>8</td>\n",
       "      <td>52</td>\n",
       "      <td>0</td>\n",
       "      <td>Краснодар</td>\n",
       "      <td>Рафаил</td>\n",
       "      <td>Верещагин</td>\n",
       "      <td>2018-05-25</td>\n",
       "      <td>ultra</td>\n",
       "      <td>0</td>\n",
       "    </tr>\n",
       "    <tr>\n",
       "      <td>8</td>\n",
       "      <td>1000_8</td>\n",
       "      <td>2018-09-15</td>\n",
       "      <td>19</td>\n",
       "      <td>1000</td>\n",
       "      <td>1</td>\n",
       "      <td>9</td>\n",
       "      <td>52</td>\n",
       "      <td>0</td>\n",
       "      <td>Краснодар</td>\n",
       "      <td>Рафаил</td>\n",
       "      <td>Верещагин</td>\n",
       "      <td>2018-05-25</td>\n",
       "      <td>ultra</td>\n",
       "      <td>0</td>\n",
       "    </tr>\n",
       "    <tr>\n",
       "      <td>9</td>\n",
       "      <td>1000_9</td>\n",
       "      <td>2018-08-15</td>\n",
       "      <td>0</td>\n",
       "      <td>1000</td>\n",
       "      <td>0</td>\n",
       "      <td>8</td>\n",
       "      <td>52</td>\n",
       "      <td>0</td>\n",
       "      <td>Краснодар</td>\n",
       "      <td>Рафаил</td>\n",
       "      <td>Верещагин</td>\n",
       "      <td>2018-05-25</td>\n",
       "      <td>ultra</td>\n",
       "      <td>0</td>\n",
       "    </tr>\n",
       "  </tbody>\n",
       "</table>\n",
       "</div>"
      ],
      "text/plain": [
       "       id  call_date  duration  user_id  call_status  month  age churn_date  \\\n",
       "0  1000_0 2018-07-25         0     1000            0      7   52          0   \n",
       "1  1000_1 2018-08-17         0     1000            0      8   52          0   \n",
       "2  1000_2 2018-06-11         3     1000            1      6   52          0   \n",
       "3  1000_3 2018-09-21        14     1000            1      9   52          0   \n",
       "4  1000_4 2018-12-15         6     1000            1     12   52          0   \n",
       "5  1000_5 2018-11-02         0     1000            0     11   52          0   \n",
       "6  1000_6 2018-10-18         0     1000            0     10   52          0   \n",
       "7  1000_7 2018-08-22        19     1000            1      8   52          0   \n",
       "8  1000_8 2018-09-15        19     1000            1      9   52          0   \n",
       "9  1000_9 2018-08-15         0     1000            0      8   52          0   \n",
       "\n",
       "        city first_name  last_name   reg_date tariff_name  user_status  \n",
       "0  Краснодар     Рафаил  Верещагин 2018-05-25       ultra            0  \n",
       "1  Краснодар     Рафаил  Верещагин 2018-05-25       ultra            0  \n",
       "2  Краснодар     Рафаил  Верещагин 2018-05-25       ultra            0  \n",
       "3  Краснодар     Рафаил  Верещагин 2018-05-25       ultra            0  \n",
       "4  Краснодар     Рафаил  Верещагин 2018-05-25       ultra            0  \n",
       "5  Краснодар     Рафаил  Верещагин 2018-05-25       ultra            0  \n",
       "6  Краснодар     Рафаил  Верещагин 2018-05-25       ultra            0  \n",
       "7  Краснодар     Рафаил  Верещагин 2018-05-25       ultra            0  \n",
       "8  Краснодар     Рафаил  Верещагин 2018-05-25       ultra            0  \n",
       "9  Краснодар     Рафаил  Верещагин 2018-05-25       ultra            0  "
      ]
     },
     "execution_count": 88,
     "metadata": {},
     "output_type": "execute_result"
    }
   ],
   "source": [
    "calls_stats.head(10)"
   ]
  },
  {
   "cell_type": "markdown",
   "metadata": {},
   "source": [
    "Видим, что присоединение осуществлено корректно. \n",
    "\n",
    "Определим среднюю продолжительность звонка.\n",
    "\n",
    "Отмечу, что в наших данных содержится большой кусок \"неудачных\" звонков, т.е. тех звонков, которые были инициированы, но которые остались без ответа, так как собеседник, вероятнее всего, просто не взял трубку. Поэтому их продолжительность равна нулю. \n",
    "\n",
    "Значительное количество (что справедливо для нашей ситуации) нулевых значений, не являющихся дефектами и/или аномалиями и не подлежащих удалению, может сильно влиять на распределение показателя, поэтому посчитаем среднюю длительность звонка по каждому тарифу с учётом и без учёта нулевых значений."
   ]
  },
  {
   "cell_type": "code",
   "execution_count": 89,
   "metadata": {},
   "outputs": [
    {
     "data": {
      "image/png": "[encoded data removed]",
      "text/plain": [
       "<Figure size 720x360 with 1 Axes>"
      ]
     },
     "metadata": {
      "needs_background": "light"
     },
     "output_type": "display_data"
    },
    {
     "data": {
      "image/png": "[encoded data removed]",
      "text/plain": [
       "<Figure size 720x360 with 1 Axes>"
      ]
     },
     "metadata": {
      "needs_background": "light"
     },
     "output_type": "display_data"
    }
   ],
   "source": [
    "ax = calls_stats[(calls_stats['tariff_name'] == 'smart') & (calls_stats['duration'] > 0)]\\\n",
    ".pivot_table(index = 'month', \n",
    "values = 'duration', aggfunc = 'mean').plot(y = 'duration', kind = 'bar', figsize = (10, 5), color = 'g', \n",
    "align = 'edge', label = 'smart', \n",
    "title = ('Средняя продолжительность звонка (в минутах) в зависимости от тарифа абонента (без учёта неудачных звонков)'))\n",
    "calls_stats[(calls_stats['tariff_name'] == 'ultra') & (calls_stats['duration'] > 0)]\\\n",
    ".pivot_table(index = 'month', values = 'duration', \n",
    "aggfunc = 'mean').plot(y = 'duration', kind = 'bar', figsize = (10, 5), color = 'r', ax = ax, align = 'center', \n",
    "label = 'ultra')\n",
    "plt.xlabel('Месяцы')\n",
    "plt.ylabel('Среднее количество минут')\n",
    "plt.show()\n",
    "\n",
    "ax = calls_stats[calls_stats['tariff_name'] == 'smart']\\\n",
    ".pivot_table(index = 'month', \n",
    "values = 'duration', aggfunc = 'mean').plot(y = 'duration', kind = 'bar', figsize = (10, 5), color = 'g', \n",
    "align = 'edge', label = 'smart', \n",
    "title = ('Средняя продолжительность звонка (в минутах) в зависимости от тарифа абонента (с учётом неудачных звонков)'))\n",
    "calls_stats[calls_stats['tariff_name'] == 'ultra']\\\n",
    ".pivot_table(index = 'month', values = 'duration', \n",
    "aggfunc = 'mean').plot(y = 'duration', kind = 'bar', figsize = (10, 5), color = 'r', ax = ax, align = 'center', \n",
    "label = 'ultra')\n",
    "plt.xlabel('Месяцы')\n",
    "plt.ylabel('Среднее количество минут')\n",
    "plt.show()"
   ]
  },
  {
   "cell_type": "markdown",
   "metadata": {},
   "source": [
    "Видим, что независимо от принципа учёта нулевых значений и месяца, в среднем длительность разговора абонента с тарифом smart колеблется от 6 до 8 минут, у абонента с тарифом ultra - от 8 до 10 минут."
   ]
  },
  {
   "cell_type": "markdown",
   "metadata": {},
   "source": [
    "Напоследок посмотрим на распределение длительности звонков в нашем наборе данных. Отмечу, что длительность звонка - непрерывная величина, поэтому просто гистограмма для этого не подойдёт. Вместо этого построим график оценки плотности, по виду которого сможем сделать вывод о том, как распределены данные.\n",
    "\n",
    "Для этого напишем соответствующую функцию. Неудачные звонки также не учитываем."
   ]
  },
  {
   "cell_type": "code",
   "execution_count": 120,
   "metadata": {},
   "outputs": [],
   "source": [
    "def distrib_duration_kde(df, column, tariff):\n",
    "    df[(df['tariff_name'] == tariff) & (df[column] > 0)].plot(y = column, kind = 'kde', \n",
    "    figsize = (10, 5),\n",
    "    title = ('Распределение продолжительности звонков для тарифа ' + str(tariff) +  ' без учёта неудачных звонков'))\n",
    "    plt.xlabel('Количество минут')\n",
    "    plt.ylabel('Плотность')"
   ]
  },
  {
   "cell_type": "markdown",
   "metadata": {},
   "source": [
    "Функция готова. Построим график оценки плотности для тарифа smart и ultra."
   ]
  },
  {
   "cell_type": "code",
   "execution_count": 121,
   "metadata": {},
   "outputs": [
    {
     "data": {
      "image/png": "[encoded data removed]",
      "text/plain": [
       "<Figure size 720x360 with 1 Axes>"
      ]
     },
     "metadata": {
      "needs_background": "light"
     },
     "output_type": "display_data"
    },
    {
     "data": {
      "image/png": "[encoded data removed]",
      "text/plain": [
       "<Figure size 720x360 with 1 Axes>"
      ]
     },
     "metadata": {
      "needs_background": "light"
     },
     "output_type": "display_data"
    }
   ],
   "source": [
    "distrib_duration_kde(calls_monthly_stat, 'calls_sum', 'smart')\n",
    "distrib_duration_kde(calls_monthly_stat, 'calls_sum', 'ultra')"
   ]
  },
  {
   "cell_type": "markdown",
   "metadata": {},
   "source": [
    "Видим, что распределение длительности звонков похоже на распределние Пуассона: распределение похоже на нормальное с длинным правым хвостом, в котором лежат малочисленные звонки с высокой продолжительностью разговора."
   ]
  },
  {
   "cell_type": "markdown",
   "metadata": {},
   "source": [
    "## Этап 4.2. Определение необходимого количества сообщений.\n",
    "\n",
    "Делать будем всё то же, что делали на этапе 4.1.\n",
    "\n",
    "Чтобы выяснить среднее необходимое количество минут для пользователя каждого абонента, используем данные из df messages_monthly_stat, в котором собрана информация о суммарном количестве сообщений абонентов в разрезе месяцев 2018 года.\n",
    "\n",
    "Строим графики и определяем среднее количество сообщений, необходимое абоненту в месяц, с учётом его тарифа."
   ]
  },
  {
   "cell_type": "code",
   "execution_count": 92,
   "metadata": {},
   "outputs": [
    {
     "data": {
      "image/png": "[encoded data removed]",
      "text/plain": [
       "<Figure size 720x360 with 1 Axes>"
      ]
     },
     "metadata": {
      "needs_background": "light"
     },
     "output_type": "display_data"
    }
   ],
   "source": [
    "ax = messages_monthly_stat[messages_monthly_stat['tariff_name'] == 'smart']\\\n",
    ".pivot_table(index = 'month', \n",
    "values = 'messages_count', aggfunc = 'mean').plot(y = 'messages_count', kind = 'bar', figsize = (10, 5), color = 'g', \n",
    "align = 'edge', label = 'smart', title = ('Среднее количество сообщений, необходимое абоненту, в зависимости от его тарифа'))\n",
    "messages_monthly_stat[messages_monthly_stat['tariff_name'] == 'ultra']\\\n",
    ".pivot_table(index = 'month', values = 'messages_count', \n",
    "aggfunc = 'mean').plot(y = 'messages_count', kind = 'bar', figsize = (10, 5), color = 'r', ax = ax, align = 'center', \n",
    "label = 'ultra')\n",
    "plt.xlabel('Месяцы')\n",
    "plt.ylabel('Среднее количество сообщений')\n",
    "plt.show()"
   ]
  },
  {
   "cell_type": "markdown",
   "metadata": {},
   "source": [
    "Как и в случае с минутами, видим, что абонентам с тарифом smart в среднем требуется меньше сообщений, чем абонентам с тарифом ultra.\n",
    "\n",
    "Чтобы погрузиться в детали, посчитаем соответствующие статистики. Для этого используем ранее написанную функцию."
   ]
  },
  {
   "cell_type": "code",
   "execution_count": 93,
   "metadata": {},
   "outputs": [
    {
     "data": {
      "text/html": [
       "<div>\n",
       "<style scoped>\n",
       "    .dataframe tbody tr th:only-of-type {\n",
       "        vertical-align: middle;\n",
       "    }\n",
       "\n",
       "    .dataframe tbody tr th {\n",
       "        vertical-align: top;\n",
       "    }\n",
       "\n",
       "    .dataframe thead th {\n",
       "        text-align: right;\n",
       "    }\n",
       "</style>\n",
       "<table border=\"1\" class=\"dataframe\">\n",
       "  <thead>\n",
       "    <tr style=\"text-align: right;\">\n",
       "      <th></th>\n",
       "      <th>tariff_name</th>\n",
       "      <th>count</th>\n",
       "      <th>mean</th>\n",
       "      <th>std</th>\n",
       "      <th>var</th>\n",
       "      <th>min</th>\n",
       "      <th>max</th>\n",
       "    </tr>\n",
       "  </thead>\n",
       "  <tbody>\n",
       "    <tr>\n",
       "      <td>0</td>\n",
       "      <td>smart</td>\n",
       "      <td>1922</td>\n",
       "      <td>38.72</td>\n",
       "      <td>26.79</td>\n",
       "      <td>717.59</td>\n",
       "      <td>1</td>\n",
       "      <td>143</td>\n",
       "    </tr>\n",
       "    <tr>\n",
       "      <td>1</td>\n",
       "      <td>ultra</td>\n",
       "      <td>795</td>\n",
       "      <td>61.16</td>\n",
       "      <td>45.93</td>\n",
       "      <td>2109.66</td>\n",
       "      <td>1</td>\n",
       "      <td>224</td>\n",
       "    </tr>\n",
       "  </tbody>\n",
       "</table>\n",
       "</div>"
      ],
      "text/plain": [
       "  tariff_name  count   mean    std      var  min  max\n",
       "0       smart   1922  38.72  26.79   717.59    1  143\n",
       "1       ultra    795  61.16  45.93  2109.66    1  224"
      ]
     },
     "metadata": {},
     "output_type": "display_data"
    }
   ],
   "source": [
    "statistics(messages_monthly_stat, 'messages_count')"
   ]
  },
  {
   "cell_type": "markdown",
   "metadata": {},
   "source": [
    "Функция позволила узнать, сколько абоненту в среднем требуется сообщений для полноценной жизни в зависимости от его тарифа и месяца: для абонента с тарифом smart - около 40, для абонента с тарифом ultra - около 62. \n",
    "\n",
    "Отмечу, что для всех статистик также характерны высокие значения стандартного отклонения, что указывает на разрозненность использованных сообщений от абонента к абоненту: присутствуют как не очень общительные (1 сообщение в месяц), так и гиперобщительные (224 сообщения в месяц) абоненты. \n",
    "\n",
    "Напоследок посмотрим на распределение количества в нашем наборе данных. Количество сообщений - дискретная величина, поэтому построим обычную гистограмму распределения.\n",
    "\n",
    "Вместе с тем отмечу, что для сообщений можно посчитать распределение их количества в зависимости от, например, от абонента, так как для сообщений нет возможности посчитать сумму чего-то, их можно только сосчитать. \n",
    "\n",
    "Для этого воспользуемся df messages, присоединив к нему df users, чтобы узнать, какой у абонента тариф. Будем использовать присоединение типа left, чтобы не потерять данные из df mesagess.\n",
    "\n",
    "Полученный df назовём messages_stats."
   ]
  },
  {
   "cell_type": "code",
   "execution_count": 94,
   "metadata": {},
   "outputs": [],
   "source": [
    "messages_stats = messages.merge(users, on = 'user_id', how = 'left')"
   ]
  },
  {
   "cell_type": "markdown",
   "metadata": {},
   "source": [
    "Проверим корректность присоединения."
   ]
  },
  {
   "cell_type": "code",
   "execution_count": 95,
   "metadata": {},
   "outputs": [
    {
     "data": {
      "text/html": [
       "<div>\n",
       "<style scoped>\n",
       "    .dataframe tbody tr th:only-of-type {\n",
       "        vertical-align: middle;\n",
       "    }\n",
       "\n",
       "    .dataframe tbody tr th {\n",
       "        vertical-align: top;\n",
       "    }\n",
       "\n",
       "    .dataframe thead th {\n",
       "        text-align: right;\n",
       "    }\n",
       "</style>\n",
       "<table border=\"1\" class=\"dataframe\">\n",
       "  <thead>\n",
       "    <tr style=\"text-align: right;\">\n",
       "      <th></th>\n",
       "      <th>id</th>\n",
       "      <th>message_date</th>\n",
       "      <th>user_id</th>\n",
       "      <th>month</th>\n",
       "      <th>age</th>\n",
       "      <th>churn_date</th>\n",
       "      <th>city</th>\n",
       "      <th>first_name</th>\n",
       "      <th>last_name</th>\n",
       "      <th>reg_date</th>\n",
       "      <th>tariff_name</th>\n",
       "      <th>user_status</th>\n",
       "    </tr>\n",
       "  </thead>\n",
       "  <tbody>\n",
       "    <tr>\n",
       "      <td>0</td>\n",
       "      <td>1000_0</td>\n",
       "      <td>2018-06-27</td>\n",
       "      <td>1000</td>\n",
       "      <td>6</td>\n",
       "      <td>52</td>\n",
       "      <td>0</td>\n",
       "      <td>Краснодар</td>\n",
       "      <td>Рафаил</td>\n",
       "      <td>Верещагин</td>\n",
       "      <td>2018-05-25</td>\n",
       "      <td>ultra</td>\n",
       "      <td>0</td>\n",
       "    </tr>\n",
       "    <tr>\n",
       "      <td>1</td>\n",
       "      <td>1000_1</td>\n",
       "      <td>2018-10-08</td>\n",
       "      <td>1000</td>\n",
       "      <td>10</td>\n",
       "      <td>52</td>\n",
       "      <td>0</td>\n",
       "      <td>Краснодар</td>\n",
       "      <td>Рафаил</td>\n",
       "      <td>Верещагин</td>\n",
       "      <td>2018-05-25</td>\n",
       "      <td>ultra</td>\n",
       "      <td>0</td>\n",
       "    </tr>\n",
       "    <tr>\n",
       "      <td>2</td>\n",
       "      <td>1000_2</td>\n",
       "      <td>2018-08-04</td>\n",
       "      <td>1000</td>\n",
       "      <td>8</td>\n",
       "      <td>52</td>\n",
       "      <td>0</td>\n",
       "      <td>Краснодар</td>\n",
       "      <td>Рафаил</td>\n",
       "      <td>Верещагин</td>\n",
       "      <td>2018-05-25</td>\n",
       "      <td>ultra</td>\n",
       "      <td>0</td>\n",
       "    </tr>\n",
       "    <tr>\n",
       "      <td>3</td>\n",
       "      <td>1000_3</td>\n",
       "      <td>2018-06-16</td>\n",
       "      <td>1000</td>\n",
       "      <td>6</td>\n",
       "      <td>52</td>\n",
       "      <td>0</td>\n",
       "      <td>Краснодар</td>\n",
       "      <td>Рафаил</td>\n",
       "      <td>Верещагин</td>\n",
       "      <td>2018-05-25</td>\n",
       "      <td>ultra</td>\n",
       "      <td>0</td>\n",
       "    </tr>\n",
       "    <tr>\n",
       "      <td>4</td>\n",
       "      <td>1000_4</td>\n",
       "      <td>2018-12-05</td>\n",
       "      <td>1000</td>\n",
       "      <td>12</td>\n",
       "      <td>52</td>\n",
       "      <td>0</td>\n",
       "      <td>Краснодар</td>\n",
       "      <td>Рафаил</td>\n",
       "      <td>Верещагин</td>\n",
       "      <td>2018-05-25</td>\n",
       "      <td>ultra</td>\n",
       "      <td>0</td>\n",
       "    </tr>\n",
       "  </tbody>\n",
       "</table>\n",
       "</div>"
      ],
      "text/plain": [
       "       id message_date  user_id  month  age churn_date       city first_name  \\\n",
       "0  1000_0   2018-06-27     1000      6   52          0  Краснодар     Рафаил   \n",
       "1  1000_1   2018-10-08     1000     10   52          0  Краснодар     Рафаил   \n",
       "2  1000_2   2018-08-04     1000      8   52          0  Краснодар     Рафаил   \n",
       "3  1000_3   2018-06-16     1000      6   52          0  Краснодар     Рафаил   \n",
       "4  1000_4   2018-12-05     1000     12   52          0  Краснодар     Рафаил   \n",
       "\n",
       "   last_name   reg_date tariff_name  user_status  \n",
       "0  Верещагин 2018-05-25       ultra            0  \n",
       "1  Верещагин 2018-05-25       ultra            0  \n",
       "2  Верещагин 2018-05-25       ultra            0  \n",
       "3  Верещагин 2018-05-25       ultra            0  \n",
       "4  Верещагин 2018-05-25       ultra            0  "
      ]
     },
     "execution_count": 95,
     "metadata": {},
     "output_type": "execute_result"
    }
   ],
   "source": [
    "messages_stats.head(5)"
   ]
  },
  {
   "cell_type": "markdown",
   "metadata": {},
   "source": [
    "Видим, что присоединение осуществлено корректно. Посмотрим распределение переменной."
   ]
  },
  {
   "cell_type": "code",
   "execution_count": 96,
   "metadata": {},
   "outputs": [
    {
     "data": {
      "image/png": "[encoded data removed]",
      "text/plain": [
       "<Figure size 720x360 with 1 Axes>"
      ]
     },
     "metadata": {
      "needs_background": "light"
     },
     "output_type": "display_data"
    },
    {
     "data": {
      "image/png": "[encoded data removed]",
      "text/plain": [
       "<Figure size 720x360 with 1 Axes>"
      ]
     },
     "metadata": {
      "needs_background": "light"
     },
     "output_type": "display_data"
    }
   ],
   "source": [
    "messages_stats[messages_stats['tariff_name'] == 'smart'].pivot_table(index = 'user_id', values = 'id', aggfunc = 'count')\\\n",
    ".plot(y = 'id', kind = 'hist', bins = 30, figsize = (10, 5),\n",
    "title = ('Распределение количества сообщений для тарифа smart'))\n",
    "plt.xlabel('Количество сообщений')\n",
    "plt.ylabel('Плотность')\n",
    "messages_stats[messages_stats['tariff_name'] == 'ultra'].pivot_table(index = 'user_id', values = 'id', aggfunc = 'count')\\\n",
    ".plot(y = 'id', kind = 'hist', bins = 30, figsize = (10, 5),\n",
    "title = ('Распределение количества сообщений для тарифа ultra'))\n",
    "plt.xlabel('Количество сообщений')\n",
    "plt.ylabel('Плотность')\n",
    "plt.show()"
   ]
  },
  {
   "cell_type": "markdown",
   "metadata": {},
   "source": [
    "Для обоих тарифов распределение напоминает пуассоновское с длинным правым хвостом."
   ]
  },
  {
   "cell_type": "markdown",
   "metadata": {},
   "source": [
    "## Этап 4.3. Определение необходимого объёма интернет-трафика.\n",
    "\n",
    "Действуем аналогично этапу 4.1. \n",
    "\n",
    "Отмечу, что для в случае с интернет-трафиков в наборе данных имеются нулевые значения в виде, возможно, неудачных интернет-сессий, поэтому будем строить графики и считать статистики с учётом и без учёта нулей (возвращется params).\n",
    "\n",
    "Сначала присоединим к df internet df users, чтобы узнать, какой у абонента тариф. Будем использовать присоединение типа left, чтобы не потерять данные из df mesagess.\n",
    "\n",
    "Полученный df назовём internet_stats."
   ]
  },
  {
   "cell_type": "markdown",
   "metadata": {},
   "source": [
    "Выясним среднее необходимое количество МБ для абонента для обоих тарифов."
   ]
  },
  {
   "cell_type": "code",
   "execution_count": 97,
   "metadata": {},
   "outputs": [
    {
     "data": {
      "image/png": "[encoded data removed]",
      "text/plain": [
       "<Figure size 720x360 with 1 Axes>"
      ]
     },
     "metadata": {
      "needs_background": "light"
     },
     "output_type": "display_data"
    }
   ],
   "source": [
    "ax = internet_monthly_stat[(internet_monthly_stat['tariff_name'] == 'smart') & (internet_monthly_stat['mb_used_sum'] > 0)]\\\n",
    ".pivot_table(index = 'month', \n",
    "values = 'mb_used_sum', aggfunc = 'mean').plot(y = 'mb_used_sum', kind = 'bar', figsize = (10, 5), color = 'g', \n",
    "align = 'edge', label = 'smart', title = ('Среднее количество МБ, необходимое абоненту, в зависимости от его тарифа'))\n",
    "internet_monthly_stat[(internet_monthly_stat['tariff_name'] == 'ultra') & (internet_monthly_stat['mb_used_sum'] > 0)]\\\n",
    ".pivot_table(index = 'month', values = 'mb_used_sum', \n",
    "aggfunc = 'mean').plot(y = 'mb_used_sum', kind = 'bar', figsize = (10, 5), color = 'r', ax = ax, align = 'center', \n",
    "label = 'ultra')\n",
    "plt.xlabel('Месяцы')\n",
    "plt.ylabel('Среднее количество МБ')\n",
    "plt.show()"
   ]
  },
  {
   "cell_type": "markdown",
   "metadata": {},
   "source": [
    "Как и в случае с минутами, видим, что абонентам с тарифом smart в среднем требуется меньше МБ, чем абонентам с тарифом ultra.\n",
    "\n",
    "Чтобы погрузиться в детали, посчитаем соответствующие статистики. Для этого воспользуемся ранее написанной функцией."
   ]
  },
  {
   "cell_type": "code",
   "execution_count": 98,
   "metadata": {},
   "outputs": [
    {
     "data": {
      "text/html": [
       "<div>\n",
       "<style scoped>\n",
       "    .dataframe tbody tr th:only-of-type {\n",
       "        vertical-align: middle;\n",
       "    }\n",
       "\n",
       "    .dataframe tbody tr th {\n",
       "        vertical-align: top;\n",
       "    }\n",
       "\n",
       "    .dataframe thead th {\n",
       "        text-align: right;\n",
       "    }\n",
       "</style>\n",
       "<table border=\"1\" class=\"dataframe\">\n",
       "  <thead>\n",
       "    <tr style=\"text-align: right;\">\n",
       "      <th></th>\n",
       "      <th>tariff_name</th>\n",
       "      <th>count</th>\n",
       "      <th>mean</th>\n",
       "      <th>std</th>\n",
       "      <th>var</th>\n",
       "      <th>min</th>\n",
       "      <th>max</th>\n",
       "    </tr>\n",
       "  </thead>\n",
       "  <tbody>\n",
       "    <tr>\n",
       "      <td>0</td>\n",
       "      <td>smart</td>\n",
       "      <td>2227</td>\n",
       "      <td>16243.76</td>\n",
       "      <td>5860.04</td>\n",
       "      <td>34340091.55</td>\n",
       "      <td>202</td>\n",
       "      <td>38610</td>\n",
       "    </tr>\n",
       "    <tr>\n",
       "      <td>1</td>\n",
       "      <td>ultra</td>\n",
       "      <td>974</td>\n",
       "      <td>19706.98</td>\n",
       "      <td>9937.13</td>\n",
       "      <td>98746498.93</td>\n",
       "      <td>366</td>\n",
       "      <td>49789</td>\n",
       "    </tr>\n",
       "  </tbody>\n",
       "</table>\n",
       "</div>"
      ],
      "text/plain": [
       "  tariff_name  count      mean      std          var  min    max\n",
       "0       smart   2227  16243.76  5860.04  34340091.55  202  38610\n",
       "1       ultra    974  19706.98  9937.13  98746498.93  366  49789"
      ]
     },
     "metadata": {},
     "output_type": "display_data"
    }
   ],
   "source": [
    "statistics(internet_monthly_stat, 'mb_used_sum')"
   ]
  },
  {
   "cell_type": "markdown",
   "metadata": {},
   "source": [
    "Функция позволила узнать, сколько абоненту в среднем требуется МБ для полноценной жизни в зависимости от его тарифа: для абонента с тарифом smart - около 5900 МБ, для абонента с тарифом ultra - от 9400 МБ. \n",
    "\n",
    "Отмечу, что для всех статистик характерны высокие значения стандартного отклонения, что указывает на разрозненность использованных МБ от абонента к абоненту: присутствуют как не очень активные (около 202 МБ в месяц), так и гиперактивные (около 49789 МБ в месяц) абоненты. \n",
    "\n",
    "Также было бы интересно посмотреть на средний объём МБ, расходуемый за 1 интернет-сессию. \n",
    "\n",
    "Для этого присоединим к df internet df users, чтобы узнать, какой у абонента тариф. Будем использовать присоединение типа left, чтобы не потерять данные из df mesagess.\n",
    "\n",
    "Полученный df назовём internet_stats."
   ]
  },
  {
   "cell_type": "code",
   "execution_count": 99,
   "metadata": {},
   "outputs": [],
   "source": [
    "internet_stats = internet.merge(users, on = 'user_id', how = 'left')"
   ]
  },
  {
   "cell_type": "markdown",
   "metadata": {},
   "source": [
    "Проверим корректность присоединения."
   ]
  },
  {
   "cell_type": "code",
   "execution_count": 100,
   "metadata": {},
   "outputs": [
    {
     "data": {
      "text/html": [
       "<div>\n",
       "<style scoped>\n",
       "    .dataframe tbody tr th:only-of-type {\n",
       "        vertical-align: middle;\n",
       "    }\n",
       "\n",
       "    .dataframe tbody tr th {\n",
       "        vertical-align: top;\n",
       "    }\n",
       "\n",
       "    .dataframe thead th {\n",
       "        text-align: right;\n",
       "    }\n",
       "</style>\n",
       "<table border=\"1\" class=\"dataframe\">\n",
       "  <thead>\n",
       "    <tr style=\"text-align: right;\">\n",
       "      <th></th>\n",
       "      <th>id</th>\n",
       "      <th>mb_used</th>\n",
       "      <th>session_date</th>\n",
       "      <th>user_id</th>\n",
       "      <th>session_status</th>\n",
       "      <th>month</th>\n",
       "      <th>age</th>\n",
       "      <th>churn_date</th>\n",
       "      <th>city</th>\n",
       "      <th>first_name</th>\n",
       "      <th>last_name</th>\n",
       "      <th>reg_date</th>\n",
       "      <th>tariff_name</th>\n",
       "      <th>user_status</th>\n",
       "    </tr>\n",
       "  </thead>\n",
       "  <tbody>\n",
       "    <tr>\n",
       "      <td>0</td>\n",
       "      <td>1000_0</td>\n",
       "      <td>113</td>\n",
       "      <td>2018-11-25</td>\n",
       "      <td>1000</td>\n",
       "      <td>1</td>\n",
       "      <td>11</td>\n",
       "      <td>52</td>\n",
       "      <td>0</td>\n",
       "      <td>Краснодар</td>\n",
       "      <td>Рафаил</td>\n",
       "      <td>Верещагин</td>\n",
       "      <td>2018-05-25</td>\n",
       "      <td>ultra</td>\n",
       "      <td>0</td>\n",
       "    </tr>\n",
       "    <tr>\n",
       "      <td>1</td>\n",
       "      <td>1000_1</td>\n",
       "      <td>1053</td>\n",
       "      <td>2018-09-07</td>\n",
       "      <td>1000</td>\n",
       "      <td>1</td>\n",
       "      <td>9</td>\n",
       "      <td>52</td>\n",
       "      <td>0</td>\n",
       "      <td>Краснодар</td>\n",
       "      <td>Рафаил</td>\n",
       "      <td>Верещагин</td>\n",
       "      <td>2018-05-25</td>\n",
       "      <td>ultra</td>\n",
       "      <td>0</td>\n",
       "    </tr>\n",
       "    <tr>\n",
       "      <td>2</td>\n",
       "      <td>1000_2</td>\n",
       "      <td>1198</td>\n",
       "      <td>2018-06-25</td>\n",
       "      <td>1000</td>\n",
       "      <td>1</td>\n",
       "      <td>6</td>\n",
       "      <td>52</td>\n",
       "      <td>0</td>\n",
       "      <td>Краснодар</td>\n",
       "      <td>Рафаил</td>\n",
       "      <td>Верещагин</td>\n",
       "      <td>2018-05-25</td>\n",
       "      <td>ultra</td>\n",
       "      <td>0</td>\n",
       "    </tr>\n",
       "    <tr>\n",
       "      <td>3</td>\n",
       "      <td>1000_3</td>\n",
       "      <td>551</td>\n",
       "      <td>2018-08-22</td>\n",
       "      <td>1000</td>\n",
       "      <td>1</td>\n",
       "      <td>8</td>\n",
       "      <td>52</td>\n",
       "      <td>0</td>\n",
       "      <td>Краснодар</td>\n",
       "      <td>Рафаил</td>\n",
       "      <td>Верещагин</td>\n",
       "      <td>2018-05-25</td>\n",
       "      <td>ultra</td>\n",
       "      <td>0</td>\n",
       "    </tr>\n",
       "    <tr>\n",
       "      <td>4</td>\n",
       "      <td>1000_4</td>\n",
       "      <td>303</td>\n",
       "      <td>2018-09-24</td>\n",
       "      <td>1000</td>\n",
       "      <td>1</td>\n",
       "      <td>9</td>\n",
       "      <td>52</td>\n",
       "      <td>0</td>\n",
       "      <td>Краснодар</td>\n",
       "      <td>Рафаил</td>\n",
       "      <td>Верещагин</td>\n",
       "      <td>2018-05-25</td>\n",
       "      <td>ultra</td>\n",
       "      <td>0</td>\n",
       "    </tr>\n",
       "  </tbody>\n",
       "</table>\n",
       "</div>"
      ],
      "text/plain": [
       "       id  mb_used session_date  user_id  session_status  month  age  \\\n",
       "0  1000_0      113   2018-11-25     1000               1     11   52   \n",
       "1  1000_1     1053   2018-09-07     1000               1      9   52   \n",
       "2  1000_2     1198   2018-06-25     1000               1      6   52   \n",
       "3  1000_3      551   2018-08-22     1000               1      8   52   \n",
       "4  1000_4      303   2018-09-24     1000               1      9   52   \n",
       "\n",
       "  churn_date       city first_name  last_name   reg_date tariff_name  \\\n",
       "0          0  Краснодар     Рафаил  Верещагин 2018-05-25       ultra   \n",
       "1          0  Краснодар     Рафаил  Верещагин 2018-05-25       ultra   \n",
       "2          0  Краснодар     Рафаил  Верещагин 2018-05-25       ultra   \n",
       "3          0  Краснодар     Рафаил  Верещагин 2018-05-25       ultra   \n",
       "4          0  Краснодар     Рафаил  Верещагин 2018-05-25       ultra   \n",
       "\n",
       "   user_status  \n",
       "0            0  \n",
       "1            0  \n",
       "2            0  \n",
       "3            0  \n",
       "4            0  "
      ]
     },
     "execution_count": 100,
     "metadata": {},
     "output_type": "execute_result"
    }
   ],
   "source": [
    "internet_stats.head(5)"
   ]
  },
  {
   "cell_type": "markdown",
   "metadata": {},
   "source": [
    "Видим, что присоединение осуществлено корректно. Определим среднее количество МБ, расходуемых за 1 интернет-сессию с учётом и без учёта неудачных интернет-сессий."
   ]
  },
  {
   "cell_type": "code",
   "execution_count": 101,
   "metadata": {},
   "outputs": [
    {
     "data": {
      "image/png": "[encoded data removed]",
      "text/plain": [
       "<Figure size 720x360 with 1 Axes>"
      ]
     },
     "metadata": {
      "needs_background": "light"
     },
     "output_type": "display_data"
    },
    {
     "data": {
      "image/png": "[encoded data removed]",
      "text/plain": [
       "<Figure size 720x360 with 1 Axes>"
      ]
     },
     "metadata": {
      "needs_background": "light"
     },
     "output_type": "display_data"
    }
   ],
   "source": [
    "ax = internet_stats[(internet_stats['tariff_name'] == 'smart') & (internet_stats['mb_used'] > 0)]\\\n",
    ".pivot_table(index = 'month', \n",
    "values = 'mb_used', aggfunc = 'mean').plot(y = 'mb_used', kind = 'bar', figsize = (10, 5), color = 'g', \n",
    "align = 'edge', label = 'smart', \n",
    "title = ('Средний объём МБ, израсходованный за 1 сессию, в зависимости от тарифа абонента (без учёта неудачных звонков)'))\n",
    "internet_stats[(internet_stats['tariff_name'] == 'ultra') & (internet_stats['mb_used'] > 0)]\\\n",
    ".pivot_table(index = 'month', values = 'mb_used', \n",
    "aggfunc = 'mean').plot(y = 'mb_used', kind = 'bar', figsize = (10, 5), color = 'r', ax = ax, align = 'center', \n",
    "label = 'ultra')\n",
    "plt.xlabel('Месяцы')\n",
    "plt.ylabel('Среднее количество МБ')\n",
    "plt.show()\n",
    "\n",
    "ax = internet_stats[internet_stats['tariff_name'] == 'smart']\\\n",
    ".pivot_table(index = 'month', \n",
    "values = 'mb_used', aggfunc = 'mean').plot(y = 'mb_used', kind = 'bar', figsize = (10, 5), color = 'g', \n",
    "align = 'edge', label = 'smart', \n",
    "title = ('Средний объём МБ, израсходованный за 1 сессию, в зависимости от тарифа абонента (с учётом неудачных звонков)'))\n",
    "internet_stats[internet_stats['tariff_name'] == 'ultra']\\\n",
    ".pivot_table(index = 'month', values = 'mb_used', \n",
    "aggfunc = 'mean').plot(y = 'mb_used', kind = 'bar', figsize = (10, 5), color = 'r', ax = ax, align = 'center', \n",
    "label = 'ultra')\n",
    "plt.xlabel('Месяцы')\n",
    "plt.ylabel('Среднее количество МБ')\n",
    "plt.show()"
   ]
  },
  {
   "cell_type": "markdown",
   "metadata": {},
   "source": [
    "Видим, что в среднем объём МБ, израсходованных за 1 сессию, абонента с тарифом smart колеблется от 380 до 390 МБ, у абонента с тарифом ultra - от 480 до 520 МБ."
   ]
  },
  {
   "cell_type": "markdown",
   "metadata": {},
   "source": [
    "Напоследок посмотрим на распределение количества использованных МБ в нашем наборе данных. Отмечу, что использованные МБ - непрерывная величина, поэтому просто гистограмма для этого не подойдёт. Вместо этого построим график оценки плотности, по виду которого сможем сделать вывод о том, как распределены данные.\n",
    "\n",
    "Для этого адаптируем соответствующую функцию из этапа 4.1."
   ]
  },
  {
   "cell_type": "code",
   "execution_count": 124,
   "metadata": {},
   "outputs": [],
   "source": [
    "def distrib_mb_kde(df, column, tariff):\n",
    "    df[(df['tariff_name'] == tariff) & (df[column] > 0)].plot(y = column, kind = 'kde', \n",
    "    figsize = (10, 5),\n",
    "    title = ('Распределение объёма использованных МБ для тарифа ' + str(tariff)))\n",
    "    plt.xlabel('Количество минут')\n",
    "    plt.ylabel('Плотность')"
   ]
  },
  {
   "cell_type": "markdown",
   "metadata": {},
   "source": [
    "Функция готова. Построим график оценки плотности для тарифа smart и ultra."
   ]
  },
  {
   "cell_type": "code",
   "execution_count": 126,
   "metadata": {},
   "outputs": [
    {
     "data": {
      "image/png": "[encoded data removed]",
      "text/plain": [
       "<Figure size 720x360 with 1 Axes>"
      ]
     },
     "metadata": {
      "needs_background": "light"
     },
     "output_type": "display_data"
    },
    {
     "data": {
      "image/png": "[encoded data removed]",
      "text/plain": [
       "<Figure size 720x360 with 1 Axes>"
      ]
     },
     "metadata": {
      "needs_background": "light"
     },
     "output_type": "display_data"
    }
   ],
   "source": [
    "distrib_mb_kde(internet_monthly_stat, 'mb_used_sum', 'smart')\n",
    "distrib_mb_kde(internet_monthly_stat, 'mb_used_sum', 'ultra')"
   ]
  },
  {
   "cell_type": "markdown",
   "metadata": {},
   "source": [
    "Видим, что распределение объёма использованных МБ похоже на распределние Пуассона: распределение похоже на нормальное с длинным правым хвостом, в котором лежат малочисленные сессии с высоким объёмом использованных МБ."
   ]
  },
  {
   "cell_type": "markdown",
   "metadata": {},
   "source": [
    "# Вывод по этапу 4.\n",
    "\n",
    "На данном этапе необходимо было определить помесячно необходимые размеры услуг (минуты, сообщения и МБ), для кажой услуги посчитать среднее значение, дисперсию и стандартное отклонение, а также построить гистограммы и описать распределения.\n",
    "\n",
    "Задания выполнялись преимущественно за счёт написания функций подсчёта статистик и построения гистограмм и графиков. Анализировалось распределение как непрерывных, так и дискретных переменных: в основном все исследуемые переменные имели распределение Пуассона с длинным правым хвостом, в котором собирались редкие абоненты, использующие тариф наиболее интенсивно (долгие звонки, длительные интернет-сессии, большое количество сообщений).\n",
    "\n",
    "Опытным путём было доказано, что наличие большого количества нулевых значений (неудачный звонок или интернет-сессия) смещают распределение переменной и статистики разброса.\n",
    "\n",
    "Были определены следующие оптимальные параметры услуг:\n",
    "\n",
    "- количество минут: для абонента с тарифом smart - около 420, для абонента с тарифом ultra - около 550;\n",
    "\n",
    "\n",
    "- количество МБ: для абонента с тарифом smart - около 5900 МБ, для абонента с тарифом ultra - от 9400 МБ;\n",
    "\n",
    "\n",
    "- количество сообщений: для абонента с тарифом smart - около 40, для абонента с тарифом ultra - около 62.\n",
    "\n",
    "\n",
    "В качестве управленческого решения я бы рекомендовал брать верхнюю или среднюю границу при формировании кампаний продаж.\n",
    "\n",
    "\n",
    "Вместе с тем, глядя на высокое стандартнное отклонение, можно сказать, что выборки неоднородные, так как в выборке есть как малоактивные (около 7 минут в месяц, 1 сообщение в месяц и около 539 МБ в месяц), так и гиперактивные (около 1485 минут в месяц, 224 сообщения в месяц и около 43893 МБ в месяц) абоненты.\n",
    "\n",
    "Также было установлено, что:\n",
    "\n",
    "- средняя продолжительность разговара абонента с тарифом smart колеблется от 6 до 8 минут, у абонента с тарифом ultra - от 8 до 10 минут;\n",
    "\n",
    "\n",
    "- средний объём МБ, израсходованных за 1 сессию, у абонента с тарифом smart колеблется от 380 до 390 МБ, у абонента с тарифом ultra - от 480 до 520 МБ."
   ]
  },
  {
   "cell_type": "markdown",
   "metadata": {},
   "source": [
    "# Этап 5. Построение гипотез и их проверка.\n",
    "\n",
    "На данном этапе нам необходимо проверить следующие гипотезы:\n",
    "\n",
    "\n",
    "- средние платежи абонентов тарифов «Ультра» и «Смарт» различаются;\n",
    "\n",
    "- средние платежи абонентов из Москвы отличаются от средних платежей абонентов из других регионов.\n",
    "\n",
    "## Этап 5.1. Проверка гипотезы \"Средние платежи абонентов тарифов «Ультра» и «Смарт» различаются\".\n",
    "\n",
    "Информация о платежах абонентов находится в df monthly_income. Посмотрим его первые 5 строк."
   ]
  },
  {
   "cell_type": "code",
   "execution_count": 104,
   "metadata": {},
   "outputs": [
    {
     "data": {
      "text/html": [
       "<div>\n",
       "<style scoped>\n",
       "    .dataframe tbody tr th:only-of-type {\n",
       "        vertical-align: middle;\n",
       "    }\n",
       "\n",
       "    .dataframe tbody tr th {\n",
       "        vertical-align: top;\n",
       "    }\n",
       "\n",
       "    .dataframe thead th {\n",
       "        text-align: right;\n",
       "    }\n",
       "</style>\n",
       "<table border=\"1\" class=\"dataframe\">\n",
       "  <thead>\n",
       "    <tr style=\"text-align: right;\">\n",
       "      <th></th>\n",
       "      <th>user_id</th>\n",
       "      <th>month</th>\n",
       "      <th>tariff_name</th>\n",
       "      <th>rub_monthly_fee</th>\n",
       "      <th>calls_monthly_add_income</th>\n",
       "      <th>mb_monthly_add_income</th>\n",
       "      <th>messages_monthly_add_income</th>\n",
       "      <th>total_income</th>\n",
       "    </tr>\n",
       "  </thead>\n",
       "  <tbody>\n",
       "    <tr>\n",
       "      <td>0</td>\n",
       "      <td>1000</td>\n",
       "      <td>5</td>\n",
       "      <td>ultra</td>\n",
       "      <td>1950</td>\n",
       "      <td>0</td>\n",
       "      <td>0</td>\n",
       "      <td>0</td>\n",
       "      <td>1950</td>\n",
       "    </tr>\n",
       "    <tr>\n",
       "      <td>1</td>\n",
       "      <td>1000</td>\n",
       "      <td>6</td>\n",
       "      <td>ultra</td>\n",
       "      <td>1950</td>\n",
       "      <td>0</td>\n",
       "      <td>0</td>\n",
       "      <td>0</td>\n",
       "      <td>1950</td>\n",
       "    </tr>\n",
       "    <tr>\n",
       "      <td>2</td>\n",
       "      <td>1000</td>\n",
       "      <td>7</td>\n",
       "      <td>ultra</td>\n",
       "      <td>1950</td>\n",
       "      <td>0</td>\n",
       "      <td>0</td>\n",
       "      <td>0</td>\n",
       "      <td>1950</td>\n",
       "    </tr>\n",
       "    <tr>\n",
       "      <td>3</td>\n",
       "      <td>1000</td>\n",
       "      <td>8</td>\n",
       "      <td>ultra</td>\n",
       "      <td>1950</td>\n",
       "      <td>0</td>\n",
       "      <td>0</td>\n",
       "      <td>0</td>\n",
       "      <td>1950</td>\n",
       "    </tr>\n",
       "    <tr>\n",
       "      <td>4</td>\n",
       "      <td>1000</td>\n",
       "      <td>9</td>\n",
       "      <td>ultra</td>\n",
       "      <td>1950</td>\n",
       "      <td>0</td>\n",
       "      <td>0</td>\n",
       "      <td>0</td>\n",
       "      <td>1950</td>\n",
       "    </tr>\n",
       "  </tbody>\n",
       "</table>\n",
       "</div>"
      ],
      "text/plain": [
       "   user_id  month tariff_name  rub_monthly_fee  calls_monthly_add_income  \\\n",
       "0     1000      5       ultra             1950                         0   \n",
       "1     1000      6       ultra             1950                         0   \n",
       "2     1000      7       ultra             1950                         0   \n",
       "3     1000      8       ultra             1950                         0   \n",
       "4     1000      9       ultra             1950                         0   \n",
       "\n",
       "   mb_monthly_add_income  messages_monthly_add_income  total_income  \n",
       "0                      0                            0          1950  \n",
       "1                      0                            0          1950  \n",
       "2                      0                            0          1950  \n",
       "3                      0                            0          1950  \n",
       "4                      0                            0          1950  "
      ]
     },
     "execution_count": 104,
     "metadata": {},
     "output_type": "execute_result"
    }
   ],
   "source": [
    "monthly_income.head(5)"
   ]
  },
  {
   "cell_type": "markdown",
   "metadata": {},
   "source": [
    "Для проверки гипотез нам не хватает двух признаков: тариф абонента и город его проживания. Поэтому добавим к этому df df users, в качестве ключа используем поле user_id, тип присоединения - left, так как все строки в df monthly_income должны в нём остаться."
   ]
  },
  {
   "cell_type": "code",
   "execution_count": 105,
   "metadata": {},
   "outputs": [],
   "source": [
    "monthly_income = monthly_income.merge(users, on = 'user_id', how = 'left')"
   ]
  },
  {
   "cell_type": "markdown",
   "metadata": {},
   "source": [
    "Проверим корректность присоединения."
   ]
  },
  {
   "cell_type": "code",
   "execution_count": 106,
   "metadata": {},
   "outputs": [
    {
     "data": {
      "text/html": [
       "<div>\n",
       "<style scoped>\n",
       "    .dataframe tbody tr th:only-of-type {\n",
       "        vertical-align: middle;\n",
       "    }\n",
       "\n",
       "    .dataframe tbody tr th {\n",
       "        vertical-align: top;\n",
       "    }\n",
       "\n",
       "    .dataframe thead th {\n",
       "        text-align: right;\n",
       "    }\n",
       "</style>\n",
       "<table border=\"1\" class=\"dataframe\">\n",
       "  <thead>\n",
       "    <tr style=\"text-align: right;\">\n",
       "      <th></th>\n",
       "      <th>user_id</th>\n",
       "      <th>month</th>\n",
       "      <th>tariff_name_x</th>\n",
       "      <th>rub_monthly_fee</th>\n",
       "      <th>calls_monthly_add_income</th>\n",
       "      <th>mb_monthly_add_income</th>\n",
       "      <th>messages_monthly_add_income</th>\n",
       "      <th>total_income</th>\n",
       "      <th>age</th>\n",
       "      <th>churn_date</th>\n",
       "      <th>city</th>\n",
       "      <th>first_name</th>\n",
       "      <th>last_name</th>\n",
       "      <th>reg_date</th>\n",
       "      <th>tariff_name_y</th>\n",
       "      <th>user_status</th>\n",
       "    </tr>\n",
       "  </thead>\n",
       "  <tbody>\n",
       "    <tr>\n",
       "      <td>0</td>\n",
       "      <td>1000</td>\n",
       "      <td>5</td>\n",
       "      <td>ultra</td>\n",
       "      <td>1950</td>\n",
       "      <td>0</td>\n",
       "      <td>0</td>\n",
       "      <td>0</td>\n",
       "      <td>1950</td>\n",
       "      <td>52</td>\n",
       "      <td>0</td>\n",
       "      <td>Краснодар</td>\n",
       "      <td>Рафаил</td>\n",
       "      <td>Верещагин</td>\n",
       "      <td>2018-05-25</td>\n",
       "      <td>ultra</td>\n",
       "      <td>0</td>\n",
       "    </tr>\n",
       "    <tr>\n",
       "      <td>1</td>\n",
       "      <td>1000</td>\n",
       "      <td>6</td>\n",
       "      <td>ultra</td>\n",
       "      <td>1950</td>\n",
       "      <td>0</td>\n",
       "      <td>0</td>\n",
       "      <td>0</td>\n",
       "      <td>1950</td>\n",
       "      <td>52</td>\n",
       "      <td>0</td>\n",
       "      <td>Краснодар</td>\n",
       "      <td>Рафаил</td>\n",
       "      <td>Верещагин</td>\n",
       "      <td>2018-05-25</td>\n",
       "      <td>ultra</td>\n",
       "      <td>0</td>\n",
       "    </tr>\n",
       "    <tr>\n",
       "      <td>2</td>\n",
       "      <td>1000</td>\n",
       "      <td>7</td>\n",
       "      <td>ultra</td>\n",
       "      <td>1950</td>\n",
       "      <td>0</td>\n",
       "      <td>0</td>\n",
       "      <td>0</td>\n",
       "      <td>1950</td>\n",
       "      <td>52</td>\n",
       "      <td>0</td>\n",
       "      <td>Краснодар</td>\n",
       "      <td>Рафаил</td>\n",
       "      <td>Верещагин</td>\n",
       "      <td>2018-05-25</td>\n",
       "      <td>ultra</td>\n",
       "      <td>0</td>\n",
       "    </tr>\n",
       "    <tr>\n",
       "      <td>3</td>\n",
       "      <td>1000</td>\n",
       "      <td>8</td>\n",
       "      <td>ultra</td>\n",
       "      <td>1950</td>\n",
       "      <td>0</td>\n",
       "      <td>0</td>\n",
       "      <td>0</td>\n",
       "      <td>1950</td>\n",
       "      <td>52</td>\n",
       "      <td>0</td>\n",
       "      <td>Краснодар</td>\n",
       "      <td>Рафаил</td>\n",
       "      <td>Верещагин</td>\n",
       "      <td>2018-05-25</td>\n",
       "      <td>ultra</td>\n",
       "      <td>0</td>\n",
       "    </tr>\n",
       "    <tr>\n",
       "      <td>4</td>\n",
       "      <td>1000</td>\n",
       "      <td>9</td>\n",
       "      <td>ultra</td>\n",
       "      <td>1950</td>\n",
       "      <td>0</td>\n",
       "      <td>0</td>\n",
       "      <td>0</td>\n",
       "      <td>1950</td>\n",
       "      <td>52</td>\n",
       "      <td>0</td>\n",
       "      <td>Краснодар</td>\n",
       "      <td>Рафаил</td>\n",
       "      <td>Верещагин</td>\n",
       "      <td>2018-05-25</td>\n",
       "      <td>ultra</td>\n",
       "      <td>0</td>\n",
       "    </tr>\n",
       "  </tbody>\n",
       "</table>\n",
       "</div>"
      ],
      "text/plain": [
       "   user_id  month tariff_name_x  rub_monthly_fee  calls_monthly_add_income  \\\n",
       "0     1000      5         ultra             1950                         0   \n",
       "1     1000      6         ultra             1950                         0   \n",
       "2     1000      7         ultra             1950                         0   \n",
       "3     1000      8         ultra             1950                         0   \n",
       "4     1000      9         ultra             1950                         0   \n",
       "\n",
       "   mb_monthly_add_income  messages_monthly_add_income  total_income  age  \\\n",
       "0                      0                            0          1950   52   \n",
       "1                      0                            0          1950   52   \n",
       "2                      0                            0          1950   52   \n",
       "3                      0                            0          1950   52   \n",
       "4                      0                            0          1950   52   \n",
       "\n",
       "  churn_date       city first_name  last_name   reg_date tariff_name_y  \\\n",
       "0          0  Краснодар     Рафаил  Верещагин 2018-05-25         ultra   \n",
       "1          0  Краснодар     Рафаил  Верещагин 2018-05-25         ultra   \n",
       "2          0  Краснодар     Рафаил  Верещагин 2018-05-25         ultra   \n",
       "3          0  Краснодар     Рафаил  Верещагин 2018-05-25         ultra   \n",
       "4          0  Краснодар     Рафаил  Верещагин 2018-05-25         ultra   \n",
       "\n",
       "   user_status  \n",
       "0            0  \n",
       "1            0  \n",
       "2            0  \n",
       "3            0  \n",
       "4            0  "
      ]
     },
     "execution_count": 106,
     "metadata": {},
     "output_type": "execute_result"
    }
   ],
   "source": [
    "monthly_income.head(5)"
   ]
  },
  {
   "cell_type": "markdown",
   "metadata": {},
   "source": [
    "Для проверки гипотезы необходимо сформировать 2 среза данных: в 1 будут данные о платежах абонентов с тарифом smart, во втором - с тарифом ultra."
   ]
  },
  {
   "cell_type": "code",
   "execution_count": 107,
   "metadata": {},
   "outputs": [],
   "source": [
    "monthly_income_smart = monthly_income.query('tariff_name_x == \"smart\"')['total_income']\n",
    "monthly_income_ultra = monthly_income.query('tariff_name_x == \"ultra\"')['total_income']"
   ]
  },
  {
   "cell_type": "markdown",
   "metadata": {},
   "source": [
    "Формулируем нулевую гипотезу H0: средние платежи абонентов тарифа smart не отличаются от средних платежей абонентов тарифа ultra.\n",
    "    \n",
    "Формулируем альтернативную гипотезу H1: средние платежи абонентов тарифа smart отличаются от средних платежей абонентов тарифа ultra.\n",
    "\n",
    "Нулевая гипотеза формируется таким образом, чтобы результат проверки был для нас ожидаем и неизменен: если мы проверям отличие между двумя средними, нулевая гипотеза должна быть сформирована таким образом, что различий между средними не должно быть.\n",
    "\n",
    "Условимся, что будем использовать уровень значимости 0.05 для проверки гипотез.\n",
    "\n",
    "Теперь необходимо выбрать подходящий критерий проверки гипотезы. Для этого нужно понять, с каким распределением мы имеем дело - нормальным или отличным от нормального.\n",
    "\n",
    "Чтобы это проверить, воспользуемся normaltest из библиотеки scipy.stats.\n",
    "\n",
    "Гипотеза H0 - данные в выборке распределены нормально.\n",
    "\n",
    "Гипотеза H1 - данные в выборке распределены ненормально.\n",
    "\n",
    "Также для проверки гипотез нужно преобразовать срезы из типа Series в массив Array. Для этого воспользуемся методом .values."
   ]
  },
  {
   "cell_type": "code",
   "execution_count": 108,
   "metadata": {},
   "outputs": [],
   "source": [
    "monthly_income_smart = monthly_income_smart.values\n",
    "monthly_income_ultra = monthly_income_ultra.values"
   ]
  },
  {
   "cell_type": "code",
   "execution_count": 109,
   "metadata": {},
   "outputs": [
    {
     "data": {
      "text/plain": [
       "<IntegerArray>\n",
       "[1350,  550,  550, 1150, 1550,  950,  550, 1350, 1150,  550,\n",
       " ...\n",
       "  550, 1685,  550, 2386, 1950, 1750,  550, 1150, 1513,  598]\n",
       "Length: 2229, dtype: Int64"
      ]
     },
     "execution_count": 109,
     "metadata": {},
     "output_type": "execute_result"
    }
   ],
   "source": [
    "monthly_income_smart"
   ]
  },
  {
   "cell_type": "code",
   "execution_count": 110,
   "metadata": {},
   "outputs": [
    {
     "data": {
      "text/plain": [
       "<IntegerArray>\n",
       "[1950, 1950, 1950, 1950, 1950, 1950, 1950, 1950, 1950, 1950,\n",
       " ...\n",
       " 1950, 1950, 1950, 1950, 3750, 1950, 2400, 1950, 3300, 1950]\n",
       "Length: 985, dtype: Int64"
      ]
     },
     "execution_count": 110,
     "metadata": {},
     "output_type": "execute_result"
    }
   ],
   "source": [
    "monthly_income_ultra"
   ]
  },
  {
   "cell_type": "markdown",
   "metadata": {},
   "source": [
    "Видим, что наши срезы успешно преобразованы в массив целочисленных значений. Можно приступать к проверке гипотезы. \n",
    "\n",
    "Проверим, нормально ли распределены данные в monthly_income_smart."
   ]
  },
  {
   "cell_type": "code",
   "execution_count": 111,
   "metadata": {},
   "outputs": [
    {
     "name": "stdout",
     "output_type": "stream",
     "text": [
      "p-значение: 3.5831328523562226e-133\n",
      "Нулевая гипотеза опровергнута\n"
     ]
    }
   ],
   "source": [
    "alpha = 0.05\n",
    "results = st.normaltest(monthly_income_smart)\n",
    "print('p-значение:', results.pvalue)\n",
    "if results.pvalue < alpha:\n",
    "    print('Нулевая гипотеза опровергнута')\n",
    "else:\n",
    "    print('Нулевая гипотеза подтверждена')"
   ]
  },
  {
   "cell_type": "markdown",
   "metadata": {},
   "source": [
    "Аналогичную процедуру проведём для monthly_income_ultra."
   ]
  },
  {
   "cell_type": "code",
   "execution_count": 112,
   "metadata": {},
   "outputs": [
    {
     "name": "stdout",
     "output_type": "stream",
     "text": [
      "p-значение: 4.746179665237487e-169\n",
      "Нулевая гипотеза опровергнута\n"
     ]
    }
   ],
   "source": [
    "alpha = 0.05\n",
    "results = st.normaltest(monthly_income_ultra)\n",
    "print('p-значение:', results.pvalue)\n",
    "if results.pvalue < alpha:\n",
    "    print('Нулевая гипотеза опровергнута')\n",
    "else:\n",
    "    print('Нулевая гипотеза подтверждена')"
   ]
  },
  {
   "cell_type": "markdown",
   "metadata": {},
   "source": [
    "Проверка гипотез показала, что при заданном уровне значимости распределение данных отличается от нормальных.\n",
    "\n",
    "Таким образом, мы имеем 2 независимые друг от друга группы, данные в которых не подчиняются нормальному закону распределения. Следовательно, для проверки гипотезы о равенстве или различии средних платежей абонентов разных тарифов используем критерий Манна-Уитни."
   ]
  },
  {
   "cell_type": "code",
   "execution_count": 113,
   "metadata": {},
   "outputs": [
    {
     "name": "stdout",
     "output_type": "stream",
     "text": [
      "Среднее значение платежей абонентов тарифа smart: 1294.64\n",
      "Среднее значение платежей абонентов тарифа ultra: 2071.07\n",
      "p-значение: 4.8813241860052426e-186\n",
      "Нулевая гипотеза опровергнута\n"
     ]
    }
   ],
   "source": [
    "alpha = 0.05\n",
    "results = st.mannwhitneyu(monthly_income_smart, monthly_income_ultra)\n",
    "print('Среднее значение платежей абонентов тарифа smart:', round(np.mean(monthly_income_smart), 2))\n",
    "print('Среднее значение платежей абонентов тарифа ultra:', round(np.mean(monthly_income_ultra), 2))\n",
    "print('p-значение:', results.pvalue)\n",
    "if results.pvalue < alpha:\n",
    "    print('Нулевая гипотеза опровергнута')\n",
    "else:\n",
    "    print('Нулевая гипотеза подтверждена')"
   ]
  },
  {
   "cell_type": "markdown",
   "metadata": {},
   "source": [
    "Нулевая гипотеза о равенстве средних платежей абонентов тарифа smart и ultra опровергнута, следовательно, средние платежи абонентов тарифов smart и ultra отличаются, что видно также из посчитанных значений средних платажей по каждому тарифу: абоненты с тарифом ultra в среднем платят почти в 2 раза больше, чем абоненты с тарифом smart."
   ]
  },
  {
   "cell_type": "markdown",
   "metadata": {},
   "source": [
    "## Этап 5.2. Проверка гипотезы \"Средние платежи абонентов из Москвы отличаются от средних платежей абонентов из других регионов\".\n",
    "\n",
    "Как и на прошлом этапе, сначала сделаем 2 среза из df monthly_income: в первом оставим абонентов, проживающих в Москве, во втором - абонентов из других регионов. Затем преобразуем значения поля total_income в массив."
   ]
  },
  {
   "cell_type": "code",
   "execution_count": 114,
   "metadata": {},
   "outputs": [],
   "source": [
    "monthly_income_Moskow = monthly_income.query('city == \"Москва\"')['total_income'].values\n",
    "monthly_income_not_Moskow = monthly_income.query('city != \"Москва\"')['total_income'].values"
   ]
  },
  {
   "cell_type": "markdown",
   "metadata": {},
   "source": [
    "Проверим корректность действий."
   ]
  },
  {
   "cell_type": "code",
   "execution_count": 115,
   "metadata": {},
   "outputs": [
    {
     "data": {
      "text/plain": [
       "<IntegerArray>\n",
       "[1350,  550, 1950, 1950, 1950, 1950, 1950,  550, 1150,  685,\n",
       " ...\n",
       "  950,  550, 1750, 1550,  586,  950,  550, 1750, 1350,  750]\n",
       "Length: 611, dtype: Int64"
      ]
     },
     "execution_count": 115,
     "metadata": {},
     "output_type": "execute_result"
    }
   ],
   "source": [
    "monthly_income_Moskow"
   ]
  },
  {
   "cell_type": "code",
   "execution_count": 116,
   "metadata": {},
   "outputs": [
    {
     "data": {
      "text/plain": [
       "<IntegerArray>\n",
       "[1950, 1950, 1950, 1950, 1950, 1950, 1950, 1950,  550, 1150,\n",
       " ...\n",
       "  550, 1685,  550, 2386, 1950, 1750,  550, 1150, 1513,  598]\n",
       "Length: 2603, dtype: Int64"
      ]
     },
     "execution_count": 116,
     "metadata": {},
     "output_type": "execute_result"
    }
   ],
   "source": [
    "monthly_income_not_Moskow"
   ]
  },
  {
   "cell_type": "markdown",
   "metadata": {},
   "source": [
    "Видим, что преобразования прошли успешно.\n",
    "\n",
    "Формулируем нулевую гипотезу H0: средние платежи абонентов из Москвы не отличаются от средних платежей абонентов из других регионов.\n",
    "    \n",
    "Формулируем альтернативную гипотезу H1: средние платежи абонентов из Москвы отличаются от средних платежей абонентов из других регионов.\n",
    "\n",
    "Так как в текущих массивах содержатся иные данные, в теории, они могут быть распределены иначе. Поэтому также проверим гипотезу о нормальном распределении данных в массивах.\n",
    "\n",
    "Сформулируем гипотезы.\n",
    "\n",
    "Гипотеза H0 - данные в выборке распределены нормально.\n",
    "\n",
    "Гипотеза H1 - данные в выборке распределены ненормально.\n",
    "\n",
    "Используем normaltest из библиотеки scipy.stats и проверим распределение данных в monthly_income_Moskow.\n"
   ]
  },
  {
   "cell_type": "code",
   "execution_count": 117,
   "metadata": {},
   "outputs": [
    {
     "name": "stdout",
     "output_type": "stream",
     "text": [
      "p-значение: 1.5954168769104095e-06\n",
      "Нулевая гипотеза опровергнута\n"
     ]
    }
   ],
   "source": [
    "alpha = 0.05\n",
    "results = st.normaltest(monthly_income_Moskow)\n",
    "print('p-значение:', results.pvalue)\n",
    "if results.pvalue < alpha:\n",
    "    print('Нулевая гипотеза опровергнута')\n",
    "else:\n",
    "    print('Нулевая гипотеза подтверждена')"
   ]
  },
  {
   "cell_type": "markdown",
   "metadata": {},
   "source": [
    "Аналогичную проверку сделаем для monthly_income_not_Moskow."
   ]
  },
  {
   "cell_type": "code",
   "execution_count": 118,
   "metadata": {},
   "outputs": [
    {
     "name": "stdout",
     "output_type": "stream",
     "text": [
      "p-значение: 2.0334812753767884e-73\n",
      "Нулевая гипотеза опровергнута\n"
     ]
    }
   ],
   "source": [
    "alpha = 0.05\n",
    "results = st.normaltest(monthly_income_not_Moskow)\n",
    "print('p-значение:', results.pvalue)\n",
    "if results.pvalue < alpha:\n",
    "    print('Нулевая гипотеза опровергнута')\n",
    "else:\n",
    "    print('Нулевая гипотеза подтверждена')"
   ]
  },
  {
   "cell_type": "markdown",
   "metadata": {},
   "source": [
    "Видим, что нулевые гипотезы опровергнуты и что распределение данных в массиве отлично от нормального, поэтому также используем критерий критерий Манна-Уитни."
   ]
  },
  {
   "cell_type": "code",
   "execution_count": 119,
   "metadata": {},
   "outputs": [
    {
     "name": "stdout",
     "output_type": "stream",
     "text": [
      "Среднее значение платежей абонентов из Москвы: 1550.81\n",
      "Среднее значение платежей абонентов из иных регионов: 1528.32\n",
      "p-значение: 0.19208767770645735\n",
      "Нулевая гипотеза подтверждена\n"
     ]
    }
   ],
   "source": [
    "alpha = 0.05\n",
    "results = st.mannwhitneyu(monthly_income_Moskow, monthly_income_not_Moskow)\n",
    "print('Среднее значение платежей абонентов из Москвы:', round(np.mean(monthly_income_Moskow), 2))\n",
    "print('Среднее значение платежей абонентов из иных регионов:', round(np.mean(monthly_income_not_Moskow), 2))\n",
    "print('p-значение:', results.pvalue)\n",
    "if results.pvalue < alpha:\n",
    "    print('Нулевая гипотеза опровергнута')\n",
    "else:\n",
    "    print('Нулевая гипотеза подтверждена')"
   ]
  },
  {
   "cell_type": "markdown",
   "metadata": {},
   "source": [
    "Видим, что на заданном уровне значимости нулевая гипотеза не может быть отвергнута: средние платежи абонентов из Москвы не отличаются от средних платежей абонентов из других регионов. Это также видно из рассчитанных значений средних платежей: абоненты из Москвы платят чуть больше, чем абоненты из других регионов, однако в целом разбежка получается небольшой."
   ]
  },
  {
   "cell_type": "markdown",
   "metadata": {},
   "source": [
    "# Вывод по этапу 5.\n",
    "\n",
    "На данном этапе требовалось проверить гипотезы:\n",
    "\n",
    "- средние платежи абонентов тарифов «Ультра» и «Смарт» различаются;\n",
    "\n",
    "\n",
    "- средние платежи абонентов из Москвы отличаются от средних платежей абонентов из других регионов.\n",
    "\n",
    "Сначала были сформированы срезы данных для проверки этих гипотез, затем срезы были преобразованы в массивы с помощью метода values.\n",
    "\n",
    "Перед выбором статистического критерия, с помощью которого мы бы проверяли гипотезы, необходимо было выяснить, как распределены данные в массивах. Для этого мы сформулировали гипотезы о нормальном или ненормальном распределении данных в массивах и проверили их с помощью normaltest. Это позволило прийти к выводу о том, что данные в массивах не подчиняются нормальному закону распределения.\n",
    "\n",
    "Так как данные не подчиняются нормальному закону распределения, являются количественными, содержатся в 2 независивых друг от друга группах, было принято решение использовать критерий Манна-Уитни для проверки гипотез.\n",
    "\n",
    "Нулевая гипотеза о том, что средние платежи абонентов тарифов «Ультра» и «Смарт» не различаются, была отвергнута: абоненты с тарифом ultra в среднем платят почти в 2 раза больше, чем абоненты с тарифом smart.\n",
    "\n",
    "Нулевая гипотеза о том, что средние платежи абонентов из Москвы не отличаются от средних платежей абонентов из других регионов, была подтверждена: абоненты из Москвы платят чуть больше, чем абоненты из других регионов, однако в целом разбежка получается небольшой."
   ]
  },
  {
   "cell_type": "markdown",
   "metadata": {},
   "source": [
    "# Общий вывод по проекту.\n",
    "\n",
    "В рамках проекта имелись данные компании «Мегалайн» о 500 пользователях и их активности за 2018 год по следующим **направлениям**:\n",
    "\n",
    "- информация о пользователях;\n",
    "\n",
    "\n",
    "- информация о звонках;\n",
    "\n",
    "\n",
    "- информация о сообщениях;\n",
    "\n",
    "\n",
    "- информация об интернет-сессиях;\n",
    "\n",
    "\n",
    "- информация о тарифах.\n",
    "\n",
    "В рамках проекта с помощью исходных данных требовалось рассчитать следующие дополнительные **параметры**:\n",
    "\n",
    "- количество сделанных звонков и израсходованных минут разговора по месяцам;\n",
    "\n",
    "\n",
    "- количество отправленных сообщений по месяцам;\n",
    "\n",
    "\n",
    "- объем израсходованного интернет-трафика по месяцам;\n",
    "\n",
    "\n",
    "- помесячную выручку с каждого пользователя.\n",
    "\n",
    "\n",
    "**Целью проекта** являлось определение наиболее рентабельного тарифа из предлагаемых компанией - «Смарт» или «Ультра», а также наиболее значимого с точки зрения формирования дохода региона - Москва или другие регионы.\n",
    "\n",
    "**Решение**, выработанное в рамках проекта, позволит коммерческому департаменту «Мегалайн» приниять верное управленческое решение о приоритизации эффективного тарифного плана и скорректировать кампании продаж в целях **максимизации прибыли**.\n",
    "\n",
    "Для этого было необходимо:\n",
    "\n",
    "1. Ответить на следующие **вопросы:**\n",
    "\n",
    "\n",
    "- Сколько минут разговора требуется пользователям каждого тарифа в месяц?\n",
    "\n",
    "\n",
    "- Сколько сообщений требуется пользователям каждого тарифа в месяц?\n",
    "\n",
    "\n",
    "- Какой объём интернет-трафика требуется пользователям каждого тарифа в месяц?\n",
    "\n",
    "Также необходимо было посчитать среднее значение, дисперсию и стандартное отклонение для каждого ответа, а также построить гистограммы и описать распределения.\n",
    "\n",
    "2. Подтвердить или опровергнуть следующие **гипотезы**:\n",
    "\n",
    "\n",
    "- средние платежи абонентов тарифов «Ультра» и «Смарт» различаются;\n",
    "\n",
    "\n",
    "- средние платежи абонентов из Москвы отличаются от средних платежей абонентов из других регионов.\n",
    "\n",
    "В рамках выполнения проекта были выполнены следующие **действия**:\n",
    "\n",
    "1. Чтение данных, их изучение, поиск аномальных и пропущенных значений в данных.\n",
    "\n",
    "\n",
    "2. Преобразование типов данных, обработка пропущенных и аномальных значений.\n",
    "\n",
    "\n",
    "3. Расчёт дополнительных параметров.\n",
    "\n",
    "\n",
    "4. Анализ данных.\n",
    "\n",
    "\n",
    "5. Построение гипотез и их проверка.\n",
    "\n",
    "**Этап 1. Чтение данных, их изучение, поиск аномальных и пропущенных значений в данных.**\n",
    "\n",
    "\n",
    "В рамках данного этапа были прочитаны предложенные наборы данных, а также произведено их первичное исследование: изучены первые 10 записей в каждом df, получена общая информация о df и информация о его размерах, посчитано количество пропущенных значений в каждом поле df, а также изучены уникальные записи в каждом поле исследуемого df.\n",
    "\n",
    "Для автоматизации исследовательского процесса была написана соответствующая функция.\n",
    "\n",
    "В качестве наиболее важных результатов исследования можно отметить:\n",
    "\n",
    "1. Аномальные значения поля duration в df calls: поле описывает длительность звонка в минутах, и для 39613 звонков их длительность составляет 0 минут. \n",
    "\n",
    "\n",
    "2. Аномальные значения поля mb_used в df internet: поле описывает количество МБ, израсходованных за одну интернет-сессию, и для 19598 интернет-сессий количество израсходованных МБ равняется 0. \n",
    "\n",
    "\n",
    "3. Пропущенные значения в поле churn_date в df users: поле описывает дату отключения абонента от тарифа, и для 462 абонентов это поле не заполнено. Исходя из семантического смысла поля, можно заключить, что пропуски в этом поле не являются проблемным значением, так как такие абоненты не отключали свои тарифы на момент формирования наборов данных.\n",
    "\n",
    "\n",
    "4. Данные в полях duration и mb_used в df calls и internet соответственно дают количественную характеристику интенсивности использования абонентами своих тарифов в части звонков и сообщений, при этом даннные в этих полях представлены в виде десятичной дроби (тип данных float). Однако на практике удобнее говорить о таких вещах, когда они сведены к целому значению. Например, абонент за месяц израсходовал 350 минут и 500 МБ интернета, а не 349.78 минут и 499.57 МБ соответственно. Поэтому логичным кажется преобразование этих полей в целочисленное значение с типом данных int.\n",
    "\n",
    "\n",
    "5. Данные поля call_date в df calls, поля session_date в df internet, поля message_date в df messages, полей churn_date и reg_date в df users приведены в типе str, хотя семантически отражают дату того или иного события. Поэтому их нужно преобразовать в формат datetime.\n",
    "\n",
    "**Этап 2. Преобразование типов данных, обработка пропущенных и аномальных значений.**\n",
    "\n",
    "\n",
    "На данном этапе была произведена предварительная обработка данных, которая заключалась в:\n",
    "\n",
    "- преобразовании типов данных;\n",
    "\n",
    "\n",
    "- обработке пропущенных значений;\n",
    "\n",
    "\n",
    "- обработке аномальных значений.\n",
    "\n",
    "В рамках преобразования типов данных были преобразованы данные в поле duration в df calls и поле mb_used в df internet, поля call_date в df calls, поля session_date в df internet, поля message_date в df messages, полей churn_date и reg_date в df users.\n",
    "\n",
    "Данные в этих полях описывают длительность звонка в количество израсходованных МБ во время интернет-сессии. Так как корректнее использовать целочисленные значения для измерения этих параметров, они были преобразованы из типа float в тип int, что позволило округлить дробные значения.\n",
    "\n",
    "Данные поля call_date в df calls, поля session_date в df internet, поля message_date в df messages, полей churn_date и reg_date в df users были преобразованы из типа str в тип datatime за счёт применения соответствующей функции.\n",
    "\n",
    "В рамках обработки пропущенных значений исследовалось поле churn_date в df users. Это поле описывает дату, когда абонент закрыл свой тариф в компании. Следовательно, если для абонента это поле не заполнено, аботнент ещё не отказался от тарифа и на момент формирования набора данных сотрудничает с компанией, если значение в поле заполнено - абонент закрыл тариф и ушёл в отток. \n",
    "\n",
    "Так как нам важно понимать статус абонента - ушедший или действующий - пропуски в поле churn_date не обрабатывались, а на основе поле churn_date было создано поле user_status, которое содержит значение 0, если абонент ещё не закрыл свой тариф, и значение 1, если абонент ушёл в отток. Для этого была написана соответствующая функция.\n",
    "\n",
    "Были сделаны следующие предположения:\n",
    "\n",
    "- если поле duration в df calls имеет значение 0, значит, вызов был неудачный: абонент сделал вызов, но собеседник не поднял трубку, следовательно, звонок был совершён, но абонент не потратил минуты;\n",
    "\n",
    "\n",
    "- если поле mb_used в df internet имеет значение 0, значит, сессия была неудачной: абонент совершил попытку начать интернет-сессию, однако мог столкнуться с какой-либо ошибкой или проблемой (например, находился в месте, где телефон не принимает сигнал вышки), следовательно, сессия была начата, но МБ не были израсходованы.\n",
    "\n",
    "С учётом этой логики в df были добавлены новые поля: call_status в df calls и session_status в df internet, для этого была написана соответствующая функция. \n",
    "\n",
    "В случае если длительность звонка/количество израсходованных МБ равно нулю, в соответствующем поле проставляется отметка о том, что звонок/сессия неудачные, а если длительность звонка/количество израсходованных МБ больше нуля, в соответствующем поле проставляется отметка о том, что звонок/сессия удачные, а данные соответствующим образом маркируются.\n",
    "\n",
    "\n",
    "**Этап 3. Расчёт дополнительных параметров.**\n",
    "\n",
    "\n",
    "На данном этапе на основе имеющихся данных были рассчитаны дополнительные параметры:\n",
    "\n",
    "- количество сделанных звонков и израсходованных минут разговора по месяцам;\n",
    "\n",
    "\n",
    "- количество отправленных сообщений по месяцам;\n",
    "\n",
    "\n",
    "- объем израсходованного интернет-трафика по месяцам;\n",
    "\n",
    "\n",
    "- помесячная выручка.\n",
    "\n",
    "При расчёте ппомесячной выручки рассчитывались помесячные платежи абонентов за использование абонентами минут, сообщений и МБ интернета, не включённых в их тариф, а также величина абонентской планы, вносимая ежемесячно.\n",
    "\n",
    "**Этап 4. Анализ данных.**\n",
    "\n",
    "На данном этапе необходимо было определить помесячно необходимые размеры услуг (минуты, сообщения и МБ), для кажой услуги посчитать среднее значение, дисперсию и стандартное отклонение, а также построить гистограммы и описать распределения.\n",
    "\n",
    "Задания выполнялись преимущественно за счёт написания функций подсчёта статистик и построения гистограмм и графиков. Анализировалось распределение как непрерывных, так и дискретных переменных: в основном все исследуемые переменные имели распределение Пуассона с длинным правым хвостом, в котором собирались редкие абоненты, использующие тариф наиболее интенсивно (долгие звонки, длительные интернет-сессии, большое количество сообщений).\n",
    "\n",
    "Опытным путём было доказано, что наличие большого количества нулевых значений (неудачный звонок или интернет-сессия) смещают распределение переменной и статистики разброса.\n",
    "\n",
    "Были определены следующие оптимальные параметры услуг:\n",
    "\n",
    "- количество минут: для абонента с тарифом smart - около 420, для абонента с тарифом ultra - около 550;\n",
    "\n",
    "\n",
    "- количество МБ: для абонента с тарифом smart - около 5900 МБ, для абонента с тарифом ultra - от 9400 МБ;\n",
    "\n",
    "\n",
    "- количество сообщений: для абонента с тарифом smart - около 40, для абонента с тарифом ultra - около 62.\n",
    "\n",
    "\n",
    "В качестве управленческого решения я бы рекомендовал брать верхнюю или среднюю границу при формировании кампаний продаж.\n",
    "\n",
    "\n",
    "Вместе с тем, глядя на высокое стандартнное отклонение, можно сказать, что выборки неоднородные, так как в выборке есть как малоактивные (около 1 минуты в месяц, 1 сообщение в месяц и около 202 МБ в месяц), так и гиперактивные (около 1673 минуты в месяц, 224 сообщения в месяц и около 49789 МБ в месяц) абоненты.\n",
    "\n",
    "Также было установлено, что:\n",
    "\n",
    "- средняя продолжительность разговара абонента с тарифом smart колеблется от 6 до 8 минут, у абонента с тарифом ultra - от 8 до 10 минут;\n",
    "\n",
    "\n",
    "- средний объём МБ, израсходованных за 1 сессию, у абонента с тарифом smart колеблется от 380 до 390 МБ, у абонента с тарифом ultra - от 480 до 520 МБ.\n",
    "\n",
    "**Этап 5. Построение гипотез и их проверка.**\n",
    "\n",
    "\n",
    "На данном этапе требовалось проверить гипотезы:\n",
    "\n",
    "- средние платежи абонентов тарифов «Ультра» и «Смарт» различаются;\n",
    "\n",
    "\n",
    "- средние платежи абонентов из Москвы отличаются от средних платежей абонентов из других регионов.\n",
    "\n",
    "Сначала были сформированы срезы данных для проверки этих гипотез, затем срезы были преобразованы в массивы с помощью метода values.\n",
    "\n",
    "Перед выбором статистического критерия, с помощью которого мы бы проверяли гипотезы, необходимо было выяснить, как распределены данные в массивах. Для этого мы сформулировали гипотезы о нормальном или ненормальном распределении данных в массивах и проверили их с помощью normaltest. Это позволило прийти к выводу о том, что данные в массивах не подчиняются нормальному закону распределения.\n",
    "\n",
    "Так как данные не подчиняются нормальному закону распределения, являются количественными, содержатся в 2 независивых друг от друга группах, было принято решение использовать критерий Манна-Уитни для проверки гипотез.\n",
    "\n",
    "Нулевая гипотеза о том, что средние платежи абонентов тарифов «Ультра» и «Смарт» не различаются, была отвергнута: абоненты с тарифом ultra в среднем платят почти в 2 раза больше, чем абоненты с тарифом smart.\n",
    "\n",
    "Нулевая гипотеза о том, что средние платежи абонентов из Москвы не отличаются от средних платежей абонентов из других регионов, была подтверждена: абоненты из Москвы платят чуть больше, чем абоненты из других регионов, однако в целом разбежка получается небольшой."
   ]
  }
 ],
 "metadata": {
  "kernelspec": {
   "display_name": "Python 3",
   "language": "python",
   "name": "python3"
  },
  "language_info": {
   "codemirror_mode": {
    "name": "ipython",
    "version": 3
   },
   "file_extension": ".py",
   "mimetype": "text/x-python",
   "name": "python",
   "nbconvert_exporter": "python",
   "pygments_lexer": "ipython3",
   "version": "3.8.3"
  },
  "toc": {
   "base_numbering": 1,
   "nav_menu": {},
   "number_sections": true,
   "sideBar": true,
   "skip_h1_title": true,
   "title_cell": "Table of Contents",
   "title_sidebar": "Contents",
   "toc_cell": false,
   "toc_position": {},
   "toc_section_display": true,
   "toc_window_display": false
  }
 },
 "nbformat": 4,
 "nbformat_minor": 2
}
